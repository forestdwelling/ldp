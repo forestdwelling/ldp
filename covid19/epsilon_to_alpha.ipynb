{
 "cells": [
  {
   "cell_type": "code",
   "execution_count": 33,
   "source": [
    "import numpy as np\n",
    "from math import exp, log\n",
    "import matplotlib.pyplot as plt\n",
    "from tqdm import tqdm"
   ],
   "outputs": [],
   "metadata": {}
  },
  {
   "cell_type": "code",
   "execution_count": 62,
   "source": [
    "def epsilon_to_alpha(epsilon, distance, pi, precision=1e-15):\n",
    "\n",
    "    ldp_max_p = 0\n",
    "    for v in range(d):\n",
    "        for y in range(d):\n",
    "            p_mat = np.full(d, 1/(exp(epsilon) + d - 1))\n",
    "            p_mat[y] = exp(epsilon)/(exp(epsilon) + d - 1)\n",
    "            ldp_p = (pi[v]*p_mat[y])/np.dot(pi, p_mat)\n",
    "            if ldp_p > ldp_max_p:\n",
    "                ldp_max_p = ldp_p\n",
    "    if ldp_max_p == 1:\n",
    "        print('Reaching the probability boundary.')\n",
    "        return\n",
    "\n",
    "    l = 0\n",
    "    r = epsilon\n",
    "    cldp_max_p = 0\n",
    "    while (cldp_max_p > ldp_max_p) or (r - l >= precision):\n",
    "        alpha = (l + r)/2\n",
    "        cldp_max_p = 0\n",
    "        for v in range(d):\n",
    "            for y in range(d):\n",
    "                p_mat = np.exp(-alpha*distance[:, y]/2)\n",
    "                p_mat /= p_mat.sum()\n",
    "                cldp_p = (pi[v]*p_mat[y])/np.dot(pi, p_mat)\n",
    "                if cldp_p > cldp_max_p:\n",
    "                    cldp_max_p = cldp_p\n",
    "        if cldp_max_p == ldp_max_p:\n",
    "            break\n",
    "        elif cldp_max_p < ldp_max_p:\n",
    "            l = alpha\n",
    "        else:\n",
    "            r = alpha\n",
    "\n",
    "    return alpha"
   ],
   "outputs": [],
   "metadata": {}
  },
  {
   "cell_type": "code",
   "execution_count": 63,
   "source": [
    "def alpha_to_epsilon(alpha, distance, pi, precision=1e-15):\n",
    "\n",
    "    cldp_max_p = 0\n",
    "    for v in range(d):\n",
    "        for y in range(d):\n",
    "            p_mat = np.exp(-alpha*np.abs(np.arange(d) - y)/2)\n",
    "            p_mat /= p_mat.sum()\n",
    "            cldp_p = (pi[v]*p_mat[y])/np.dot(pi, p_mat)\n",
    "            if cldp_p > cldp_max_p:\n",
    "                cldp_max_p = cldp_p\n",
    "\n",
    "    l = 0\n",
    "    r = 50\n",
    "    ldp_max_p = 0\n",
    "    while (cldp_max_p > ldp_max_p) or (r - l >= precision):\n",
    "        epsilon = (l + r)/2\n",
    "        ldp_max_p = 0\n",
    "        for v in range(d):\n",
    "            for y in range(d):\n",
    "                p_mat = np.full(d, 1/(exp(epsilon) + d - 1))\n",
    "                p_mat[y] = exp(epsilon)/(exp(epsilon) + d - 1)\n",
    "                ldp_p = (pi[v]*p_mat[y])/np.dot(pi, p_mat)\n",
    "                if ldp_p > ldp_max_p:\n",
    "                    ldp_max_p = ldp_p\n",
    "        if ldp_max_p == 1:\n",
    "            print('Reaching the probability boundary.')\n",
    "            return\n",
    "        if cldp_max_p == ldp_max_p:\n",
    "            break\n",
    "        elif cldp_max_p < ldp_max_p:\n",
    "            r = epsilon\n",
    "        else:\n",
    "            l = epsilon\n",
    "\n",
    "    return epsilon"
   ],
   "outputs": [],
   "metadata": {}
  },
  {
   "cell_type": "markdown",
   "source": [
    "## 1-Dimension"
   ],
   "metadata": {}
  },
  {
   "cell_type": "code",
   "execution_count": 65,
   "source": [
    "d = 100\n",
    "pi = np.full(d, 1/d)\n",
    "\n",
    "universe = np.arange(d)\n",
    "distance = np.zeros((d, d))\n",
    "for i in range(d):\n",
    "    distance[i] = np.abs(i - universe)"
   ],
   "outputs": [],
   "metadata": {}
  },
  {
   "cell_type": "markdown",
   "source": [
    "## 2-Dimention"
   ],
   "metadata": {}
  },
  {
   "cell_type": "code",
   "execution_count": 75,
   "source": [
    "import pandas as pd\n",
    "\n",
    "d = 900\n",
    "pi = np.full(d, 1/d)\n",
    "\n",
    "loc = pd.read_csv('../T-drive/release/xy_loc.csv')\n",
    "\n",
    "distance = np.zeros((d, d))\n",
    "for i in range(d):\n",
    "    distance[i] = np.sqrt(np.square(loc.iloc[i]['x'] - loc['x'].to_numpy()) + np.square(loc.iloc[i]['y'] - loc['y'].to_numpy()))"
   ],
   "outputs": [],
   "metadata": {}
  },
  {
   "cell_type": "markdown",
   "source": [
    "## Epsilon to alpha"
   ],
   "metadata": {}
  },
  {
   "cell_type": "code",
   "execution_count": 76,
   "source": [
    "epsilon_range = np.arange(1, 11, 1)\n",
    "alpha_range = []\n",
    "for epsilon in tqdm(epsilon_range):\n",
    "    alpha_range.append(epsilon_to_alpha(epsilon, distance, pi))\n",
    "x = epsilon_range\n",
    "plt.plot(x, alpha_range, 'D-', markersize=10, markerfacecolor='none', markeredgewidth=2.5, color='deepskyblue')\n",
    "plt.xticks(x)\n",
    "plt.xlabel('Epsilon')\n",
    "plt.ylabel('Alpha')\n",
    "plt.grid(linestyle='-.')\n",
    "plt.show()"
   ],
   "outputs": [
    {
     "output_type": "stream",
     "name": "stderr",
     "text": [
      "  0%|          | 0/10 [04:58<?, ?it/s]\n"
     ]
    },
    {
     "output_type": "error",
     "ename": "KeyboardInterrupt",
     "evalue": "",
     "traceback": [
      "\u001b[0;31m---------------------------------------------------------------------------\u001b[0m",
      "\u001b[0;31mKeyboardInterrupt\u001b[0m                         Traceback (most recent call last)",
      "\u001b[0;32m/tmp/ipykernel_12582/2368777967.py\u001b[0m in \u001b[0;36m<module>\u001b[0;34m\u001b[0m\n\u001b[1;32m      2\u001b[0m \u001b[0malpha_range\u001b[0m \u001b[0;34m=\u001b[0m \u001b[0;34m[\u001b[0m\u001b[0;34m]\u001b[0m\u001b[0;34m\u001b[0m\u001b[0;34m\u001b[0m\u001b[0m\n\u001b[1;32m      3\u001b[0m \u001b[0;32mfor\u001b[0m \u001b[0mepsilon\u001b[0m \u001b[0;32min\u001b[0m \u001b[0mtqdm\u001b[0m\u001b[0;34m(\u001b[0m\u001b[0mepsilon_range\u001b[0m\u001b[0;34m)\u001b[0m\u001b[0;34m:\u001b[0m\u001b[0;34m\u001b[0m\u001b[0;34m\u001b[0m\u001b[0m\n\u001b[0;32m----> 4\u001b[0;31m     \u001b[0malpha_range\u001b[0m\u001b[0;34m.\u001b[0m\u001b[0mappend\u001b[0m\u001b[0;34m(\u001b[0m\u001b[0mepsilon_to_alpha\u001b[0m\u001b[0;34m(\u001b[0m\u001b[0mepsilon\u001b[0m\u001b[0;34m,\u001b[0m \u001b[0mdistance\u001b[0m\u001b[0;34m,\u001b[0m \u001b[0mpi\u001b[0m\u001b[0;34m)\u001b[0m\u001b[0;34m)\u001b[0m\u001b[0;34m\u001b[0m\u001b[0;34m\u001b[0m\u001b[0m\n\u001b[0m\u001b[1;32m      5\u001b[0m \u001b[0mx\u001b[0m \u001b[0;34m=\u001b[0m \u001b[0mepsilon_range\u001b[0m\u001b[0;34m\u001b[0m\u001b[0;34m\u001b[0m\u001b[0m\n\u001b[1;32m      6\u001b[0m \u001b[0mplt\u001b[0m\u001b[0;34m.\u001b[0m\u001b[0mplot\u001b[0m\u001b[0;34m(\u001b[0m\u001b[0mx\u001b[0m\u001b[0;34m,\u001b[0m \u001b[0malpha_range\u001b[0m\u001b[0;34m,\u001b[0m \u001b[0;34m'D-'\u001b[0m\u001b[0;34m,\u001b[0m \u001b[0mmarkersize\u001b[0m\u001b[0;34m=\u001b[0m\u001b[0;36m10\u001b[0m\u001b[0;34m,\u001b[0m \u001b[0mmarkerfacecolor\u001b[0m\u001b[0;34m=\u001b[0m\u001b[0;34m'none'\u001b[0m\u001b[0;34m,\u001b[0m \u001b[0mmarkeredgewidth\u001b[0m\u001b[0;34m=\u001b[0m\u001b[0;36m2.5\u001b[0m\u001b[0;34m,\u001b[0m \u001b[0mcolor\u001b[0m\u001b[0;34m=\u001b[0m\u001b[0;34m'deepskyblue'\u001b[0m\u001b[0;34m)\u001b[0m\u001b[0;34m\u001b[0m\u001b[0;34m\u001b[0m\u001b[0m\n",
      "\u001b[0;32m/tmp/ipykernel_12582/3915001677.py\u001b[0m in \u001b[0;36mepsilon_to_alpha\u001b[0;34m(epsilon, distance, pi, precision)\u001b[0m\n\u001b[1;32m     23\u001b[0m                 \u001b[0mp_mat\u001b[0m \u001b[0;34m=\u001b[0m \u001b[0mnp\u001b[0m\u001b[0;34m.\u001b[0m\u001b[0mexp\u001b[0m\u001b[0;34m(\u001b[0m\u001b[0;34m-\u001b[0m\u001b[0malpha\u001b[0m\u001b[0;34m*\u001b[0m\u001b[0mdistance\u001b[0m\u001b[0;34m[\u001b[0m\u001b[0;34m:\u001b[0m\u001b[0;34m,\u001b[0m \u001b[0my\u001b[0m\u001b[0;34m]\u001b[0m\u001b[0;34m/\u001b[0m\u001b[0;36m2\u001b[0m\u001b[0;34m)\u001b[0m\u001b[0;34m\u001b[0m\u001b[0;34m\u001b[0m\u001b[0m\n\u001b[1;32m     24\u001b[0m                 \u001b[0mp_mat\u001b[0m \u001b[0;34m/=\u001b[0m \u001b[0mp_mat\u001b[0m\u001b[0;34m.\u001b[0m\u001b[0msum\u001b[0m\u001b[0;34m(\u001b[0m\u001b[0;34m)\u001b[0m\u001b[0;34m\u001b[0m\u001b[0;34m\u001b[0m\u001b[0m\n\u001b[0;32m---> 25\u001b[0;31m                 \u001b[0mcldp_p\u001b[0m \u001b[0;34m=\u001b[0m \u001b[0;34m(\u001b[0m\u001b[0mpi\u001b[0m\u001b[0;34m[\u001b[0m\u001b[0mv\u001b[0m\u001b[0;34m]\u001b[0m\u001b[0;34m*\u001b[0m\u001b[0mp_mat\u001b[0m\u001b[0;34m[\u001b[0m\u001b[0my\u001b[0m\u001b[0;34m]\u001b[0m\u001b[0;34m)\u001b[0m\u001b[0;34m/\u001b[0m\u001b[0mnp\u001b[0m\u001b[0;34m.\u001b[0m\u001b[0mdot\u001b[0m\u001b[0;34m(\u001b[0m\u001b[0mpi\u001b[0m\u001b[0;34m,\u001b[0m \u001b[0mp_mat\u001b[0m\u001b[0;34m)\u001b[0m\u001b[0;34m\u001b[0m\u001b[0;34m\u001b[0m\u001b[0m\n\u001b[0m\u001b[1;32m     26\u001b[0m                 \u001b[0;32mif\u001b[0m \u001b[0mcldp_p\u001b[0m \u001b[0;34m>\u001b[0m \u001b[0mcldp_max_p\u001b[0m\u001b[0;34m:\u001b[0m\u001b[0;34m\u001b[0m\u001b[0;34m\u001b[0m\u001b[0m\n\u001b[1;32m     27\u001b[0m                     \u001b[0mcldp_max_p\u001b[0m \u001b[0;34m=\u001b[0m \u001b[0mcldp_p\u001b[0m\u001b[0;34m\u001b[0m\u001b[0;34m\u001b[0m\u001b[0m\n",
      "\u001b[0;32m<__array_function__ internals>\u001b[0m in \u001b[0;36mdot\u001b[0;34m(*args, **kwargs)\u001b[0m\n",
      "\u001b[0;31mKeyboardInterrupt\u001b[0m: "
     ]
    }
   ],
   "metadata": {}
  },
  {
   "cell_type": "markdown",
   "source": [
    "## Alpha to epsilon"
   ],
   "metadata": {}
  },
  {
   "cell_type": "code",
   "execution_count": 66,
   "source": [
    "alpha_range = np.arange(1/3, 11/3, 1/3)\n",
    "epsilon_range = []\n",
    "for alpha in tqdm(alpha_range):\n",
    "    epsilon_range.append(alpha_to_epsilon(alpha, distance, pi))\n",
    "x = alpha_range\n",
    "plt.plot(x, epsilon_range, 's-', markersize=10, markerfacecolor='none', markeredgewidth=2.5, label='LDP', color='grey')\n",
    "plt.xticks(x)\n",
    "plt.xlabel('Alpha')\n",
    "plt.ylabel('Epsilon')\n",
    "plt.grid(linestyle='-.')\n",
    "plt.show()"
   ],
   "outputs": [
    {
     "output_type": "stream",
     "name": "stderr",
     "text": [
      "100%|██████████| 10/10 [00:23<00:00,  2.38s/it]\n"
     ]
    },
    {
     "output_type": "display_data",
     "data": {
      "image/png": "[encoded data removed]",
      "text/plain": [
       "<Figure size 432x288 with 1 Axes>"
      ]
     },
     "metadata": {
      "needs_background": "light"
     }
    }
   ],
   "metadata": {}
  },
  {
   "cell_type": "code",
   "execution_count": 7,
   "source": [
    "import pandas as pd\n",
    "\n",
    "d = 900\n",
    "pi = np.full(d, 1/d)\n",
    "\n",
    "alpha = 0.1/100\n",
    "\n",
    "loc = pd.read_csv('../T-drive/release/xy_loc.csv')\n",
    "\n",
    "dist_mat = np.zeros((d, d))\n",
    "for i in range(d):\n",
    "    dist_mat[i] = np.sqrt(np.square(loc.iloc[i]['x'] - loc['x'].to_numpy()) + np.square(loc.iloc[i]['y'] - loc['y'].to_numpy()))\n",
    "p_mat = np.exp(-alpha*dist_mat/2)\n",
    "for i in range(d):\n",
    "    p_mat[i] /= p_mat[i].sum()\n",
    "\n",
    "cldp_max_p = 0\n",
    "for v in range(d):\n",
    "    for y in range(d):\n",
    "        cldp_p = (pi[v]*p_mat[v][y])/np.dot(pi, p_mat[y])\n",
    "        if cldp_p > cldp_max_p:\n",
    "            cldp_max_p = cldp_p\n",
    "\n",
    "l = 0\n",
    "r = 50\n",
    "ldp_max_p = 0\n",
    "while (cldp_max_p > ldp_max_p) or (r - l > 1e-5):\n",
    "    epsilon = (l + r)/2\n",
    "    ldp_max_p = 0\n",
    "    for v in range(d):\n",
    "        for y in range(d):\n",
    "            p_mat = np.full(d, 1/(exp(epsilon) + d - 1))\n",
    "            p_mat[y] = exp(epsilon)/(exp(epsilon) + d - 1)\n",
    "            ldp_p = (pi[v]*p_mat[y])/np.dot(pi, p_mat)\n",
    "            if ldp_p > ldp_max_p:\n",
    "                ldp_max_p = ldp_p\n",
    "    print(epsilon, cldp_max_p, ldp_max_p)\n",
    "    if cldp_max_p == ldp_max_p:\n",
    "        break\n",
    "    elif cldp_max_p < ldp_max_p:\n",
    "        r = epsilon\n",
    "    else:\n",
    "        l = epsilon\n",
    "\n",
    "print(epsilon)"
   ],
   "outputs": [
    {
     "output_type": "stream",
     "name": "stdout",
     "text": [
      "25.0 0.08714986565619579 0.9999999875147395\n",
      "12.5 0.08714986565619579 0.9966609255698144\n",
      "6.25 0.08714986565619579 0.36556678644710605\n",
      "3.125 0.08714986565619579 0.024691782767590886\n",
      "4.6875 0.08714986565619579 0.1077643832743044\n",
      "3.90625 0.08714986565619579 0.05239964479883697\n",
      "4.296875 0.08714986565619579 0.07554973759531992\n",
      "4.4921875 0.08714986565619579 0.09037246900845057\n",
      "4.39453125 0.08714986565619579 0.08265928603132484\n",
      "4.443359375 0.08714986565619579 0.08643801507747823\n",
      "4.4677734375 0.08714986565619579 0.08838547400153018\n",
      "4.45556640625 0.08714986565619579 0.08740684037536114\n",
      "4.449462890625 0.08714986565619579 0.08692120641311757\n",
      "4.4525146484375 0.08714986565619579 0.08716371747510478\n",
      "4.45098876953125 0.08714986565619579 0.08704238553818908\n",
      "4.451751708984375 0.08714986565619579 0.08710303239593437\n",
      "4.4521331787109375 0.08714986565619579 0.08713337015668735\n",
      "4.452323913574219 0.08714986565619579 0.08714854262104375\n",
      "4.452419281005859 0.08714986565619579 0.08715612974934314\n",
      "4.452371597290039 0.08714986565619579 0.08715233611051296\n",
      "4.452347755432129 0.08714986565619579 0.08715043934710848\n",
      "4.452335834503174 0.08714986565619579 0.08714949097940872\n",
      "4.452341794967651 0.08714986565619579 0.08714996516209174\n",
      "4.452341794967651\n"
     ]
    }
   ],
   "metadata": {}
  }
 ],
 "metadata": {
  "orig_nbformat": 4,
  "language_info": {
   "name": "python",
   "version": "3.8.11",
   "mimetype": "text/x-python",
   "codemirror_mode": {
    "name": "ipython",
    "version": 3
   },
   "pygments_lexer": "ipython3",
   "nbconvert_exporter": "python",
   "file_extension": ".py"
  },
  "kernelspec": {
   "name": "python3",
   "display_name": "Python 3.8.11 64-bit ('ldp': conda)"
  },
  "interpreter": {
   "hash": "3ab1aef511fa2a93501e996a950c9521aba6e7c87a2eabc8e3eba7db34c6004a"
  }
 },
 "nbformat": 4,
 "nbformat_minor": 2
}