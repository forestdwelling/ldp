{
 "cells": [
  {
   "cell_type": "code",
   "execution_count": 2,
   "metadata": {},
   "outputs": [
    {
     "data": {
      "text/html": [
       "<div>\n",
       "<style scoped>\n",
       "    .dataframe tbody tr th:only-of-type {\n",
       "        vertical-align: middle;\n",
       "    }\n",
       "\n",
       "    .dataframe tbody tr th {\n",
       "        vertical-align: top;\n",
       "    }\n",
       "\n",
       "    .dataframe thead th {\n",
       "        text-align: right;\n",
       "    }\n",
       "</style>\n",
       "<table border=\"1\" class=\"dataframe\">\n",
       "  <thead>\n",
       "    <tr style=\"text-align: right;\">\n",
       "      <th></th>\n",
       "      <th>Date</th>\n",
       "      <th>id</th>\n",
       "      <th>inc</th>\n",
       "      <th>inc_id</th>\n",
       "    </tr>\n",
       "  </thead>\n",
       "  <tbody>\n",
       "    <tr>\n",
       "      <th>0</th>\n",
       "      <td>2020-01-23</td>\n",
       "      <td>109</td>\n",
       "      <td>1</td>\n",
       "      <td>0</td>\n",
       "    </tr>\n",
       "    <tr>\n",
       "      <th>1</th>\n",
       "      <td>2020-01-23</td>\n",
       "      <td>214</td>\n",
       "      <td>1</td>\n",
       "      <td>0</td>\n",
       "    </tr>\n",
       "    <tr>\n",
       "      <th>2</th>\n",
       "      <td>2020-01-23</td>\n",
       "      <td>225</td>\n",
       "      <td>1</td>\n",
       "      <td>0</td>\n",
       "    </tr>\n",
       "    <tr>\n",
       "      <th>3</th>\n",
       "      <td>2020-01-23</td>\n",
       "      <td>638</td>\n",
       "      <td>1</td>\n",
       "      <td>0</td>\n",
       "    </tr>\n",
       "    <tr>\n",
       "      <th>4</th>\n",
       "      <td>2020-01-23</td>\n",
       "      <td>1275</td>\n",
       "      <td>1</td>\n",
       "      <td>0</td>\n",
       "    </tr>\n",
       "  </tbody>\n",
       "</table>\n",
       "</div>"
      ],
      "text/plain": [
       "        Date    id  inc  inc_id\n",
       "0 2020-01-23   109    1       0\n",
       "1 2020-01-23   214    1       0\n",
       "2 2020-01-23   225    1       0\n",
       "3 2020-01-23   638    1       0\n",
       "4 2020-01-23  1275    1       0"
      ]
     },
     "execution_count": 2,
     "metadata": {},
     "output_type": "execute_result"
    }
   ],
   "source": [
    "import pandas as pd\n",
    "\n",
    "df = pd.read_csv('confirm_7d250.csv', \n",
    "    dtype={'id':int, 'Date':object, 'inc':int}, \n",
    "    parse_dates=['Date'], \n",
    "    infer_datetime_format=True)\n",
    "df.head(5)"
   ]
  },
  {
   "cell_type": "code",
   "execution_count": 3,
   "metadata": {},
   "outputs": [],
   "source": [
    "def MAE(freq, est_freq):\n",
    "    return (abs(freq - est_freq)).mean()\n",
    "def MRE(freq, est_freq):\n",
    "    return (abs(np.dot(freq, np.arange(d)) - np.dot(est_freq, np.arange(d))))/(np.dot(freq, np.arange(d)) + np.finfo(np.float32).eps)\n",
    "def jaccard_index(freq, est_freq, k):\n",
    "    top_k = np.argpartition(-freq, k)[:k]\n",
    "    est_top_k = np.argpartition(-est_freq, k)[:k]\n",
    "    return len(np.intersect1d(top_k, est_top_k))/len(np.union1d(top_k, est_top_k))\n",
    "def MSE(freq, est_freq):\n",
    "    return (np.square(freq - est_freq)).mean()\n",
    "def RMSE(freq, est_freq):\n",
    "    return np.sqrt((np.square(freq - est_freq)).mean())\n",
    "\n",
    "import numpy as np\n",
    "from math import exp\n",
    "\n",
    "from tqdm import trange\n",
    "\n",
    "n = 3336\n",
    "episode = 87\n",
    "d = 100\n",
    "universe = np.arange(d)\n",
    "\n",
    "p_mat = np.zeros((d, d))\n",
    "for i in range(d):\n",
    "    p_mat[i] = np.abs(universe[i] - universe)*100\n",
    "\n",
    "w = 87\n",
    "epsilon_range = np.arange(0.1, 1.1, 0.1)\n",
    "# [0.04931640625, \n",
    "#                 1.8316650390625, \n",
    "#                 9.9993896484375, \n",
    "#                 14.99908447265625, \n",
    "#                 19.9993896484375, \n",
    "#                 24.999237060546875, \n",
    "#                 29.99908447265625, \n",
    "#                 34.99946594238281, \n",
    "#                 39.9993896484375, \n",
    "#                 44.99931335449219, \n",
    "#                 49.999237060546875]\n",
    "interval = pd.Timedelta('7d')\n",
    "start_time = pd.Timestamp('2020-01-23')"
   ]
  },
  {
   "cell_type": "markdown",
   "metadata": {},
   "source": [
    "## Uniform"
   ]
  },
  {
   "cell_type": "code",
   "execution_count": 6,
   "metadata": {},
   "outputs": [
    {
     "name": "stdout",
     "output_type": "stream",
     "text": [
      "154.5115595348148\n",
      "143.34256933370722\n",
      "134.12300969612727\n",
      "126.21099790618925\n",
      "118.29283552280758\n",
      "112.02362390029637\n",
      "105.59431081695574\n",
      "99.26788904802578\n",
      "94.29501922641514\n",
      "89.18512905084444\n"
     ]
    }
   ],
   "source": [
    "for epsilon in epsilon_range:\n",
    "    current_time = start_time\n",
    "\n",
    "    util = []\n",
    "    for t in range(episode):\n",
    "        data = df.loc[df['Date']==current_time]\n",
    "        private_freq = np.zeros(d)\n",
    "        true_freq = np.zeros(d)\n",
    "        for row in data.itertuples():\n",
    "            true_freq[row.inc_id] += 1\n",
    "            # randomization\n",
    "            release_budget = epsilon/w\n",
    "            exp_prob = np.exp(-release_budget*p_mat[row.inc_id]/2)\n",
    "            exp_prob /= exp_prob.sum()\n",
    "            private_inc = np.random.choice(universe, p=exp_prob)\n",
    "            private_freq[private_inc] += 1\n",
    "        current_time += interval\n",
    "        # skip empty timestamp\n",
    "        if np.all(true_freq == 0):\n",
    "            continue\n",
    "        util.append(RMSE(true_freq, private_freq))\n",
    "    print(np.mean(util))"
   ]
  },
  {
   "cell_type": "markdown",
   "metadata": {},
   "source": [
    "## Local Sample"
   ]
  },
  {
   "cell_type": "code",
   "execution_count": 7,
   "metadata": {},
   "outputs": [
    {
     "name": "stdout",
     "output_type": "stream",
     "text": [
      "111.21302399034454\n",
      "112.48969797893787\n",
      "112.48969797893787\n",
      "112.48969797893787\n",
      "112.48969797893787\n",
      "112.48969797893787\n",
      "112.48969797893787\n",
      "112.48969797893787\n",
      "112.48969797893787\n",
      "112.48969797893787\n"
     ]
    }
   ],
   "source": [
    "for epsilon in epsilon_range:\n",
    "    window = np.zeros((n, episode), dtype=float)\n",
    "    # historical data\n",
    "    storage = [[] for _ in range(n)]\n",
    "\n",
    "    current_time = start_time\n",
    "\n",
    "    util = []\n",
    "    for t in range(episode):\n",
    "        data = df.loc[df['Date']==current_time]\n",
    "        private_freq = np.zeros(d)\n",
    "        true_freq = np.zeros(d)\n",
    "        for row in data.itertuples():\n",
    "            true_freq[row.inc_id] += 1\n",
    "            release_budget = epsilon\n",
    "            remain = epsilon - window[row.id][max(0, t-w+1):t].sum()\n",
    "            if remain < release_budget:\n",
    "                release_budget = 0\n",
    "            if release_budget > 0:\n",
    "                # randomization\n",
    "                exp_prob = np.exp(-release_budget*p_mat[row.inc_id]/2)\n",
    "                exp_prob /= exp_prob.sum()\n",
    "                private_inc = np.random.choice(universe, p=exp_prob)\n",
    "                # update window\n",
    "                window[row.id][t] = release_budget\n",
    "                storage[row.id].append(private_inc)\n",
    "            else:\n",
    "                private_inc = storage[row.id][len(storage[row.id])-1]\n",
    "            private_freq[private_inc] += 1\n",
    "        current_time += interval\n",
    "        # skip empty timestamp\n",
    "        if np.all(true_freq == 0):\n",
    "            continue\n",
    "        util.append(RMSE(true_freq, private_freq))\n",
    "    print(np.mean(util))"
   ]
  },
  {
   "cell_type": "markdown",
   "metadata": {},
   "source": [
    "## Fix-Alloc"
   ]
  },
  {
   "cell_type": "code",
   "execution_count": 8,
   "metadata": {},
   "outputs": [
    {
     "name": "stdout",
     "output_type": "stream",
     "text": [
      "145.71368609259127\n",
      "129.54981184236797\n",
      "116.32516668822521\n",
      "105.12251018897481\n",
      "95.12064703726982\n",
      "87.52418148805667\n",
      "80.6081329783013\n",
      "74.25794551877809\n",
      "69.02201929428652\n",
      "63.44226679344441\n"
     ]
    }
   ],
   "source": [
    "for epsilon in epsilon_range:\n",
    "    window = np.zeros((n, episode), dtype=float)\n",
    "    # historical data\n",
    "    storage = [[] for _ in range(n)]\n",
    "\n",
    "    current_time = start_time\n",
    "    ratio = 0.55\n",
    "\n",
    "    util = []\n",
    "    for t in range(episode):\n",
    "        data = df.loc[df['Date']==current_time]\n",
    "        private_freq = np.zeros(d)\n",
    "        true_freq = np.zeros(d)\n",
    "        for row in data.itertuples():\n",
    "            true_freq[row.inc_id] += 1\n",
    "            # release_flag = np.random.binomial(1, ratio)\n",
    "            release_budget = epsilon/(w*ratio)\n",
    "            remain = epsilon - window[row.id][max(0, t-w+1):t].sum()\n",
    "            if (remain < release_budget): # or (release_flag == False):\n",
    "                release_budget = 0\n",
    "            if release_budget > 0:\n",
    "                # randomization\n",
    "                exp_prob = np.exp(-release_budget*p_mat[row.inc_id]/2)\n",
    "                exp_prob /= exp_prob.sum()\n",
    "                private_inc = np.random.choice(universe, p=exp_prob)\n",
    "                # update window\n",
    "                window[row.id][t] = release_budget\n",
    "                storage[row.id].append(private_inc)\n",
    "            else:\n",
    "                private_inc = storage[row.id][len(storage[row.id])-1]\n",
    "            private_freq[private_inc] += 1\n",
    "        current_time += interval\n",
    "        # skip empty timestamp\n",
    "        if np.all(true_freq == 0):\n",
    "            continue\n",
    "        util.append(RMSE(true_freq, private_freq))\n",
    "    print(np.mean(util))"
   ]
  },
  {
   "cell_type": "markdown",
   "metadata": {},
   "source": [
    "## Ada-Alloc"
   ]
  },
  {
   "cell_type": "code",
   "execution_count": 9,
   "metadata": {},
   "outputs": [
    {
     "name": "stdout",
     "output_type": "stream",
     "text": [
      "145.84380230384252\n",
      "129.61928958261797\n",
      "117.25282848869477\n",
      "105.57203195584643\n",
      "96.36911814955275\n",
      "88.27160078459687\n",
      "80.70181521206082\n",
      "74.25775867878448\n",
      "68.92377558343414\n",
      "64.5550236919974\n"
     ]
    }
   ],
   "source": [
    "for epsilon in epsilon_range:\n",
    "    window = np.zeros((n, episode), dtype=float)\n",
    "    # historical data\n",
    "    storage = [[] for _ in range(n)]\n",
    "\n",
    "    current_time = start_time\n",
    "    ratio = np.full(n, 0.55)\n",
    "    data_flag = np.zeros((n, episode), dtype=int)\n",
    "    release_flag = np.zeros((n, episode), dtype=int)\n",
    "    pid_error = np.zeros((n, episode), dtype=float)\n",
    "\n",
    "    util = []\n",
    "    for t in range(episode):\n",
    "        data = df.loc[df['Date']==current_time]\n",
    "        private_freq = np.zeros(d)\n",
    "        true_freq = np.zeros(d)\n",
    "        for row in data.itertuples():\n",
    "            true_freq[row.inc_id] += 1\n",
    "            # release_flag = np.random.binomial(1, ratio)\n",
    "            release_budget = epsilon/(w*ratio[row.id])\n",
    "            remain = epsilon - window[row.id][max(0, t-w+1):t].sum()\n",
    "            if (remain < release_budget): # or (release_flag == False):\n",
    "                release_budget = 0\n",
    "            if release_budget > 0:\n",
    "                # randomization\n",
    "                exp_prob = np.exp(-release_budget*p_mat[row.inc_id]/2)\n",
    "                exp_prob /= exp_prob.sum()\n",
    "                private_inc = np.random.choice(universe, p=exp_prob)\n",
    "                # update window\n",
    "                window[row.id][t] = release_budget\n",
    "                storage[row.id].append(private_inc)\n",
    "            else:\n",
    "                private_inc = storage[row.id][len(storage[row.id])-1]\n",
    "            private_freq[private_inc] += 1\n",
    "        if t > w:\n",
    "            data_num = data_flag[:, max(0, t-w+1):t].sum(axis=1)\n",
    "            release_num = release_flag[:, max(0, t-w+1):t].sum(axis=1)\n",
    "            pid_error[:, t] = abs((data_num - release_num - 0.01)/w)\n",
    "            error = np.sign((data_num - release_num - 0.01))*(1.0*pid_error[:, t] + 0.1*pid_error[:, max(0, t-w+1):t].sum(axis=1) + 0.2*(pid_error[:, t] - pid_error[:, t-1]))\n",
    "            ratio += 1*error\n",
    "            ratio = np.clip(ratio, 1/w, 1)\n",
    "        current_time += interval\n",
    "        # skip empty timestamp\n",
    "        if np.all(true_freq == 0):\n",
    "            continue\n",
    "        util.append(RMSE(true_freq, private_freq))\n",
    "    print(np.mean(util))"
   ]
  },
  {
   "cell_type": "markdown",
   "metadata": {},
   "source": [
    "## Local BD"
   ]
  },
  {
   "cell_type": "code",
   "execution_count": 10,
   "metadata": {},
   "outputs": [
    {
     "name": "stdout",
     "output_type": "stream",
     "text": [
      "151.6734890623888\n",
      "139.93915885356768\n",
      "132.0645171934326\n",
      "126.2964219543499\n",
      "121.35094102921869\n",
      "115.50051977212735\n",
      "111.40471529758987\n",
      "109.15766716312336\n",
      "105.00938343169608\n",
      "103.36599445399166\n"
     ]
    }
   ],
   "source": [
    "for epsilon in epsilon_range:\n",
    "    window = np.zeros((n, episode), dtype=float)\n",
    "    # historical data\n",
    "    storage = [[] for _ in range(n)]\n",
    "\n",
    "    current_time = start_time\n",
    "\n",
    "    util = []\n",
    "    for t in range(episode):\n",
    "        data = df.loc[df['Date']==current_time]\n",
    "        private_freq = np.zeros(d)\n",
    "        true_freq = np.zeros(d)\n",
    "        for row in data.itertuples():\n",
    "            true_freq[row.inc_id] += 1\n",
    "            # decision\n",
    "            if storage[row.id]:\n",
    "                last_release = storage[row.id][len(storage[row.id]) - 1]\n",
    "                distance = abs(row.inc_id - last_release)\n",
    "                decision_budget = epsilon/(2*w)\n",
    "                # add noise to distance\n",
    "                private_distance = np.random.laplace(0, 1/decision_budget)\n",
    "                remain = epsilon/2 - window[row.id][max(0, t-w+1):t].sum()\n",
    "                release_budget = remain/2\n",
    "                if private_distance > 1/release_budget:\n",
    "                    # randomization\n",
    "                    exp_prob = np.exp(-release_budget*p_mat[row.inc_id]/2)\n",
    "                    exp_prob /= exp_prob.sum()\n",
    "                    private_inc = np.random.choice(universe, p=exp_prob)\n",
    "                    # update window\n",
    "                    window[row.id][t] = release_budget\n",
    "                    storage[row.id].append(private_inc)\n",
    "                else:\n",
    "                    private_inc = storage[row.id][len(storage[row.id])-1]\n",
    "            # if never released\n",
    "            else:\n",
    "                # randomization\n",
    "                release_budget = epsilon/(2*w)\n",
    "                exp_prob = np.abs(row.inc_id - universe)\n",
    "                exp_prob = np.exp(-release_budget*exp_prob/2)\n",
    "                exp_prob /= exp_prob.sum()\n",
    "                private_inc = np.random.choice(universe, p=exp_prob)\n",
    "                # update window\n",
    "                window[row.id][t] = release_budget\n",
    "                storage[row.id].append(private_inc)\n",
    "            private_freq[private_inc] += 1\n",
    "        current_time += interval\n",
    "        # skip empty timestamp\n",
    "        if np.all(true_freq == 0):\n",
    "            continue\n",
    "        util.append(RMSE(true_freq, private_freq))\n",
    "    print(np.mean(util))"
   ]
  },
  {
   "cell_type": "markdown",
   "metadata": {},
   "source": [
    "## Local BA"
   ]
  },
  {
   "cell_type": "code",
   "execution_count": 11,
   "metadata": {},
   "outputs": [
    {
     "name": "stdout",
     "output_type": "stream",
     "text": [
      "73.59521968911942\n",
      "92.99274665125601\n",
      "93.21208302112466\n",
      "92.99383751293055\n",
      "93.73438987740579\n",
      "94.62550639152607\n",
      "95.21441740122233\n",
      "92.3883264017597\n",
      "93.28821972919864\n",
      "94.04790347641537\n"
     ]
    }
   ],
   "source": [
    "for epsilon in epsilon_range:\n",
    "    window = np.zeros((n, episode), dtype=float)\n",
    "    # historical data\n",
    "    storage = [[] for _ in range(n)]\n",
    "\n",
    "    current_time = start_time\n",
    "\n",
    "    util = []\n",
    "    for t in range(episode):\n",
    "        data = df.loc[df['Date']==current_time]\n",
    "        private_freq = np.zeros(d)\n",
    "        true_freq = np.zeros(d)\n",
    "        for row in data.itertuples():\n",
    "            true_freq[row.inc_id] += 1\n",
    "            # decision\n",
    "            if storage[row.id]:\n",
    "                last_release = storage[row.id][len(storage[row.id]) - 1]\n",
    "                distance = abs(row.inc_id - last_release)\n",
    "                decision_budget = epsilon/(2*w)\n",
    "                # add noise to distance\n",
    "                private_distance = np.random.laplace(0, 1/decision_budget)\n",
    "                remain = epsilon/2 - window[row.id][max(0, t-w+1):t].sum()\n",
    "                release_budget = remain\n",
    "                if release_budget > 0 and private_distance > 1/release_budget:\n",
    "                    # randomization\n",
    "                    exp_prob = np.exp(-release_budget*p_mat[row.inc_id]/2)\n",
    "                    exp_prob /= exp_prob.sum()\n",
    "                    private_inc = np.random.choice(universe, p=exp_prob)\n",
    "                    # update window\n",
    "                    window[row.id][t] = release_budget\n",
    "                    storage[row.id].append(private_inc)\n",
    "                else:\n",
    "                    private_inc = storage[row.id][len(storage[row.id])-1]\n",
    "            # if never released\n",
    "            else:\n",
    "                # randomization\n",
    "                release_budget = epsilon/(2*w)\n",
    "                exp_prob = np.abs(row.inc_id - universe)\n",
    "                exp_prob = np.exp(-release_budget*exp_prob/2)\n",
    "                exp_prob /= exp_prob.sum()\n",
    "                private_inc = np.random.choice(universe, p=exp_prob)\n",
    "                # update window\n",
    "                window[row.id][t] = release_budget\n",
    "                storage[row.id].append(private_inc)\n",
    "            private_freq[private_inc] += 1\n",
    "        current_time += interval\n",
    "        # skip empty timestamp\n",
    "        if np.all(true_freq == 0):\n",
    "            continue\n",
    "        util.append(RMSE(true_freq, private_freq))\n",
    "    print(np.mean(util))"
   ]
  },
  {
   "cell_type": "markdown",
   "metadata": {},
   "source": [
    "## Local-DSFT"
   ]
  },
  {
   "cell_type": "code",
   "execution_count": 193,
   "metadata": {},
   "outputs": [
    {
     "name": "stdout",
     "output_type": "stream",
     "text": [
      "58234.320689655186\n",
      "58197.58252873563\n",
      "58025.62298850576\n",
      "57952.11862068966\n",
      "57770.80551724138\n",
      "57663.61931034484\n",
      "57653.30206896552\n",
      "57478.08160919541\n",
      "57259.97586206897\n",
      "57142.65425287357\n"
     ]
    }
   ],
   "source": [
    "for epsilon in epsilon_range:\n",
    "    threshold = 10\n",
    "    ratio = 0.5\n",
    "    window = np.zeros((n, episode), dtype=float)\n",
    "    # historical data\n",
    "    storage = [[] for _ in range(n)]\n",
    "\n",
    "    current_time = start_time\n",
    "\n",
    "    util = []\n",
    "    for t in range(episode):\n",
    "        data = df.loc[df['Date']==current_time]\n",
    "        private_freq = np.zeros(d)\n",
    "        true_freq = np.zeros(d)\n",
    "        for row in data.itertuples():\n",
    "            true_freq[row.inc_id] += 1\n",
    "            # decision\n",
    "            if storage[row.id]:\n",
    "                last_release = storage[row.id][len(storage[row.id]) - 1]\n",
    "                distance = abs(row.inc_id - last_release)\n",
    "                decision_budget = epsilon/(2*w)\n",
    "                # add noise to distance\n",
    "                private_distance = np.random.laplace(0, 1/decision_budget)\n",
    "                remain = epsilon/2 - window[row.id][max(0, t-w+1):t].sum()\n",
    "                release_budget = epsilon/(2*w*ratio)\n",
    "                if remain > 0 and remain > release_budget and private_distance > threshold:\n",
    "                    # randomization\n",
    "                    exp_prob = np.abs(row.inc_id - universe)\n",
    "                    exp_prob = np.exp(-release_budget*exp_prob/2)\n",
    "                    exp_prob /= exp_prob.sum()\n",
    "                    private_inc = np.random.choice(universe, p=exp_prob)\n",
    "                    # update window\n",
    "                    window[row.id][t] = release_budget\n",
    "                    storage[row.id].append(private_inc)\n",
    "                else:\n",
    "                    private_inc = storage[row.id][len(storage[row.id])-1]\n",
    "            # if never released\n",
    "            else:\n",
    "                # randomization\n",
    "                release_budget = epsilon/(2*w)\n",
    "                exp_prob = np.abs(row.inc_id - universe)\n",
    "                exp_prob = np.exp(-release_budget*exp_prob/2)\n",
    "                exp_prob /= exp_prob.sum()\n",
    "                private_inc = np.random.choice(universe, p=exp_prob)\n",
    "                # update window\n",
    "                window[row.id][t] = release_budget\n",
    "                storage[row.id].append(private_inc)\n",
    "            private_freq[private_inc] += 1\n",
    "        current_time += interval\n",
    "        # skip empty timestamp\n",
    "        if np.all(true_freq == 0):\n",
    "            continue\n",
    "        util.append(MSE(true_freq, private_freq))\n",
    "    print(np.mean(util))"
   ]
  },
  {
   "cell_type": "code",
   "execution_count": 9,
   "metadata": {},
   "outputs": [
    {
     "name": "stdout",
     "output_type": "stream",
     "text": [
      "25.1315464937389\n"
     ]
    },
    {
     "ename": "KeyboardInterrupt",
     "evalue": "",
     "output_type": "error",
     "traceback": [
      "\u001b[0;31m---------------------------------------------------------------------------\u001b[0m",
      "\u001b[0;31mKeyboardInterrupt\u001b[0m                         Traceback (most recent call last)",
      "\u001b[0;32m/tmp/ipykernel_28573/1347452505.py\u001b[0m in \u001b[0;36m<module>\u001b[0;34m\u001b[0m\n\u001b[1;32m     25\u001b[0m         \u001b[0;32mfor\u001b[0m \u001b[0mrow\u001b[0m \u001b[0;32min\u001b[0m \u001b[0mdata\u001b[0m\u001b[0;34m.\u001b[0m\u001b[0mitertuples\u001b[0m\u001b[0;34m(\u001b[0m\u001b[0;34m)\u001b[0m\u001b[0;34m:\u001b[0m\u001b[0;34m\u001b[0m\u001b[0;34m\u001b[0m\u001b[0m\n\u001b[1;32m     26\u001b[0m             \u001b[0mtrue_freq\u001b[0m\u001b[0;34m[\u001b[0m\u001b[0mrow\u001b[0m\u001b[0;34m.\u001b[0m\u001b[0minc_id\u001b[0m\u001b[0;34m]\u001b[0m \u001b[0;34m+=\u001b[0m \u001b[0;36m1\u001b[0m\u001b[0;34m\u001b[0m\u001b[0;34m\u001b[0m\u001b[0m\n\u001b[0;32m---> 27\u001b[0;31m         \u001b[0mprivate_freq\u001b[0m \u001b[0;34m=\u001b[0m \u001b[0mOLH\u001b[0m\u001b[0;34m(\u001b[0m\u001b[0mdata\u001b[0m\u001b[0;34m[\u001b[0m\u001b[0;34m'inc_id'\u001b[0m\u001b[0;34m]\u001b[0m\u001b[0;34m.\u001b[0m\u001b[0mto_numpy\u001b[0m\u001b[0;34m(\u001b[0m\u001b[0;34m)\u001b[0m\u001b[0;34m,\u001b[0m \u001b[0;36m2.8878509998321533\u001b[0m\u001b[0;34m)\u001b[0m\u001b[0;34m\u001b[0m\u001b[0;34m\u001b[0m\u001b[0m\n\u001b[0m\u001b[1;32m     28\u001b[0m         \u001b[0mcurrent_time\u001b[0m \u001b[0;34m+=\u001b[0m \u001b[0minterval\u001b[0m\u001b[0;34m\u001b[0m\u001b[0;34m\u001b[0m\u001b[0m\n\u001b[1;32m     29\u001b[0m         \u001b[0;31m# skip empty timestamp\u001b[0m\u001b[0;34m\u001b[0m\u001b[0;34m\u001b[0m\u001b[0;34m\u001b[0m\u001b[0m\n",
      "\u001b[0;32m/tmp/ipykernel_28573/1347452505.py\u001b[0m in \u001b[0;36mOLH\u001b[0;34m(data, epsilon)\u001b[0m\n\u001b[1;32m     12\u001b[0m             \u001b[0mprivate_data\u001b[0m \u001b[0;34m=\u001b[0m \u001b[0mnp\u001b[0m\u001b[0;34m.\u001b[0m\u001b[0mrandom\u001b[0m\u001b[0;34m.\u001b[0m\u001b[0mrandint\u001b[0m\u001b[0;34m(\u001b[0m\u001b[0;36m0\u001b[0m\u001b[0;34m,\u001b[0m \u001b[0mg\u001b[0m\u001b[0;34m)\u001b[0m\u001b[0;34m\u001b[0m\u001b[0;34m\u001b[0m\u001b[0m\n\u001b[1;32m     13\u001b[0m         \u001b[0;32mfor\u001b[0m \u001b[0mj\u001b[0m \u001b[0;32min\u001b[0m \u001b[0mrange\u001b[0m\u001b[0;34m(\u001b[0m\u001b[0md\u001b[0m\u001b[0;34m)\u001b[0m\u001b[0;34m:\u001b[0m\u001b[0;34m\u001b[0m\u001b[0;34m\u001b[0m\u001b[0m\n\u001b[0;32m---> 14\u001b[0;31m             \u001b[0;32mif\u001b[0m \u001b[0mprivate_data\u001b[0m \u001b[0;34m==\u001b[0m \u001b[0;34m(\u001b[0m\u001b[0mxxh32\u001b[0m\u001b[0;34m(\u001b[0m\u001b[0mstr\u001b[0m\u001b[0;34m(\u001b[0m\u001b[0mj\u001b[0m\u001b[0;34m)\u001b[0m\u001b[0;34m,\u001b[0m \u001b[0mseed\u001b[0m\u001b[0;34m=\u001b[0m\u001b[0mi\u001b[0m\u001b[0;34m)\u001b[0m\u001b[0;34m.\u001b[0m\u001b[0mintdigest\u001b[0m\u001b[0;34m(\u001b[0m\u001b[0;34m)\u001b[0m \u001b[0;34m%\u001b[0m \u001b[0mg\u001b[0m\u001b[0;34m)\u001b[0m\u001b[0;34m:\u001b[0m\u001b[0;34m\u001b[0m\u001b[0;34m\u001b[0m\u001b[0m\n\u001b[0m\u001b[1;32m     15\u001b[0m                 \u001b[0maggregated_data\u001b[0m\u001b[0;34m[\u001b[0m\u001b[0mj\u001b[0m\u001b[0;34m]\u001b[0m \u001b[0;34m+=\u001b[0m  \u001b[0;36m1\u001b[0m\u001b[0;34m\u001b[0m\u001b[0;34m\u001b[0m\u001b[0m\n\u001b[1;32m     16\u001b[0m     \u001b[0;32mreturn\u001b[0m \u001b[0;34m(\u001b[0m\u001b[0mg\u001b[0m\u001b[0;34m*\u001b[0m\u001b[0maggregated_data\u001b[0m \u001b[0;34m-\u001b[0m \u001b[0mlen\u001b[0m\u001b[0;34m(\u001b[0m\u001b[0mdata\u001b[0m\u001b[0;34m)\u001b[0m\u001b[0;34m)\u001b[0m\u001b[0;34m/\u001b[0m\u001b[0;34m(\u001b[0m\u001b[0mp\u001b[0m\u001b[0;34m*\u001b[0m\u001b[0mg\u001b[0m \u001b[0;34m-\u001b[0m \u001b[0;36m1\u001b[0m\u001b[0;34m)\u001b[0m\u001b[0;34m\u001b[0m\u001b[0;34m\u001b[0m\u001b[0m\n",
      "\u001b[0;31mKeyboardInterrupt\u001b[0m: "
     ]
    }
   ],
   "source": [
    "from xxhash import xxh32\n",
    "\n",
    "def OLH(data, epsilon):\n",
    "    global d\n",
    "    g = int(round(exp(epsilon))) + 1\n",
    "    p = exp(epsilon)/(exp(epsilon) + g - 1)\n",
    "    q = 1/(exp(epsilon) + g - 1)\n",
    "    aggregated_data = np.zeros(d)\n",
    "    for i, item in enumerate(data):\n",
    "        private_data = (xxh32(str(item), seed=i).intdigest() % g)\n",
    "        if np.random.random_sample() > p - q:\n",
    "            private_data = np.random.randint(0, g)\n",
    "        for j in range(d):\n",
    "            if private_data == (xxh32(str(j), seed=i).intdigest() % g):\n",
    "                aggregated_data[j] +=  1\n",
    "    return (g*aggregated_data - len(data))/(p*g - 1)\n",
    "\n",
    "for epsilon in epsilon_range:\n",
    "    current_time = start_time\n",
    "\n",
    "    util = []\n",
    "    for t in range(episode):\n",
    "        data = df.loc[df['Date']==current_time]\n",
    "        true_freq = np.zeros(d)\n",
    "        for row in data.itertuples():\n",
    "            true_freq[row.inc_id] += 1\n",
    "        private_freq = OLH(data['inc_id'].to_numpy(), 2.8878509998321533)\n",
    "        current_time += interval\n",
    "        # skip empty timestamp\n",
    "        if np.all(true_freq == 0):\n",
    "            continue\n",
    "        util.append(RMSE(true_freq, private_freq))\n",
    "    print(np.mean(util))"
   ]
  },
  {
   "cell_type": "code",
   "execution_count": 149,
   "metadata": {},
   "outputs": [
    {
     "data": {
      "text/plain": [
       "array([145., 145., 117., 122.,  96., 106., 104.,  90.,  83.,  99.,  78.,\n",
       "        61.,  65.,  57.,  67.,  51.,  54.,  46.,  47.,  49.,  49.,  36.,\n",
       "        36.,  29.,  34.,  32.,  31.,  37.,  33.,  20.,  27.,  21.,  24.,\n",
       "        20.,  25.,  22.,  17.,  23.,  24.,  18.,  13.,  16.,  17.,  12.,\n",
       "        12.,  21.,  15.,  18.,   8.,  18.,  14.,  13.,   7.,  17.,   8.,\n",
       "         7.,  16.,  13.,  15.,  14.,   5.,  12.,  11.,  12.,   7.,   9.,\n",
       "         3.,   5.,   4.,   6.,   7.,   8.,   8.,   4.,   8.,   7.,   5.,\n",
       "        10.,   6.,   3.,   4.,   3.,   4.,   7.,   6.,   6.,   6.,   3.,\n",
       "         7.,   2.,   6.,   4.,   6.,   4.,   5.,   5.,   4.,   3.,   1.,\n",
       "       382.])"
      ]
     },
     "execution_count": 149,
     "metadata": {},
     "output_type": "execute_result"
    }
   ],
   "source": [
    "true_freq"
   ]
  },
  {
   "cell_type": "code",
   "execution_count": 306,
   "metadata": {},
   "outputs": [
    {
     "data": {
      "text/plain": [
       "array([0. , 0. , 0. , 0. , 0. , 0. , 0. , 0. , 0.1, 0. , 9.9, 0. , 0. ,\n",
       "       0. , 0. , 0. , 0. , 0. , 0. , 0. , 0. , 0. , 0. , 0. , 0. , 0. ,\n",
       "       0. , 0. , 0. , 0. , 0. , 0. , 0. , 0. , 0. , 0. , 0. , 0. , 0. ,\n",
       "       0. , 0. , 0. , 0. , 0. , 0. , 0. , 0. , 0. , 0. , 0. , 0. , 0. ,\n",
       "       0. , 0. , 0. , 0. , 0. , 0. , 0. , 0. , 0. , 0. , 0. , 0. , 0. ,\n",
       "       0. , 0. , 0. , 0. , 0. , 0. , 0. , 0. , 0. , 0. , 0. , 0. , 0. ,\n",
       "       0. , 0. , 0. , 0. , 0. , 0. , 0. , 0. , 0. ])"
      ]
     },
     "execution_count": 306,
     "metadata": {},
     "output_type": "execute_result"
    }
   ],
   "source": [
    "window[1]"
   ]
  }
 ],
 "metadata": {
  "interpreter": {
   "hash": "409d79f584d77d57e2dbb84fcdd0962d4614d97ad86df9edb73670019bd67d65"
  },
  "kernelspec": {
   "display_name": "Python 3.8.11 64-bit ('ldp': conda)",
   "name": "python3"
  },
  "language_info": {
   "codemirror_mode": {
    "name": "ipython",
    "version": 3
   },
   "file_extension": ".py",
   "mimetype": "text/x-python",
   "name": "python",
   "nbconvert_exporter": "python",
   "pygments_lexer": "ipython3",
   "version": "3.8.11"
  },
  "orig_nbformat": 4
 },
 "nbformat": 4,
 "nbformat_minor": 2
}
