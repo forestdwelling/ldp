{
 "cells": [
  {
   "cell_type": "code",
   "execution_count": 1,
   "source": [
    "import pandas as pd\n",
    "\n",
    "df = pd.read_csv('xy_day.csv', \n",
    "    dtype={'taxi_id':int, 'location_id':int, 'date_time':object, 'x':float, 'y':float}, \n",
    "    parse_dates=['date_time'], \n",
    "    infer_datetime_format=True)\n",
    "df.head(5)"
   ],
   "outputs": [
    {
     "output_type": "execute_result",
     "data": {
      "text/html": [
       "<div>\n",
       "<style scoped>\n",
       "    .dataframe tbody tr th:only-of-type {\n",
       "        vertical-align: middle;\n",
       "    }\n",
       "\n",
       "    .dataframe tbody tr th {\n",
       "        vertical-align: top;\n",
       "    }\n",
       "\n",
       "    .dataframe thead th {\n",
       "        text-align: right;\n",
       "    }\n",
       "</style>\n",
       "<table border=\"1\" class=\"dataframe\">\n",
       "  <thead>\n",
       "    <tr style=\"text-align: right;\">\n",
       "      <th></th>\n",
       "      <th>date_time</th>\n",
       "      <th>taxi_id</th>\n",
       "      <th>location_id</th>\n",
       "      <th>x</th>\n",
       "      <th>y</th>\n",
       "    </tr>\n",
       "  </thead>\n",
       "  <tbody>\n",
       "    <tr>\n",
       "      <th>0</th>\n",
       "      <td>2008-02-02 13:30:00</td>\n",
       "      <td>366</td>\n",
       "      <td>380</td>\n",
       "      <td>17831.228067</td>\n",
       "      <td>10805.626231</td>\n",
       "    </tr>\n",
       "    <tr>\n",
       "      <th>1</th>\n",
       "      <td>2008-02-02 13:30:00</td>\n",
       "      <td>719</td>\n",
       "      <td>760</td>\n",
       "      <td>8664.893974</td>\n",
       "      <td>21113.999002</td>\n",
       "    </tr>\n",
       "    <tr>\n",
       "      <th>2</th>\n",
       "      <td>2008-02-02 13:30:00</td>\n",
       "      <td>875</td>\n",
       "      <td>876</td>\n",
       "      <td>5281.157698</td>\n",
       "      <td>24207.431410</td>\n",
       "    </tr>\n",
       "    <tr>\n",
       "      <th>3</th>\n",
       "      <td>2008-02-02 13:30:00</td>\n",
       "      <td>877</td>\n",
       "      <td>362</td>\n",
       "      <td>1999.227901</td>\n",
       "      <td>10717.910284</td>\n",
       "    </tr>\n",
       "    <tr>\n",
       "      <th>4</th>\n",
       "      <td>2008-02-02 13:30:00</td>\n",
       "      <td>950</td>\n",
       "      <td>274</td>\n",
       "      <td>4228.169328</td>\n",
       "      <td>8185.256271</td>\n",
       "    </tr>\n",
       "  </tbody>\n",
       "</table>\n",
       "</div>"
      ],
      "text/plain": [
       "            date_time  taxi_id  location_id             x             y\n",
       "0 2008-02-02 13:30:00      366          380  17831.228067  10805.626231\n",
       "1 2008-02-02 13:30:00      719          760   8664.893974  21113.999002\n",
       "2 2008-02-02 13:30:00      875          876   5281.157698  24207.431410\n",
       "3 2008-02-02 13:30:00      877          362   1999.227901  10717.910284\n",
       "4 2008-02-02 13:30:00      950          274   4228.169328   8185.256271"
      ]
     },
     "metadata": {},
     "execution_count": 1
    }
   ],
   "metadata": {}
  },
  {
   "cell_type": "code",
   "execution_count": 2,
   "source": [
    "loc = pd.read_csv('xy_loc.csv')\n",
    "loc.head(5)"
   ],
   "outputs": [
    {
     "output_type": "execute_result",
     "data": {
      "text/html": [
       "<div>\n",
       "<style scoped>\n",
       "    .dataframe tbody tr th:only-of-type {\n",
       "        vertical-align: middle;\n",
       "    }\n",
       "\n",
       "    .dataframe tbody tr th {\n",
       "        vertical-align: top;\n",
       "    }\n",
       "\n",
       "    .dataframe thead th {\n",
       "        text-align: right;\n",
       "    }\n",
       "</style>\n",
       "<table border=\"1\" class=\"dataframe\">\n",
       "  <thead>\n",
       "    <tr style=\"text-align: right;\">\n",
       "      <th></th>\n",
       "      <th>x</th>\n",
       "      <th>y</th>\n",
       "    </tr>\n",
       "  </thead>\n",
       "  <tbody>\n",
       "    <tr>\n",
       "      <th>0</th>\n",
       "      <td>428.127048</td>\n",
       "      <td>416.366323</td>\n",
       "    </tr>\n",
       "    <tr>\n",
       "      <th>1</th>\n",
       "      <td>1284.381143</td>\n",
       "      <td>416.366323</td>\n",
       "    </tr>\n",
       "    <tr>\n",
       "      <th>2</th>\n",
       "      <td>2140.635234</td>\n",
       "      <td>416.366323</td>\n",
       "    </tr>\n",
       "    <tr>\n",
       "      <th>3</th>\n",
       "      <td>2996.889318</td>\n",
       "      <td>416.366323</td>\n",
       "    </tr>\n",
       "    <tr>\n",
       "      <th>4</th>\n",
       "      <td>3853.143393</td>\n",
       "      <td>416.366323</td>\n",
       "    </tr>\n",
       "  </tbody>\n",
       "</table>\n",
       "</div>"
      ],
      "text/plain": [
       "             x           y\n",
       "0   428.127048  416.366323\n",
       "1  1284.381143  416.366323\n",
       "2  2140.635234  416.366323\n",
       "3  2996.889318  416.366323\n",
       "4  3853.143393  416.366323"
      ]
     },
     "metadata": {},
     "execution_count": 2
    }
   ],
   "metadata": {}
  },
  {
   "cell_type": "code",
   "execution_count": 11,
   "source": [
    "def mean_absolute_error(freq, est_freq):\n",
    "    return (abs(freq - est_freq)).mean()\n",
    "def mean_relative_error(freq, est_freq):\n",
    "    freq /= freq.sum()\n",
    "    est_freq /= est_freq.sum()\n",
    "    return (abs(freq - est_freq)/(freq + np.finfo(np.float32).eps)).mean()\n",
    "def jaccard_index(freq, est_freq, k):\n",
    "    top_k = np.argpartition(-freq, k)[:k]\n",
    "    est_top_k = np.argpartition(-est_freq, k)[:k]\n",
    "    return len(np.intersect1d(top_k, est_top_k))/len(np.union1d(top_k, est_top_k))\n",
    "def MSE(freq, est_freq):\n",
    "    return (np.square(freq - est_freq)).mean()\n",
    "def RMSE(freq, est_freq):\n",
    "    return np.sqrt((np.square(freq - est_freq)).mean())"
   ],
   "outputs": [],
   "metadata": {}
  },
  {
   "cell_type": "code",
   "execution_count": 19,
   "source": [
    "import numpy as np\n",
    "from math import exp\n",
    "\n",
    "from tqdm import trange\n",
    "\n",
    "n = 10357\n",
    "episode = 1440\n",
    "d = 900\n",
    "universe = np.arange(d)\n",
    "\n",
    "interval = pd.Timedelta('1min')\n",
    "current_time = pd.Timestamp('2008-02-02 13:30:00')\n",
    "\n",
    "w = 30\n",
    "epsilon_range = [0.1, 0.2, 0.3, 0.4, 0.5, 0.6, 0.7, 0.8, 0.9, 1]"
   ],
   "outputs": [],
   "metadata": {}
  },
  {
   "cell_type": "markdown",
   "source": [
    "## Collective LDP - Last release approximation"
   ],
   "metadata": {}
  },
  {
   "cell_type": "code",
   "execution_count": 27,
   "source": [
    "for epsilon in epsilon_range:\n",
    "    threshold = 2000\n",
    "\n",
    "    window = np.zeros((n, episode), dtype=float)\n",
    "    # current window pointer\n",
    "    cwp = 0\n",
    "    # last-released window pointer\n",
    "    lwp = np.zeros(n, dtype=int)\n",
    "    # historical data\n",
    "    storage = [[] for _ in range(n)]\n",
    "\n",
    "    current_time = pd.Timestamp('2008-02-02 13:30:00')\n",
    "    interval = pd.Timedelta('1min')\n",
    "\n",
    "    util = []\n",
    "    release_flag_record = []\n",
    "    for t in trange(episode):\n",
    "        data = df.loc[df['date_time']==current_time][['location_id', 'taxi_id', 'x', 'y']]\n",
    "        private_freq = np.zeros(d)\n",
    "        true_freq = np.zeros(d)\n",
    "        for row in data.itertuples():\n",
    "            true_freq[row.location_id] += 1\n",
    "            # decision\n",
    "            if storage[row.taxi_id-1]:\n",
    "                last_release = storage[row.taxi_id-1][len(storage[row.taxi_id-1]) - 1]\n",
    "                distance = np.sqrt(np.square(row.x - loc.loc[last_release]['x']) + np.square(row.y - loc.loc[last_release]['y']))\n",
    "                release_flag = (distance > threshold)\n",
    "                decision_budget = epsilon/(2*w)\n",
    "                neg_prob = 1/(exp(decision_budget) + 1)\n",
    "                if np.random.random_sample() < neg_prob:\n",
    "                    release_flag = ~release_flag\n",
    "            # if never released\n",
    "            else:\n",
    "                release_flag = True\n",
    "            if release_flag:\n",
    "                # budget allocation\n",
    "                forward_projection = w - (cwp - lwp[row.taxi_id-1])\n",
    "                if storage[row.taxi_id-1] and forward_projection > 0:\n",
    "                    forward_budget = (epsilon/2 - window[row.taxi_id-1][lwp[row.taxi_id-1]])/forward_projection\n",
    "                    backward_budget = epsilon/2 - window[row.taxi_id-1][max(0, cwp-w+1):cwp].sum()\n",
    "                    release_budget = min(forward_budget, backward_budget)\n",
    "                # if never released or the last release is out of window\n",
    "                else:\n",
    "                    release_budget = epsilon/(2*w)\n",
    "                # randomization\n",
    "                exp_prob = np.sqrt(np.square(row.x - loc['x'].to_numpy()) + np.square(row.y - loc['y'].to_numpy()))\n",
    "                exp_prob = np.exp(-release_budget*exp_prob/2)\n",
    "                exp_prob /= exp_prob.sum()\n",
    "                private_loc = np.random.choice(universe, p=exp_prob)\n",
    "                # window update\n",
    "                window[row.taxi_id-1][cwp] = release_budget\n",
    "                storage[row.taxi_id-1].append(private_loc)\n",
    "                release_flag_record.append(row.taxi_id-1)\n",
    "                lwp[row.taxi_id-1] = cwp\n",
    "            else:\n",
    "                private_loc = last_release\n",
    "            private_freq[private_loc] += 1\n",
    "        cwp += 1\n",
    "        current_time += interval\n",
    "        # skip empty timestamp\n",
    "        if np.all(true_freq == 0):\n",
    "            continue\n",
    "        # util.append(mean_absolute_error(true_freq, private_freq))\n",
    "        # util.append(mean_relative_error(true_freq, private_freq))\n",
    "        # util.append(jaccard_index(true_freq, private_freq, 50))\n",
    "        util.append(MSE(true_freq, private_freq))\n",
    "    print(np.mean(util))\n",
    "\n",
    "# 0.3525844560900716"
   ],
   "outputs": [
    {
     "output_type": "stream",
     "name": "stderr",
     "text": [
      "100%|██████████| 1440/1440 [04:13<00:00,  5.69it/s]\n"
     ]
    },
    {
     "output_type": "stream",
     "name": "stdout",
     "text": [
      "3.135115805946792\n"
     ]
    },
    {
     "output_type": "stream",
     "name": "stderr",
     "text": [
      "100%|██████████| 1440/1440 [04:13<00:00,  5.67it/s]\n"
     ]
    },
    {
     "output_type": "stream",
     "name": "stdout",
     "text": [
      "2.5089718309859155\n"
     ]
    },
    {
     "output_type": "stream",
     "name": "stderr",
     "text": [
      "100%|██████████| 1440/1440 [04:13<00:00,  5.69it/s]\n"
     ]
    },
    {
     "output_type": "stream",
     "name": "stdout",
     "text": [
      "2.0872801251956186\n"
     ]
    },
    {
     "output_type": "stream",
     "name": "stderr",
     "text": [
      "100%|██████████| 1440/1440 [04:13<00:00,  5.69it/s]\n"
     ]
    },
    {
     "output_type": "stream",
     "name": "stdout",
     "text": [
      "1.7858043818466356\n"
     ]
    },
    {
     "output_type": "stream",
     "name": "stderr",
     "text": [
      "100%|██████████| 1440/1440 [04:11<00:00,  5.72it/s]\n"
     ]
    },
    {
     "output_type": "stream",
     "name": "stdout",
     "text": [
      "1.596758998435055\n"
     ]
    },
    {
     "output_type": "stream",
     "name": "stderr",
     "text": [
      "100%|██████████| 1440/1440 [04:05<00:00,  5.86it/s]\n"
     ]
    },
    {
     "output_type": "stream",
     "name": "stdout",
     "text": [
      "1.4657089201877933\n"
     ]
    },
    {
     "output_type": "stream",
     "name": "stderr",
     "text": [
      "100%|██████████| 1440/1440 [04:07<00:00,  5.83it/s]\n"
     ]
    },
    {
     "output_type": "stream",
     "name": "stdout",
     "text": [
      "1.3620469483568076\n"
     ]
    },
    {
     "output_type": "stream",
     "name": "stderr",
     "text": [
      "100%|██████████| 1440/1440 [04:09<00:00,  5.77it/s]\n"
     ]
    },
    {
     "output_type": "stream",
     "name": "stdout",
     "text": [
      "1.3030516431924881\n"
     ]
    },
    {
     "output_type": "stream",
     "name": "stderr",
     "text": [
      "100%|██████████| 1440/1440 [04:13<00:00,  5.69it/s]\n"
     ]
    },
    {
     "output_type": "stream",
     "name": "stdout",
     "text": [
      "1.2447902973395932\n"
     ]
    },
    {
     "output_type": "stream",
     "name": "stderr",
     "text": [
      "100%|██████████| 1440/1440 [04:05<00:00,  5.86it/s]"
     ]
    },
    {
     "output_type": "stream",
     "name": "stdout",
     "text": [
      "1.2025805946791863\n"
     ]
    },
    {
     "output_type": "stream",
     "name": "stderr",
     "text": [
      "\n"
     ]
    }
   ],
   "metadata": {}
  },
  {
   "cell_type": "markdown",
   "source": [
    "## Collective LDP - Exponential approximation"
   ],
   "metadata": {}
  },
  {
   "cell_type": "code",
   "execution_count": 158,
   "source": [
    "for epsilon in epsilon_range:\n",
    "    threshold = 2000\n",
    "\n",
    "    window = np.zeros((n, episode), dtype=float)\n",
    "    # current window pointer\n",
    "    cwp = 0\n",
    "    # last-released window pointer\n",
    "    lwp = np.zeros(n, dtype=int)\n",
    "    # historical data\n",
    "    storage = [[] for _ in range(n)]\n",
    "\n",
    "    current_time = pd.Timestamp('2008-02-02 13:30:00')\n",
    "    interval = pd.Timedelta('1min')\n",
    "\n",
    "    util = []\n",
    "    release_flag_record = []\n",
    "    for t in trange(episode):\n",
    "        data = df.loc[df['date_time']==current_time][['location_id', 'taxi_id', 'x', 'y']]\n",
    "        private_freq = np.zeros(d)\n",
    "        true_freq = np.zeros(d)\n",
    "        for row in data.itertuples():\n",
    "            true_freq[row.location_id] += 1\n",
    "            # decision\n",
    "            if storage[row.taxi_id-1]:\n",
    "                last_release = storage[row.taxi_id-1][len(storage[row.taxi_id-1]) - 1]\n",
    "                distance = np.sqrt(np.square(row.x - loc.loc[last_release]['x']) + np.square(row.y - loc.loc[last_release]['y']))\n",
    "                release_flag = (distance > threshold)\n",
    "                decision_budget = epsilon/(4*w)\n",
    "                neg_prob = 1/(exp(decision_budget) + 1)\n",
    "                if np.random.random_sample() < neg_prob:\n",
    "                    release_flag = ~release_flag\n",
    "            # if never released\n",
    "            else:\n",
    "                release_flag = True\n",
    "            if release_flag:\n",
    "                # budget allocation\n",
    "                forward_projection = w - (cwp - lwp[row.taxi_id-1])\n",
    "                if storage[row.taxi_id-1] and forward_projection > 0:\n",
    "                    forward_budget = (epsilon/2 - window[row.taxi_id-1][lwp[row.taxi_id-1]])/forward_projection\n",
    "                    backward_budget = epsilon/2 - window[row.taxi_id-1][max(0, cwp-w+1):cwp].sum()\n",
    "                    release_budget = min(forward_budget, backward_budget)\n",
    "                # if never released or the last release is out of window\n",
    "                else:\n",
    "                    release_budget = epsilon/(2*w)\n",
    "                # randomization\n",
    "                exp_prob = np.sqrt(np.square(row.x - loc['x'].to_numpy()) + np.square(row.y - loc['y'].to_numpy()))\n",
    "                exp_prob = np.exp(-release_budget*exp_prob/2)\n",
    "                exp_prob /= exp_prob.sum()\n",
    "                private_loc = np.random.choice(universe, p=exp_prob)\n",
    "                # window update\n",
    "                window[row.taxi_id-1][cwp] = release_budget\n",
    "                storage[row.taxi_id-1].append(private_loc)\n",
    "                release_flag_record.append(row.taxi_id-1)\n",
    "                lwp[row.taxi_id-1] = cwp\n",
    "            else:\n",
    "                approximate_budget = epsilon/(4*w)\n",
    "                historical_loc = np.array(storage[row.taxi_id-1])\n",
    "                exp_prob = np.sqrt(np.square(row.x - loc['x'].to_numpy()[historical_loc]) + np.square(row.y - loc['y'].to_numpy()[historical_loc]))\n",
    "                historical_loc = historical_loc[exp_prob < threshold]\n",
    "                if historical_loc.size:\n",
    "                    exp_prob = exp_prob[exp_prob < threshold]\n",
    "                    exp_prob = np.exp(-approximate_budget*exp_prob/2)\n",
    "                    exp_prob /= exp_prob.sum()\n",
    "                    private_loc = np.random.choice(historical_loc, p=exp_prob)\n",
    "                else:\n",
    "                    private_loc = last_release\n",
    "            private_freq[private_loc] += 1\n",
    "        cwp += 1\n",
    "        current_time += interval\n",
    "        # skip empty timestamp\n",
    "        if np.all(true_freq == 0):\n",
    "            continue\n",
    "        # util.append(mean_absolute_error(true_freq, private_freq))\n",
    "        # util.append(mean_relative_error(true_freq, private_freq))\n",
    "        util.append(jaccard_index(true_freq, private_freq, 50))\n",
    "    print(np.mean(util))"
   ],
   "outputs": [
    {
     "output_type": "stream",
     "name": "stderr",
     "text": [
      "100%|██████████| 1440/1440 [05:04<00:00,  4.73it/s]\n"
     ]
    },
    {
     "output_type": "stream",
     "name": "stdout",
     "text": [
      "0.156662100831409\n"
     ]
    },
    {
     "output_type": "stream",
     "name": "stderr",
     "text": [
      "100%|██████████| 1440/1440 [05:03<00:00,  4.75it/s]\n"
     ]
    },
    {
     "output_type": "stream",
     "name": "stdout",
     "text": [
      "0.2192400141554882\n"
     ]
    },
    {
     "output_type": "stream",
     "name": "stderr",
     "text": [
      "100%|██████████| 1440/1440 [05:02<00:00,  4.76it/s]\n"
     ]
    },
    {
     "output_type": "stream",
     "name": "stdout",
     "text": [
      "0.2761201850678324\n"
     ]
    },
    {
     "output_type": "stream",
     "name": "stderr",
     "text": [
      "100%|██████████| 1440/1440 [05:02<00:00,  4.77it/s]\n"
     ]
    },
    {
     "output_type": "stream",
     "name": "stdout",
     "text": [
      "0.3199088583260434\n"
     ]
    },
    {
     "output_type": "stream",
     "name": "stderr",
     "text": [
      "100%|██████████| 1440/1440 [05:02<00:00,  4.77it/s]\n"
     ]
    },
    {
     "output_type": "stream",
     "name": "stdout",
     "text": [
      "0.3525226460824986\n"
     ]
    },
    {
     "output_type": "stream",
     "name": "stderr",
     "text": [
      "100%|██████████| 1440/1440 [05:02<00:00,  4.76it/s]\n"
     ]
    },
    {
     "output_type": "stream",
     "name": "stdout",
     "text": [
      "0.3789033729787043\n"
     ]
    },
    {
     "output_type": "stream",
     "name": "stderr",
     "text": [
      "100%|██████████| 1440/1440 [05:02<00:00,  4.76it/s]\n"
     ]
    },
    {
     "output_type": "stream",
     "name": "stdout",
     "text": [
      "0.3957971479480156\n"
     ]
    },
    {
     "output_type": "stream",
     "name": "stderr",
     "text": [
      "100%|██████████| 1440/1440 [05:02<00:00,  4.76it/s]\n"
     ]
    },
    {
     "output_type": "stream",
     "name": "stdout",
     "text": [
      "0.4114764133861073\n"
     ]
    },
    {
     "output_type": "stream",
     "name": "stderr",
     "text": [
      "100%|██████████| 1440/1440 [05:02<00:00,  4.76it/s]\n"
     ]
    },
    {
     "output_type": "stream",
     "name": "stdout",
     "text": [
      "0.42339369858563686\n"
     ]
    },
    {
     "output_type": "stream",
     "name": "stderr",
     "text": [
      "100%|██████████| 1440/1440 [05:03<00:00,  4.74it/s]"
     ]
    },
    {
     "output_type": "stream",
     "name": "stdout",
     "text": [
      "0.43341965757238277\n"
     ]
    },
    {
     "output_type": "stream",
     "name": "stderr",
     "text": [
      "\n"
     ]
    }
   ],
   "metadata": {}
  },
  {
   "cell_type": "markdown",
   "source": [
    "## Uniform"
   ],
   "metadata": {}
  },
  {
   "cell_type": "code",
   "execution_count": 20,
   "source": [
    "for epsilon in epsilon_range:\n",
    "    current_time = pd.Timestamp('2008-02-02 13:30:00')\n",
    "    interval = pd.Timedelta('1min')\n",
    "\n",
    "    util = []\n",
    "    for t in range(episode):\n",
    "        data = df.loc[df['date_time']==current_time][['location_id', 'taxi_id', 'x', 'y']]\n",
    "        private_freq = np.zeros(d)\n",
    "        true_freq = np.zeros(d)\n",
    "        for row in data.itertuples():\n",
    "            true_freq[row.location_id] += 1\n",
    "            # randomization\n",
    "            release_budget = epsilon/(w)\n",
    "            exp_prob = np.sqrt(np.square(row.x - loc['x'].to_numpy()) + np.square(row.y - loc['y'].to_numpy()))\n",
    "            exp_prob = np.exp(-release_budget*exp_prob/2)\n",
    "            exp_prob /= exp_prob.sum()\n",
    "            private_loc = np.random.choice(universe, p=exp_prob)\n",
    "            private_freq[private_loc] += 1\n",
    "        current_time += interval\n",
    "        # skip empty timestamp\n",
    "        if np.all(true_freq == 0):\n",
    "            continue\n",
    "        # util.append(mean_relative_error(true_freq, private_freq))\n",
    "        util.append(RMSE(true_freq, private_freq))\n",
    "    print(np.mean(util))"
   ],
   "outputs": [
    {
     "output_type": "stream",
     "name": "stdout",
     "text": [
      "1.6011251633713124\n",
      "1.2706117042302234\n",
      "1.0401826263665588\n",
      "0.8907930744577423\n",
      "0.7895028354969762\n",
      "0.7176925821596483\n",
      "0.6634596029057448\n",
      "0.6205510003635093\n",
      "0.5815120212682473\n",
      "0.5504452962113386\n"
     ]
    }
   ],
   "metadata": {}
  },
  {
   "cell_type": "markdown",
   "source": [
    "## Fixed-sample"
   ],
   "metadata": {}
  },
  {
   "cell_type": "code",
   "execution_count": 21,
   "source": [
    "for epsilon in epsilon_range:\n",
    "    window = np.zeros((n, episode), dtype=float)\n",
    "    # current window pointer\n",
    "    cwp = 0\n",
    "    # historical data\n",
    "    storage = [[] for _ in range(n)]\n",
    "\n",
    "    current_time = pd.Timestamp('2008-02-02 13:30:00')\n",
    "    interval = pd.Timedelta('1min')\n",
    "\n",
    "    util = []\n",
    "    for t in range(episode):\n",
    "        data = df.loc[df['date_time']==current_time][['location_id', 'taxi_id', 'x', 'y']]\n",
    "        private_freq = np.zeros(d)\n",
    "        true_freq = np.zeros(d)\n",
    "        for row in data.itertuples():\n",
    "            true_freq[row.location_id] += 1\n",
    "            # randomization\n",
    "            release_budget = epsilon\n",
    "            remain = epsilon - window[row.taxi_id-1][max(0, cwp-w+1):cwp].sum()\n",
    "            if remain < release_budget:\n",
    "                release_budget = 0\n",
    "            if release_budget:\n",
    "                exp_prob = np.sqrt(np.square(row.x - loc['x'].to_numpy()) + np.square(row.y - loc['y'].to_numpy()))\n",
    "                exp_prob = np.exp(-release_budget*exp_prob/2)\n",
    "                exp_prob /= exp_prob.sum()\n",
    "                private_loc = np.random.choice(universe, p=exp_prob)\n",
    "                # update window\n",
    "                window[row.taxi_id-1][cwp] = release_budget\n",
    "                storage[row.taxi_id-1].append(private_loc)\n",
    "            else:\n",
    "                private_loc = storage[row.taxi_id-1][len(storage[row.taxi_id-1])-1]\n",
    "            private_freq[private_loc] += 1\n",
    "        cwp += 1\n",
    "        current_time += interval\n",
    "        # skip empty timestamp\n",
    "        if np.all(true_freq == 0):\n",
    "            continue\n",
    "        # util.append(mean_relative_error(true_freq, private_freq))\n",
    "        util.append(RMSE(true_freq, private_freq))\n",
    "    print(np.mean(util))"
   ],
   "outputs": [
    {
     "output_type": "stream",
     "name": "stdout",
     "text": [
      "1.2676868767521363\n",
      "1.261496483286211\n",
      "1.2602297944451166\n",
      "1.2582589905884656\n",
      "1.2585298788523291\n",
      "1.2576452991292872\n",
      "1.2575592069473045\n",
      "1.2574633762912992\n",
      "1.2571541710723861\n",
      "1.2569296220861534\n"
     ]
    }
   ],
   "metadata": {}
  },
  {
   "cell_type": "markdown",
   "source": [
    "## Local-fixed-sample"
   ],
   "metadata": {}
  },
  {
   "cell_type": "code",
   "execution_count": 22,
   "source": [
    "for epsilon in epsilon_range:\n",
    "    window = np.zeros((n, episode), dtype=float)\n",
    "    # current window pointer\n",
    "    cwp = 0\n",
    "    # historical data\n",
    "    storage = [[] for _ in range(n)]\n",
    "\n",
    "    current_time = pd.Timestamp('2008-02-02 13:30:00')\n",
    "    interval = pd.Timedelta('1min')\n",
    "\n",
    "    util = []\n",
    "    for t in range(episode):\n",
    "        data = df.loc[df['date_time']==current_time][['location_id', 'taxi_id', 'x', 'y']]\n",
    "        private_freq = np.zeros(d)\n",
    "        true_freq = np.zeros(d)\n",
    "        for row in data.itertuples():\n",
    "            true_freq[row.location_id] += 1\n",
    "            # randomization\n",
    "            release_budget = epsilon/(w*0.45)\n",
    "            remain = epsilon - window[row.taxi_id-1][max(0, cwp-w+1):cwp].sum()\n",
    "            if remain < release_budget:\n",
    "                release_budget = 0\n",
    "            if release_budget:\n",
    "                exp_prob = np.sqrt(np.square(row.x - loc['x'].to_numpy()) + np.square(row.y - loc['y'].to_numpy()))\n",
    "                exp_prob = np.exp(-release_budget*exp_prob/2)\n",
    "                exp_prob /= exp_prob.sum()\n",
    "                private_loc = np.random.choice(universe, p=exp_prob)\n",
    "                # update window\n",
    "                window[row.taxi_id-1][cwp] = release_budget\n",
    "                storage[row.taxi_id-1].append(private_loc)\n",
    "            else:\n",
    "                private_loc = storage[row.taxi_id-1][len(storage[row.taxi_id-1])-1]\n",
    "            private_freq[private_loc] += 1\n",
    "        cwp += 1\n",
    "        current_time += interval\n",
    "        # skip empty timestamp\n",
    "        if np.all(true_freq == 0):\n",
    "            continue\n",
    "        # util.append(mean_relative_error(true_freq, private_freq))\n",
    "        util.append(RMSE(true_freq, private_freq))\n",
    "        # util.append(MSE(true_freq, private_freq))\n",
    "    print(np.mean(util))"
   ],
   "outputs": [
    {
     "output_type": "stream",
     "name": "stdout",
     "text": [
      "1.2273380544758994\n",
      "0.8790635959103152\n",
      "0.7314733847980424\n",
      "0.6481031114735128\n",
      "0.5947397548587046\n",
      "0.5576808271754499\n",
      "0.5254398701222845\n",
      "0.5033941227274871\n",
      "0.48350634582614005\n",
      "0.4689051064975039\n"
     ]
    }
   ],
   "metadata": {}
  },
  {
   "cell_type": "code",
   "execution_count": 23,
   "source": [
    "for epsilon in epsilon_range:\n",
    "    window = np.zeros((n, episode), dtype=float)\n",
    "    # current window pointer\n",
    "    cwp = 0\n",
    "    # historical data\n",
    "    storage = [[] for _ in range(n)]\n",
    "    # adaptive allocation parameter\n",
    "    c = np.full(n, 0.45)\n",
    "    data_flag = np.zeros((n, episode), dtype=int)\n",
    "    release_flag = np.zeros((n, episode), dtype=int)\n",
    "    pid_error = np.zeros((n, episode), dtype=float)\n",
    "\n",
    "    current_time = pd.Timestamp('2008-02-02 13:30:00')\n",
    "    interval = pd.Timedelta('1min')\n",
    "\n",
    "    util = []\n",
    "    for t in range(episode):\n",
    "        data = df.loc[df['date_time']==current_time][['location_id', 'taxi_id', 'x', 'y']]\n",
    "        private_freq = np.zeros(d)\n",
    "        true_freq = np.zeros(d)\n",
    "        for row in data.itertuples():\n",
    "            true_freq[row.location_id] += 1\n",
    "            data_flag[row.taxi_id-1][cwp] = 1\n",
    "            # randomization\n",
    "            release_budget = epsilon/(w*c[row.taxi_id-1])\n",
    "            remain = epsilon - window[row.taxi_id-1][max(0, cwp-w+1):cwp].sum()\n",
    "            if remain < release_budget:\n",
    "                release_budget = 0\n",
    "            if release_budget:\n",
    "                exp_prob = np.sqrt(np.square(row.x - loc['x'].to_numpy()) + np.square(row.y - loc['y'].to_numpy()))\n",
    "                exp_prob = np.exp(-release_budget*exp_prob/2)\n",
    "                exp_prob /= exp_prob.sum()\n",
    "                private_loc = np.random.choice(universe, p=exp_prob)\n",
    "                # update window\n",
    "                window[row.taxi_id-1][cwp] = release_budget\n",
    "                storage[row.taxi_id-1].append(private_loc)\n",
    "                release_flag[row.taxi_id-1][cwp] = 1\n",
    "            else:\n",
    "                private_loc = storage[row.taxi_id-1][len(storage[row.taxi_id-1])-1]\n",
    "            private_freq[private_loc] += 1\n",
    "        if t > w:\n",
    "            data_num = data_flag[:, max(0, cwp-w+1):cwp].sum(axis=1)\n",
    "            release_num = release_flag[:, max(0, cwp-w+1):cwp].sum(axis=1)\n",
    "            pid_error[:, cwp] = abs((data_num - release_num - 0.01)/w)\n",
    "            error = np.sign((data_num - release_num - 0.01))*(1.0*pid_error[:, cwp] + 0.1*pid_error[:, max(0, cwp-w+1):cwp].sum(axis=1) + 0.0*(pid_error[:, cwp] - pid_error[:, cwp-1]))\n",
    "            c += 1*error\n",
    "            c = np.clip(c, 1/w, 1)\n",
    "        cwp += 1\n",
    "        current_time += interval\n",
    "        # skip empty timestamp\n",
    "        if np.all(true_freq == 0):\n",
    "            continue\n",
    "        # util.append(mean_relative_error(true_freq, private_freq))\n",
    "        util.append(RMSE(true_freq, private_freq))\n",
    "    print(np.mean(util))"
   ],
   "outputs": [
    {
     "output_type": "stream",
     "name": "stdout",
     "text": [
      "1.3761478613875893\n",
      "1.1122333011460912\n",
      "0.9636806590553623\n",
      "0.872827362489086\n",
      "0.8137976704710717\n",
      "0.7745218139566253\n",
      "0.7444018322907613\n",
      "0.722133873375417\n",
      "0.7042039088100169\n",
      "0.689899450156021\n"
     ]
    }
   ],
   "metadata": {}
  },
  {
   "cell_type": "markdown",
   "source": [
    "## Budget distribution"
   ],
   "metadata": {}
  },
  {
   "cell_type": "code",
   "execution_count": 24,
   "source": [
    "for epsilon in epsilon_range:\n",
    "    window = np.zeros((n, episode), dtype=float)\n",
    "    # historical data\n",
    "    storage = [[] for _ in range(n)]\n",
    "\n",
    "    current_time = pd.Timestamp('2008-02-02 13:30:00')\n",
    "    interval = pd.Timedelta('1min')\n",
    "\n",
    "    util = []\n",
    "    for t in range(episode):\n",
    "        data = df.loc[df['date_time']==current_time][['location_id', 'taxi_id', 'x', 'y']]\n",
    "        private_freq = np.zeros(d)\n",
    "        true_freq = np.zeros(d)\n",
    "        for row in data.itertuples():\n",
    "            true_freq[row.location_id] += 1\n",
    "            # decision\n",
    "            if storage[row.taxi_id-1]:\n",
    "                last_release = storage[row.taxi_id-1][len(storage[row.taxi_id-1]) - 1]\n",
    "                distance = abs(row.location_id - last_release)\n",
    "                decision_budget = epsilon/(2*w)\n",
    "                # add noise to distance\n",
    "                private_distance = np.random.laplace(0, 1/decision_budget)\n",
    "                remain = epsilon/2 - window[row.taxi_id-1][max(0, t-w+1):t].sum()\n",
    "                release_budget = remain/2\n",
    "                if private_distance > 1/release_budget:\n",
    "                    # randomization\n",
    "                    exp_prob = np.sqrt(np.square(row.x - loc['x'].to_numpy()) + np.square(row.y - loc['y'].to_numpy()))\n",
    "                    exp_prob = np.exp(-release_budget*exp_prob/2)\n",
    "                    exp_prob /= exp_prob.sum()\n",
    "                    private_loc = np.random.choice(universe, p=exp_prob)\n",
    "                    # update window\n",
    "                    window[row.taxi_id-1][t] = release_budget\n",
    "                    storage[row.taxi_id-1].append(private_loc)\n",
    "                else:\n",
    "                    private_loc = storage[row.taxi_id-1][len(storage[row.taxi_id-1])-1]\n",
    "            # if never released\n",
    "            else:\n",
    "                # randomization\n",
    "                release_budget = epsilon/(2*w)\n",
    "                exp_prob = np.abs(row.location_id - universe)\n",
    "                exp_prob = np.exp(-release_budget*exp_prob/2)\n",
    "                exp_prob /= exp_prob.sum()\n",
    "                private_loc = np.random.choice(universe, p=exp_prob)\n",
    "                # update window\n",
    "                window[row.taxi_id-1][t] = release_budget\n",
    "                storage[row.taxi_id-1].append(private_loc)\n",
    "            private_freq[private_loc] += 1\n",
    "        current_time += interval\n",
    "        # skip empty timestamp\n",
    "        if np.all(true_freq == 0):\n",
    "            continue\n",
    "        util.append(RMSE(true_freq, private_freq))\n",
    "    print(np.mean(util))"
   ],
   "outputs": [
    {
     "output_type": "stream",
     "name": "stdout",
     "text": [
      "1.331595747816331\n",
      "1.1924455030156313\n",
      "1.1361226343728743\n",
      "1.103757882308918\n",
      "1.0855967162570872\n",
      "1.0704240288498517\n",
      "1.063019483663394\n",
      "1.056702948042521\n",
      "1.0516980229351782\n",
      "1.0473350209474466\n"
     ]
    }
   ],
   "metadata": {}
  },
  {
   "cell_type": "markdown",
   "source": [
    "## Budget absorption"
   ],
   "metadata": {}
  },
  {
   "cell_type": "code",
   "execution_count": 25,
   "source": [
    "for epsilon in epsilon_range:\n",
    "    window = np.zeros((n, episode), dtype=float)\n",
    "    # historical data\n",
    "    storage = [[] for _ in range(n)]\n",
    "\n",
    "    current_time = pd.Timestamp('2008-02-02 13:30:00')\n",
    "    interval = pd.Timedelta('1min')\n",
    "\n",
    "    util = []\n",
    "    for t in range(episode):\n",
    "        data = df.loc[df['date_time']==current_time][['location_id', 'taxi_id', 'x', 'y']]\n",
    "        private_freq = np.zeros(d)\n",
    "        true_freq = np.zeros(d)\n",
    "        for row in data.itertuples():\n",
    "            true_freq[row.location_id] += 1\n",
    "            # decision\n",
    "            if storage[row.taxi_id-1]:\n",
    "                last_release = storage[row.taxi_id-1][len(storage[row.taxi_id-1]) - 1]\n",
    "                distance = abs(row.location_id - last_release)\n",
    "                decision_budget = epsilon/(2*w)\n",
    "                # add noise to distance\n",
    "                private_distance = np.random.laplace(0, 1/decision_budget)\n",
    "                remain = epsilon/2 - window[row.taxi_id-1][max(0, t-w+1):t].sum()\n",
    "                release_budget = remain\n",
    "                if release_budget > 0 and private_distance > 1/release_budget:\n",
    "                    # randomization\n",
    "                    exp_prob = np.sqrt(np.square(row.x - loc['x'].to_numpy()) + np.square(row.y - loc['y'].to_numpy()))\n",
    "                    exp_prob = np.exp(-release_budget*exp_prob/2)\n",
    "                    exp_prob /= exp_prob.sum()\n",
    "                    private_loc = np.random.choice(universe, p=exp_prob)\n",
    "                    # update window\n",
    "                    window[row.taxi_id-1][t] = release_budget\n",
    "                    storage[row.taxi_id-1].append(private_loc)\n",
    "                else:\n",
    "                    private_loc = storage[row.taxi_id-1][len(storage[row.taxi_id-1])-1]\n",
    "            # if never released\n",
    "            else:\n",
    "                # randomization\n",
    "                release_budget = epsilon/(2*w)\n",
    "                exp_prob = np.abs(row.location_id - universe)\n",
    "                exp_prob = np.exp(-release_budget*exp_prob/2)\n",
    "                exp_prob /= exp_prob.sum()\n",
    "                private_loc = np.random.choice(universe, p=exp_prob)\n",
    "                # update window\n",
    "                window[row.taxi_id-1][t] = release_budget\n",
    "                storage[row.taxi_id-1].append(private_loc)\n",
    "            private_freq[private_loc] += 1\n",
    "        current_time += interval\n",
    "        # skip empty timestamp\n",
    "        if np.all(true_freq == 0):\n",
    "            continue\n",
    "        util.append(RMSE(true_freq, private_freq))\n",
    "    print(np.mean(util))"
   ],
   "outputs": [
    {
     "output_type": "stream",
     "name": "stdout",
     "text": [
      "1.3097592053075007\n",
      "1.291933075526858\n",
      "1.2913592567624381\n",
      "1.2895022374332707\n",
      "1.2840794901696297\n",
      "1.2839187892299961\n",
      "1.2828986878844975\n",
      "1.2846004253385044\n",
      "1.2815063347668196\n",
      "1.2794817262037184\n"
     ]
    }
   ],
   "metadata": {}
  },
  {
   "cell_type": "code",
   "execution_count": 78,
   "source": [
    "c"
   ],
   "outputs": [
    {
     "output_type": "execute_result",
     "data": {
      "text/plain": [
       "array([0.43676, 0.43676, 0.43676, ..., 0.43676, 0.43676, 0.43676])"
      ]
     },
     "metadata": {},
     "execution_count": 78
    }
   ],
   "metadata": {}
  },
  {
   "cell_type": "code",
   "execution_count": 74,
   "source": [
    "0.45 - 144*0.01/30"
   ],
   "outputs": [
    {
     "output_type": "execute_result",
     "data": {
      "text/plain": [
       "0.402"
      ]
     },
     "metadata": {},
     "execution_count": 74
    }
   ],
   "metadata": {}
  }
 ],
 "metadata": {
  "orig_nbformat": 4,
  "language_info": {
   "name": "python",
   "version": "3.8.11",
   "mimetype": "text/x-python",
   "codemirror_mode": {
    "name": "ipython",
    "version": 3
   },
   "pygments_lexer": "ipython3",
   "nbconvert_exporter": "python",
   "file_extension": ".py"
  },
  "kernelspec": {
   "name": "python3",
   "display_name": "Python 3.8.11 64-bit ('ldp': conda)"
  },
  "interpreter": {
   "hash": "3ab1aef511fa2a93501e996a950c9521aba6e7c87a2eabc8e3eba7db34c6004a"
  }
 },
 "nbformat": 4,
 "nbformat_minor": 2
}