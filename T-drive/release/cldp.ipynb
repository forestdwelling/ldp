{
 "cells": [
  {
   "cell_type": "code",
   "execution_count": 1,
   "source": [
    "import pandas as pd\n",
    "import numpy as np\n",
    "\n",
    "import matplotlib.pyplot as plt"
   ],
   "outputs": [],
   "metadata": {}
  },
  {
   "cell_type": "markdown",
   "source": [
    "# Frequency Oracle"
   ],
   "metadata": {}
  },
  {
   "cell_type": "code",
   "execution_count": 2,
   "source": [
    "df = pd.read_csv('taxi_day.csv', \n",
    "    dtype={'taxi_id':int, 'date_time':object, 'location_id':int}, \n",
    "    parse_dates=['date_time'], \n",
    "    infer_datetime_format=True)\n",
    "df.tail(5)"
   ],
   "outputs": [
    {
     "output_type": "execute_result",
     "data": {
      "text/html": [
       "<div>\n",
       "<style scoped>\n",
       "    .dataframe tbody tr th:only-of-type {\n",
       "        vertical-align: middle;\n",
       "    }\n",
       "\n",
       "    .dataframe tbody tr th {\n",
       "        vertical-align: top;\n",
       "    }\n",
       "\n",
       "    .dataframe thead th {\n",
       "        text-align: right;\n",
       "    }\n",
       "</style>\n",
       "<table border=\"1\" class=\"dataframe\">\n",
       "  <thead>\n",
       "    <tr style=\"text-align: right;\">\n",
       "      <th></th>\n",
       "      <th>date_time</th>\n",
       "      <th>taxi_id</th>\n",
       "      <th>location_id</th>\n",
       "    </tr>\n",
       "  </thead>\n",
       "  <tbody>\n",
       "    <tr>\n",
       "      <th>1625183</th>\n",
       "      <td>2008-02-03 13:30:00</td>\n",
       "      <td>10313</td>\n",
       "      <td>276</td>\n",
       "    </tr>\n",
       "    <tr>\n",
       "      <th>1625184</th>\n",
       "      <td>2008-02-03 13:30:00</td>\n",
       "      <td>10335</td>\n",
       "      <td>744</td>\n",
       "    </tr>\n",
       "    <tr>\n",
       "      <th>1625185</th>\n",
       "      <td>2008-02-03 13:30:00</td>\n",
       "      <td>10337</td>\n",
       "      <td>162</td>\n",
       "    </tr>\n",
       "    <tr>\n",
       "      <th>1625186</th>\n",
       "      <td>2008-02-03 13:30:00</td>\n",
       "      <td>10340</td>\n",
       "      <td>668</td>\n",
       "    </tr>\n",
       "    <tr>\n",
       "      <th>1625187</th>\n",
       "      <td>2008-02-03 13:30:00</td>\n",
       "      <td>10343</td>\n",
       "      <td>312</td>\n",
       "    </tr>\n",
       "  </tbody>\n",
       "</table>\n",
       "</div>"
      ],
      "text/plain": [
       "                  date_time  taxi_id  location_id\n",
       "1625183 2008-02-03 13:30:00    10313          276\n",
       "1625184 2008-02-03 13:30:00    10335          744\n",
       "1625185 2008-02-03 13:30:00    10337          162\n",
       "1625186 2008-02-03 13:30:00    10340          668\n",
       "1625187 2008-02-03 13:30:00    10343          312"
      ]
     },
     "metadata": {},
     "execution_count": 2
    }
   ],
   "metadata": {}
  },
  {
   "cell_type": "markdown",
   "source": [
    "## Distance matrix"
   ],
   "metadata": {}
  },
  {
   "cell_type": "code",
   "execution_count": 3,
   "source": [
    "from geopy.distance import geodesic\n",
    "\n",
    "latitude_min = 39.81\n",
    "longitude_min = 116.245\n",
    "latitude_step = 0.0045 # 500m\n",
    "longitude_step = 0.0058 # 495m\n",
    "latitude_num = 50\n",
    "longitude_num = 50\n",
    "latitude_max = latitude_min + latitude_num*latitude_step\n",
    "longitude_max = longitude_min + longitude_num*longitude_step\n",
    "\n",
    "d = latitude_num*longitude_num\n",
    "coordinate = np.zeros((d, 2))\n",
    "for i in range(d):\n",
    "    coordinate[i] = ((latitude_min + latitude_step*int(i/longitude_num) + latitude_step/2), (longitude_min + longitude_step*(i%longitude_num) + longitude_step/2))\n",
    "dist_mat = np.zeros((d, d))\n",
    "for i in range(d):\n",
    "    for j in range(d):\n",
    "        dist_mat[i][j] = geodesic(coordinate[i], coordinate[j]).m"
   ],
   "outputs": [],
   "metadata": {}
  },
  {
   "cell_type": "markdown",
   "source": [
    "## Expected distance"
   ],
   "metadata": {}
  },
  {
   "cell_type": "code",
   "execution_count": 4,
   "source": [
    "data = np.array(df['location_id'])\n",
    "d = latitude_num*longitude_num\n",
    "pi = np.zeros(d)\n",
    "for i in data:\n",
    "    pi[i] += 1\n",
    "pi /= pi.sum()"
   ],
   "outputs": [],
   "metadata": {}
  },
  {
   "cell_type": "code",
   "execution_count": 26,
   "source": [
    "alpha = 0.0005\n",
    "p_mat = np.exp(-alpha*dist_mat/2)\n",
    "for i, _ in enumerate(p_mat):\n",
    "    p_mat[i] /= p_mat[i].sum()\n",
    "(pi*(dist_mat*p_mat).sum(axis=1)).sum()"
   ],
   "outputs": [
    {
     "output_type": "execute_result",
     "data": {
      "text/plain": [
       "6016.819208912342"
      ]
     },
     "metadata": {},
     "execution_count": 26
    }
   ],
   "metadata": {}
  },
  {
   "cell_type": "code",
   "execution_count": 23,
   "source": [
    "from math import exp\n",
    "\n",
    "epsilon = 8\n",
    "p_mat_grr = np.full((d, d), 1/(exp(epsilon) + d - 1))\n",
    "p_mat_grr[np.diag_indices_from(p_mat_grr)] = exp(epsilon)/(exp(epsilon) + d - 1)\n",
    "(pi*(dist_mat*p_mat_grr).sum(axis=1)).sum()"
   ],
   "outputs": [
    {
     "output_type": "execute_result",
     "data": {
      "text/plain": [
       "6140.51793393686"
      ]
     },
     "metadata": {},
     "execution_count": 23
    }
   ],
   "metadata": {}
  },
  {
   "cell_type": "markdown",
   "source": [
    "## Randomizer"
   ],
   "metadata": {}
  },
  {
   "cell_type": "code",
   "execution_count": 12,
   "source": [
    "from xxhash import xxh32\n",
    "\n",
    "def GRR(data, epsilon):\n",
    "    global d\n",
    "    p = exp(epsilon)/(exp(epsilon) + d - 1)\n",
    "    q = 1/(exp(epsilon) + d - 1)\n",
    "    aggregated_data = np.zeros(d, dtype=int)\n",
    "    for item in data:\n",
    "        private_data = item\n",
    "        if np.random.random_sample() > p - q:\n",
    "            private_data = np.random.randint(0, d)\n",
    "        aggregated_data[private_data] += 1\n",
    "    return (aggregated_data - len(data)*q)/(p - q)\n",
    "\n",
    "def EM(data, alpha):\n",
    "    global d\n",
    "    global dist_mat\n",
    "    p_mat = np.exp(-alpha*dist_mat/2)\n",
    "    for i, _ in enumerate(p_mat):\n",
    "        p_mat[i] /= p_mat[i].sum()\n",
    "    universe = np.arange(d)\n",
    "    aggregated_data = np.zeros(d)\n",
    "    for item in data:\n",
    "        aggregated_data[np.random.choice(universe, p=p_mat[item])] += 1\n",
    "    return aggregated_data\n",
    "\n",
    "def OUE(data, epsilon):\n",
    "    global d\n",
    "    p = 1 - 1/2\n",
    "    q = 1/(exp(epsilon)+1)\n",
    "    aggregated_data = np.zeros(d)\n",
    "    for item in data:\n",
    "        private_data = np.zeros(d)\n",
    "        private_data[item] = 1\n",
    "        aggregated_data += np.where(private_data == 1, \n",
    "            np.random.binomial(1, p, d), \n",
    "            np.random.binomial(1, q, d))\n",
    "    return (aggregated_data - len(data)*q)/(p - q)\n",
    "\n",
    "def OLH(data, epsilon):\n",
    "    global d\n",
    "    g = int(round(exp(epsilon))) + 1\n",
    "    p = exp(epsilon)/(exp(epsilon) + g - 1)\n",
    "    q = 1/(exp(epsilon) + g - 1)\n",
    "    aggregated_data = np.zeros(d)\n",
    "    for i, item in enumerate(data):\n",
    "        private_data = (xxh32(str(item), seed=i).intdigest() % g)\n",
    "        if np.random.random_sample() > p - q:\n",
    "            private_data = np.random.randint(0, g)\n",
    "        for j in range(d):\n",
    "            if private_data == (xxh32(str(j), seed=i).intdigest() % g):\n",
    "                aggregated_data[j] +=  1\n",
    "    return (g*aggregated_data - len(data))/(p*g - 1)"
   ],
   "outputs": [],
   "metadata": {}
  },
  {
   "cell_type": "code",
   "execution_count": null,
   "source": [
    "from scipy import stats"
   ],
   "outputs": [],
   "metadata": {}
  },
  {
   "cell_type": "markdown",
   "source": [
    "## Metric"
   ],
   "metadata": {}
  },
  {
   "cell_type": "code",
   "execution_count": 19,
   "source": [
    "def jaccard_index(top_k, est_top_k):\n",
    "    return len(np.intersect1d(top_k, est_top_k))/len(np.union1d(top_k, est_top_k))\n",
    "\n",
    "def relative_error(freq, est_freq):\n",
    "    freq /= freq.sum()\n",
    "    est_freq /= est_freq.sum()\n",
    "    return (abs(freq - est_freq)/(freq + np.finfo(np.float32).eps)).mean()\n",
    "\n",
    "def utility(freq, est_freq):\n",
    "    k = 100\n",
    "    # jaccard index\n",
    "    true_top_k = np.argpartition(-freq, k)[:k]\n",
    "    est_top_k = np.argpartition(-est_freq, k)[:k]\n",
    "    jaccard_index = len(np.intersect1d(true_top_k, est_top_k))/len(np.union1d(true_top_k, est_top_k))\n",
    "    # relative error\n",
    "    freq /= freq.sum()\n",
    "    est_freq /= est_freq.sum()\n",
    "    relative_error = (abs(freq - est_freq)/(freq + np.finfo(np.float32).eps)).mean()\n",
    "    return jaccard_index"
   ],
   "outputs": [],
   "metadata": {}
  },
  {
   "cell_type": "code",
   "execution_count": 27,
   "source": [
    "current_time = pd.Timestamp('2008-02-02 13:30:00')\n",
    "interval = '1min'\n",
    "\n",
    "data = np.array(df.loc[df['date_time']==current_time+pd.Timedelta(5*interval)]['location_id'])\n",
    "freq_grr = GRR(data, epsilon)\n",
    "freq_em = EM(data, alpha)\n",
    "freq_oue = OUE(data, epsilon)\n",
    "freq_olh = OLH(data, epsilon)\n",
    "\n",
    "# data = np.array(df.loc[df['date_time']==current_time+pd.Timedelta(10*interval)]['location_id'])\n",
    "freq = np.zeros(d)\n",
    "for loc in data:\n",
    "    freq[loc] += 1\n",
    "\n",
    "print(utility(freq, freq_grr))\n",
    "print(utility(freq, freq_em))\n",
    "print(utility(freq, freq_oue))\n",
    "print(utility(freq, freq_olh))\n",
    "\n",
    "plt.figure(figsize=(28, 4))\n",
    "plt.subplot(151)\n",
    "plt.hist(data, d)\n",
    "plt.subplot(152)\n",
    "plt.plot(freq_grr)\n",
    "plt.subplot(153)\n",
    "plt.plot(freq_em)\n",
    "plt.subplot(154)\n",
    "plt.plot(freq_oue)\n",
    "plt.subplot(155)\n",
    "plt.plot(freq_olh)\n",
    "plt.show()"
   ],
   "outputs": [
    {
     "output_type": "stream",
     "name": "stdout",
     "text": [
      "0.5151515151515151\n",
      "0.04712041884816754\n",
      "0.43884892086330934\n",
      "0.4492753623188406\n"
     ]
    },
    {
     "output_type": "display_data",
     "data": {
      "image/png": "[encoded data removed]",
      "text/plain": [
       "<Figure size 2016x288 with 5 Axes>"
      ]
     },
     "metadata": {
      "needs_background": "light"
     }
    }
   ],
   "metadata": {}
  }
 ],
 "metadata": {
  "orig_nbformat": 4,
  "language_info": {
   "name": "python",
   "version": "3.8.11",
   "mimetype": "text/x-python",
   "codemirror_mode": {
    "name": "ipython",
    "version": 3
   },
   "pygments_lexer": "ipython3",
   "nbconvert_exporter": "python",
   "file_extension": ".py"
  },
  "kernelspec": {
   "name": "python3",
   "display_name": "Python 3.8.11 64-bit ('ldp': conda)"
  },
  "interpreter": {
   "hash": "3ab1aef511fa2a93501e996a950c9521aba6e7c87a2eabc8e3eba7db34c6004a"
  }
 },
 "nbformat": 4,
 "nbformat_minor": 2
}