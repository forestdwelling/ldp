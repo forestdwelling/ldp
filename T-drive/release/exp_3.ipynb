{
 "cells": [
  {
   "cell_type": "code",
   "execution_count": 1,
   "source": [
    "import pandas as pd\n",
    "\n",
    "df = pd.read_csv('xy_day.csv', \n",
    "    dtype={'taxi_id':int, 'location_id':int, 'date_time':object, 'x':float, 'y':float}, \n",
    "    parse_dates=['date_time'], \n",
    "    infer_datetime_format=True)\n",
    "loc = pd.read_csv('xy_loc.csv')\n",
    "def mean_absolute_error(freq, est_freq):\n",
    "    return (abs(freq - est_freq)).mean()\n",
    "def mean_relative_error(freq, est_freq):\n",
    "    freq /= freq.sum()\n",
    "    est_freq /= est_freq.sum()\n",
    "    return (abs(freq - est_freq)/(freq + np.finfo(np.float32).eps)).mean()\n",
    "def jaccard_index(freq, est_freq, k):\n",
    "    top_k = np.argpartition(-freq, k)[:k]\n",
    "    est_top_k = np.argpartition(-est_freq, k)[:k]\n",
    "    return len(np.intersect1d(top_k, est_top_k))/len(np.union1d(top_k, est_top_k))\n",
    "def MSE(freq, est_freq):\n",
    "    return (np.square(freq - est_freq)).mean()\n",
    "\n",
    "import numpy as np\n",
    "from math import exp\n",
    "\n",
    "from tqdm import trange\n",
    "\n",
    "n = 10357\n",
    "episode = 1440\n",
    "d = 900\n",
    "universe = np.arange(d)\n",
    "\n",
    "w = 30\n",
    "epsilon = 1"
   ],
   "outputs": [],
   "metadata": {}
  },
  {
   "cell_type": "code",
   "execution_count": 3,
   "source": [
    "for epsilon in [0.1, 0.2, 0.3, 0.4, 0.5, 0.6, 0.7, 0.8, 0.9, 1]:\n",
    "    window = np.zeros((n, episode), dtype=float)\n",
    "    # current window pointer\n",
    "    cwp = 0\n",
    "    # historical data\n",
    "    storage = [[] for _ in range(n)]\n",
    "\n",
    "    current_time = pd.Timestamp('2008-02-02 13:30:00')\n",
    "    interval = pd.Timedelta('1min')\n",
    "\n",
    "    util = []\n",
    "    for t in trange(episode):\n",
    "        data = df.loc[df['date_time']==current_time][['location_id', 'taxi_id', 'x', 'y']]\n",
    "        private_freq = np.zeros(d)\n",
    "        true_freq = np.zeros(d)\n",
    "        for row in data.itertuples():\n",
    "            true_freq[row.location_id] += 1\n",
    "            # randomization\n",
    "            release_budget = epsilon\n",
    "            remain = epsilon - window[row.taxi_id-1][max(0, cwp-w+1):cwp].sum()\n",
    "            if remain < release_budget:\n",
    "                release_budget = 0\n",
    "            if release_budget:\n",
    "                exp_prob = np.sqrt(np.square(row.x - loc['x'].to_numpy()) + np.square(row.y - loc['y'].to_numpy()))\n",
    "                exp_prob = np.exp(-release_budget*exp_prob/2)\n",
    "                exp_prob /= exp_prob.sum()\n",
    "                private_loc = np.random.choice(universe, p=exp_prob)\n",
    "                # update window\n",
    "                window[row.taxi_id-1][cwp] = release_budget\n",
    "                storage[row.taxi_id-1].append(private_loc)\n",
    "            else:\n",
    "                private_loc = storage[row.taxi_id-1][len(storage[row.taxi_id-1])-1]\n",
    "            private_freq[private_loc] += 1\n",
    "        cwp += 1\n",
    "        current_time += interval\n",
    "        # skip empty timestamp\n",
    "        if np.all(true_freq == 0):\n",
    "            continue\n",
    "        # util.append(mean_relative_error(true_freq, private_freq))\n",
    "        # util.append(jaccard_index(true_freq, private_freq, 50))\n",
    "        util.append(MSE(true_freq, private_freq))\n",
    "    print(np.mean(util))"
   ],
   "outputs": [
    {
     "output_type": "stream",
     "name": "stderr",
     "text": [
      "100%|██████████| 1440/1440 [00:31<00:00, 45.87it/s]\n"
     ]
    },
    {
     "output_type": "stream",
     "name": "stdout",
     "text": [
      "1.761446009389671\n"
     ]
    },
    {
     "output_type": "stream",
     "name": "stderr",
     "text": [
      "100%|██████████| 1440/1440 [00:30<00:00, 46.99it/s]\n"
     ]
    },
    {
     "output_type": "stream",
     "name": "stdout",
     "text": [
      "1.7451721439749608\n"
     ]
    },
    {
     "output_type": "stream",
     "name": "stderr",
     "text": [
      "100%|██████████| 1440/1440 [00:30<00:00, 47.00it/s]\n"
     ]
    },
    {
     "output_type": "stream",
     "name": "stdout",
     "text": [
      "1.7406823161189358\n"
     ]
    },
    {
     "output_type": "stream",
     "name": "stderr",
     "text": [
      "100%|██████████| 1440/1440 [00:30<00:00, 47.13it/s]\n"
     ]
    },
    {
     "output_type": "stream",
     "name": "stdout",
     "text": [
      "1.7377261345852897\n"
     ]
    },
    {
     "output_type": "stream",
     "name": "stderr",
     "text": [
      "100%|██████████| 1440/1440 [00:30<00:00, 47.15it/s]\n"
     ]
    },
    {
     "output_type": "stream",
     "name": "stdout",
     "text": [
      "1.7367949921752739\n"
     ]
    },
    {
     "output_type": "stream",
     "name": "stderr",
     "text": [
      "100%|██████████| 1440/1440 [00:30<00:00, 47.53it/s]\n"
     ]
    },
    {
     "output_type": "stream",
     "name": "stdout",
     "text": [
      "1.7356306729264477\n"
     ]
    },
    {
     "output_type": "stream",
     "name": "stderr",
     "text": [
      "100%|██████████| 1440/1440 [00:30<00:00, 47.68it/s]\n"
     ]
    },
    {
     "output_type": "stream",
     "name": "stdout",
     "text": [
      "1.7344225352112677\n"
     ]
    },
    {
     "output_type": "stream",
     "name": "stderr",
     "text": [
      "100%|██████████| 1440/1440 [00:30<00:00, 47.19it/s]\n"
     ]
    },
    {
     "output_type": "stream",
     "name": "stdout",
     "text": [
      "1.734793427230047\n"
     ]
    },
    {
     "output_type": "stream",
     "name": "stderr",
     "text": [
      "100%|██████████| 1440/1440 [00:30<00:00, 47.05it/s]\n"
     ]
    },
    {
     "output_type": "stream",
     "name": "stdout",
     "text": [
      "1.7341455399061032\n"
     ]
    },
    {
     "output_type": "stream",
     "name": "stderr",
     "text": [
      "100%|██████████| 1440/1440 [00:30<00:00, 47.03it/s]"
     ]
    },
    {
     "output_type": "stream",
     "name": "stdout",
     "text": [
      "1.734039123630673\n"
     ]
    },
    {
     "output_type": "stream",
     "name": "stderr",
     "text": [
      "\n"
     ]
    }
   ],
   "metadata": {}
  }
 ],
 "metadata": {
  "orig_nbformat": 4,
  "language_info": {
   "name": "python",
   "version": "3.8.11",
   "mimetype": "text/x-python",
   "codemirror_mode": {
    "name": "ipython",
    "version": 3
   },
   "pygments_lexer": "ipython3",
   "nbconvert_exporter": "python",
   "file_extension": ".py"
  },
  "kernelspec": {
   "name": "python3",
   "display_name": "Python 3.8.11 64-bit ('ldp': conda)"
  },
  "interpreter": {
   "hash": "3ab1aef511fa2a93501e996a950c9521aba6e7c87a2eabc8e3eba7db34c6004a"
  }
 },
 "nbformat": 4,
 "nbformat_minor": 2
}