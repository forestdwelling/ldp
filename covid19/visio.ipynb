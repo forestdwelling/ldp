{
 "cells": [
  {
   "cell_type": "code",
   "execution_count": 2,
   "metadata": {},
   "outputs": [
    {
     "data": {
      "text/html": [
       "<div>\n",
       "<style scoped>\n",
       "    .dataframe tbody tr th:only-of-type {\n",
       "        vertical-align: middle;\n",
       "    }\n",
       "\n",
       "    .dataframe tbody tr th {\n",
       "        vertical-align: top;\n",
       "    }\n",
       "\n",
       "    .dataframe thead th {\n",
       "        text-align: right;\n",
       "    }\n",
       "</style>\n",
       "<table border=\"1\" class=\"dataframe\">\n",
       "  <thead>\n",
       "    <tr style=\"text-align: right;\">\n",
       "      <th></th>\n",
       "      <th>Date</th>\n",
       "      <th>id</th>\n",
       "      <th>inc</th>\n",
       "      <th>inc_id</th>\n",
       "    </tr>\n",
       "  </thead>\n",
       "  <tbody>\n",
       "    <tr>\n",
       "      <th>0</th>\n",
       "      <td>2020-01-23</td>\n",
       "      <td>109</td>\n",
       "      <td>1</td>\n",
       "      <td>0</td>\n",
       "    </tr>\n",
       "    <tr>\n",
       "      <th>1</th>\n",
       "      <td>2020-01-23</td>\n",
       "      <td>214</td>\n",
       "      <td>1</td>\n",
       "      <td>0</td>\n",
       "    </tr>\n",
       "    <tr>\n",
       "      <th>2</th>\n",
       "      <td>2020-01-23</td>\n",
       "      <td>225</td>\n",
       "      <td>1</td>\n",
       "      <td>0</td>\n",
       "    </tr>\n",
       "    <tr>\n",
       "      <th>3</th>\n",
       "      <td>2020-01-23</td>\n",
       "      <td>638</td>\n",
       "      <td>1</td>\n",
       "      <td>0</td>\n",
       "    </tr>\n",
       "    <tr>\n",
       "      <th>4</th>\n",
       "      <td>2020-01-23</td>\n",
       "      <td>1275</td>\n",
       "      <td>1</td>\n",
       "      <td>0</td>\n",
       "    </tr>\n",
       "  </tbody>\n",
       "</table>\n",
       "</div>"
      ],
      "text/plain": [
       "        Date    id  inc  inc_id\n",
       "0 2020-01-23   109    1       0\n",
       "1 2020-01-23   214    1       0\n",
       "2 2020-01-23   225    1       0\n",
       "3 2020-01-23   638    1       0\n",
       "4 2020-01-23  1275    1       0"
      ]
     },
     "execution_count": 2,
     "metadata": {},
     "output_type": "execute_result"
    }
   ],
   "source": [
    "import matplotlib.pyplot as plt\n",
    "import matplotlib.dates as mdates\n",
    "import numpy as np\n",
    "import pandas as pd\n",
    "\n",
    "df = pd.read_csv('confirm_7d250.csv', \n",
    "    dtype={'id':int, 'Date':object, 'inc':int}, \n",
    "    parse_dates=['Date'], \n",
    "    infer_datetime_format=True)\n",
    "df.head(5)"
   ]
  },
  {
   "cell_type": "code",
   "execution_count": 3,
   "metadata": {},
   "outputs": [],
   "source": [
    "current_time = pd.Timestamp('2020-01-23 00:00:00')\n",
    "interval = pd.Timedelta('7day')\n",
    "\n",
    "inc_0 = np.zeros(87)\n",
    "for i in range(87):\n",
    "    inc_0[i] = df[(df['Date']==current_time) & (df['inc_id']==0)]['inc'].count()\n",
    "    current_time += interval"
   ]
  },
  {
   "cell_type": "code",
   "execution_count": 4,
   "metadata": {},
   "outputs": [],
   "source": [
    "current_time = pd.Timestamp('2020-01-23 00:00:00')\n",
    "interval = pd.Timedelta('7day')\n",
    "\n",
    "inc_1 = np.zeros(87)\n",
    "for i in range(87):\n",
    "    inc_1[i] = df[(df['Date']==current_time) & ((df['inc_id']>=1) & (df['inc_id']<5))]['inc'].count()\n",
    "    current_time += interval"
   ]
  },
  {
   "cell_type": "code",
   "execution_count": 5,
   "metadata": {},
   "outputs": [],
   "source": [
    "current_time = pd.Timestamp('2020-01-23 00:00:00')\n",
    "interval = pd.Timedelta('7day')\n",
    "\n",
    "inc_2 = np.zeros(87)\n",
    "for i in range(87):\n",
    "    inc_2[i] = df[(df['Date']==current_time) & ((df['inc_id']>=5) & (df['inc_id']<10))]['inc'].count()\n",
    "    current_time += interval"
   ]
  },
  {
   "cell_type": "code",
   "execution_count": 6,
   "metadata": {},
   "outputs": [],
   "source": [
    "current_time = pd.Timestamp('2020-01-23 00:00:00')\n",
    "interval = pd.Timedelta('7day')\n",
    "\n",
    "inc_3 = np.zeros(87)\n",
    "for i in range(87):\n",
    "    inc_3[i] = df[(df['Date']==current_time) & (df['inc_id']>=10)]['inc'].count()\n",
    "    current_time += interval"
   ]
  },
  {
   "cell_type": "code",
   "execution_count": 7,
   "metadata": {},
   "outputs": [
    {
     "data": {
      "image/png": "[encoded data removed]",
      "text/plain": [
       "<Figure size 720x360 with 1 Axes>"
      ]
     },
     "metadata": {
      "needs_background": "light"
     },
     "output_type": "display_data"
    }
   ],
   "source": [
    "import matplotlib.pyplot as plt\n",
    "import numpy as np\n",
    "\n",
    "fig, ax = plt.subplots(1, 1, figsize=(10, 5))\n",
    "l = 3\n",
    "r = 27\n",
    "x = np.arange(mdates.datestr2num('2020-01-23')+l*7, mdates.datestr2num('2020-01-23') + r*7, 7)\n",
    "x = [np.datetime64(int(c), 'D') for c in x]\n",
    "plt.xticks(rotation=15)\n",
    "ax.xaxis.set_major_locator(mdates.DayLocator(interval=21))\n",
    "ax.xaxis.set_major_formatter(mdates.DateFormatter(\"%Y-%m-%d\"))\n",
    "ax.spines['right'].set_visible(False) \n",
    "ax.spines['top'].set_visible(False) \n",
    "bar_width = 5.0\n",
    "colors = plt.cm.BuPu(np.linspace(0.3, 1.0, 4))\n",
    "p1 = ax.bar(x, inc_0[l:r], bar_width, color=colors[0])\n",
    "p2 = ax.bar(x, inc_1[l:r], bar_width, bottom=inc_0[l:r], color=colors[1])\n",
    "p3 = ax.bar(x, inc_2[l:r], bar_width, bottom=inc_0[l:r] + inc_1[l:r],  color=colors[2])\n",
    "p4 = ax.bar(x, inc_3[l:r], bar_width, bottom=inc_0[l:r] + inc_1[l:r] + inc_2[l:r],  color=colors[3])\n",
    "# plt.grid(linestyle='-.', dashes=[20, 10])\n",
    "plt.legend((p1[0], p2[0], p3[0], p4[0]), ('0<Cases<=100', '100<Cases<=500', '500<Cases<=1000', '1000<=Cases'), loc = 2, frameon=False)\n",
    "#plt.yticks(fontsize=15)\n",
    "#plt.xticks(fontsize=15)\n",
    "plt.ylabel('Frequency')\n",
    "plt.xlabel('Date')\n",
    "plt.savefig('confirmed.pdf', format='pdf')\n",
    "plt.show()"
   ]
  },
  {
   "cell_type": "code",
   "execution_count": 330,
   "metadata": {},
   "outputs": [
    {
     "data": {
      "image/png": "[encoded data removed]",
      "text/plain": [
       "<Figure size 216x288 with 1 Axes>"
      ]
     },
     "metadata": {
      "needs_background": "light"
     },
     "output_type": "display_data"
    }
   ],
   "source": [
    "import matplotlib.pyplot as plt\n",
    "import numpy as np\n",
    "\n",
    "fig, ax = plt.subplots(1, 1, figsize=(3, 4))\n",
    "d = 10\n",
    "x = ['1-100', '101-500', '501-1000', '1001-']\n",
    "plt.xticks(rotation=15)\n",
    "ax.spines['right'].set_visible(False) \n",
    "ax.spines['top'].set_visible(False) \n",
    "colors = plt.cm.BuPu(np.linspace(0.3, 1.0, 4))\n",
    "p1 = ax.bar(x, [inc_0[d], inc_1[d], inc_2[d], inc_3[d]], color=colors)\n",
    "# plt.grid(linestyle='-.', dashes=[20, 10])\n",
    "# plt.legend((p1[0], p2[0], p3[0], p4[0]), ('0<Cases<=100', '100<Cases<=500', '500<Cases<=1000', '1000<=Cases'), loc = 2, frameon=False)\n",
    "#plt.yticks(fontsize=15)\n",
    "#plt.xticks(fontsize=15)\n",
    "plt.ylabel('Frequency')\n",
    "plt.xlabel('Cases')\n",
    "plt.savefig('confirmed_0.svg', format='svg')\n",
    "plt.show()"
   ]
  },
  {
   "cell_type": "code",
   "execution_count": 288,
   "metadata": {},
   "outputs": [
    {
     "data": {
      "text/plain": [
       "[25.0, 0.0, 0.0, 0.0]"
      ]
     },
     "execution_count": 288,
     "metadata": {},
     "output_type": "execute_result"
    }
   ],
   "source": [
    "[inc_0[d], inc_1[d], inc_2[d], inc_3[d]]"
   ]
  },
  {
   "cell_type": "code",
   "execution_count": 289,
   "metadata": {},
   "outputs": [
    {
     "data": {
      "text/plain": [
       "array([   0.,    0.,    0.,    0.,    0.,    0.,    4.,   23.,  101.,\n",
       "        191.,  256.,  268.,  279.,  287.,  305.,  302.,  315.,  335.,\n",
       "        332.,  337.,  373.,  413.,  472.,  518.,  619.,  696.,  767.,\n",
       "        749.,  765.,  736.,  753.,  710.,  697.,  737.,  811.,  815.,\n",
       "        854.,  945., 1006., 1080., 1228., 1236., 1319., 1338., 1339.,\n",
       "       1348., 1347., 1344., 1267., 1267., 1275., 1206., 1204., 1131.,\n",
       "       1058.,  906.,  774.,  771.,  679.,  696.,  659.,  627.,  665.,\n",
       "        722.,  680.,  667.,  681.,  632.,  550.,  476.,  391.,  346.,\n",
       "        330.,  292.,  296.,  330.,  444.,  598.,  794., 1008., 1161.,\n",
       "       1227., 1272., 1304., 1275., 1310., 1314.])"
      ]
     },
     "execution_count": 289,
     "metadata": {},
     "output_type": "execute_result"
    }
   ],
   "source": [
    "inc_1"
   ]
  }
 ],
 "metadata": {
  "interpreter": {
   "hash": "409d79f584d77d57e2dbb84fcdd0962d4614d97ad86df9edb73670019bd67d65"
  },
  "kernelspec": {
   "display_name": "Python 3.8.11 64-bit ('ldp': conda)",
   "name": "python3"
  },
  "language_info": {
   "codemirror_mode": {
    "name": "ipython",
    "version": 3
   },
   "file_extension": ".py",
   "mimetype": "text/x-python",
   "name": "python",
   "nbconvert_exporter": "python",
   "pygments_lexer": "ipython3",
   "version": "3.8.11"
  },
  "orig_nbformat": 4
 },
 "nbformat": 4,
 "nbformat_minor": 2
}
