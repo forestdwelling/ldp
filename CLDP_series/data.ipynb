{
 "cells": [
  {
   "cell_type": "code",
   "execution_count": 1,
   "metadata": {},
   "outputs": [
    {
     "data": {
      "image/png": "[encoded data removed]",
      "text/plain": [
       "<Figure size 432x288 with 1 Axes>"
      ]
     },
     "metadata": {
      "needs_background": "light"
     },
     "output_type": "display_data"
    }
   ],
   "source": [
    "import numpy as np\n",
    "import matplotlib.pyplot as plt\n",
    "\n",
    "length = 100\n",
    "user_num = 100\n",
    "\n",
    "index = np.arange(length)\n",
    "data = np.zeros((length, user_num), dtype=int)\n",
    "\n",
    "# A = np.random.normal(50, 0.0001, user_num)\n",
    "# omega = (2 * np.pi) / (np.random.normal(0.5, 0.0001, user_num) * length)\n",
    "# phi = np.random.normal(0, 0.0001, user_num) * length\n",
    "# b = np.random.normal(50, 0.0001, user_num)\n",
    "# for i in range(user_num):\n",
    "#     data[:, i] = np.round(np.clip(A[i]*np.sin(omega[i]*index + phi[i]) + b[i], 0, 99)).astype(int)\n",
    "for i in range(length):\n",
    "    data[i] = np.clip(np.round(np.random.normal(np.random.rand()*100, 10, user_num)), 0, 99).astype(int)\n",
    "\n",
    "plt.hist(data[0])\n",
    "plt.show()"
   ]
  },
  {
   "cell_type": "code",
   "execution_count": 319,
   "metadata": {},
   "outputs": [
    {
     "data": {
      "text/plain": [
       "array([38, 48, 58, ..., 64, 66, 42])"
      ]
     },
     "execution_count": 319,
     "metadata": {},
     "output_type": "execute_result"
    }
   ],
   "source": [
    "data[0]"
   ]
  },
  {
   "cell_type": "code",
   "execution_count": 389,
   "metadata": {},
   "outputs": [],
   "source": [
    "from xxhash import xxh32\n",
    "\n",
    "d = 100\n",
    "\n",
    "dist_mat = np.zeros((d, d))\n",
    "for i in range(d):\n",
    "    for j in range(d):\n",
    "        dist_mat[i][j] = abs(i - j)\n",
    "\n",
    "def EM(data, d, alpha):\n",
    "    dist = np.zeros((d, d))\n",
    "    for i in range(d):\n",
    "        for j in range(d):\n",
    "            dist[i][j] = abs(i - j)\n",
    "    p_mat = np.exp(-alpha*dist/2)\n",
    "    for i, _ in enumerate(p_mat):\n",
    "        p_mat[i] /= p_mat[i].sum()\n",
    "    universe = np.arange(d)\n",
    "    aggregated_data = np.zeros(d)\n",
    "    for item in data:\n",
    "        aggregated_data[np.random.choice(universe, p=p_mat[item])] += 1\n",
    "    return aggregated_data\n",
    "\n",
    "def OUE(data, d, epsilon):\n",
    "    p = 1 - 1/2\n",
    "    q = 1/(np.exp(epsilon)+1)\n",
    "    aggregated_data = np.zeros(d)\n",
    "    for i in range(len(data)):\n",
    "        private_data = np.zeros(d)\n",
    "        private_data[data[i]] = 1\n",
    "        aggregated_data += np.where(private_data == 1, \n",
    "            np.random.binomial(1, p, d), \n",
    "            np.random.binomial(1, q, d))\n",
    "    return (aggregated_data - len(data)*q)/(p - q)\n",
    "\n",
    "def OLH(data, epsilon):\n",
    "    global d\n",
    "    g = int(round(np.exp(epsilon))) + 1\n",
    "    p = np.exp(epsilon)/(np.exp(epsilon) + g - 1)\n",
    "    q = 1/(np.exp(epsilon) + g - 1)\n",
    "    aggregated_data = np.zeros(d)\n",
    "    for i, item in enumerate(data):\n",
    "        private_data = (xxh32(str(item), seed=i).intdigest() % g)\n",
    "        if np.random.random_sample() > p - q:\n",
    "            private_data = np.random.randint(0, g)\n",
    "        for j in range(d):\n",
    "            if private_data == (xxh32(str(j), seed=i).intdigest() % g):\n",
    "                aggregated_data[j] +=  1\n",
    "    return (g*aggregated_data - len(data))/(p*g - 1)\n",
    "\n",
    "def RMSE(freq, est_freq):\n",
    "    return np.sqrt((np.square(freq - est_freq)).mean())\n",
    "\n",
    "\n",
    "def JS(freq, est_freq, k):\n",
    "    top_k = np.argpartition(-freq, k)[:k]\n",
    "    est_top_k = np.argpartition(-est_freq, k)[:k]\n",
    "    return len(np.intersect1d(top_k, est_top_k))/len(np.union1d(top_k, est_top_k))\n",
    "\n",
    "# epsilon = 2\n",
    "# alpha = 0.1\n",
    "\n",
    "# ldp_rmse_util = []\n",
    "# cldp_rmse_util = []\n",
    "# for i in range(length):\n",
    "#     freq = np.zeros(d)\n",
    "#     for item in data[i]:\n",
    "#         freq[item] += 1\n",
    "#     oue_freq = OUE(data[i], d, epsilon)\n",
    "#     em_freq = EM(data[i], d, alpha)\n",
    "#     ldp_rmse_util.append(RMSE(oue_freq, freq))\n",
    "#     cldp_rmse_util.append(RMSE(em_freq, freq))\n",
    "# print(np.mean(ldp_rmse_util))\n",
    "# print(np.mean(cldp_rmse_util))"
   ]
  },
  {
   "cell_type": "code",
   "execution_count": 432,
   "metadata": {},
   "outputs": [
    {
     "name": "stderr",
     "output_type": "stream",
     "text": [
      "100%|██████████| 4/4 [4:15:57<00:00, 3839.40s/it]"
     ]
    },
    {
     "name": "stdout",
     "output_type": "stream",
     "text": [
      "[0.8041652550348201, 0.8425465838509314, 0.8834293242988894, 0.9302051571616786]\n",
      "[0.8468078298513081, 0.8761754187841143, 0.9098588368153584, 0.9339393939393937]\n"
     ]
    },
    {
     "name": "stderr",
     "output_type": "stream",
     "text": [
      "\n"
     ]
    }
   ],
   "source": [
    "import numpy as np\n",
    "import matplotlib.pyplot as plt\n",
    "from tqdm import tqdm\n",
    "\n",
    "length = 100\n",
    "ldp_rmse_mean_util = []\n",
    "cldp_rmse_mean_util = []\n",
    "\n",
    "epsilon = 4.162367720567402\n",
    "alpha = 1\n",
    "w = 30\n",
    "\n",
    "# for user_num in tqdm([   100,    177,    316,    562,   1000,   1778,   3162,   5623,  10000,  17782,  31622,  56234, 100000]):\n",
    "for user_num in tqdm([177827,  316227,  562341, 1000000]):\n",
    "    user_num = int(user_num)\n",
    "    index = np.arange(length)\n",
    "    data = np.zeros((length, user_num), dtype=int)\n",
    "\n",
    "    # A = np.random.normal(50, 10, user_num)\n",
    "    # omega = (2 * np.pi) / (np.random.normal(0.5, 0.1, user_num) * length)\n",
    "    # phi = np.random.normal(0, 1, user_num) * length\n",
    "    # b = np.random.normal(50, 10, user_num)\n",
    "    # for i in range(user_num):\n",
    "    #     data[:, i] = np.round(np.clip(A[i]*np.sin(omega[i]*index + phi[i]) + b[i], 0, 99)).astype(int)\n",
    "    for i in range(length):\n",
    "        data[i] = np.clip(np.round(np.random.normal(np.random.rand()*99, 10, user_num)), 0, 99).astype(int)\n",
    "    ldp_rmse_util = []\n",
    "    cldp_rmse_util = []\n",
    "    for i in range(length):\n",
    "        freq = np.zeros(d)\n",
    "        for item in data[i]:\n",
    "            freq[item] += 1\n",
    "        oue_freq = OLH(data[i], 0.7223751857568668)\n",
    "        em_freq = EM(data[i], d, alpha/w)\n",
    "        ldp_rmse_util.append(JS(oue_freq, freq, 20))\n",
    "        cldp_rmse_util.append(JS(em_freq, freq, 20))\n",
    "        # break\n",
    "    ldp_rmse_mean_util.append(np.mean(ldp_rmse_util))\n",
    "    cldp_rmse_mean_util.append(np.mean(cldp_rmse_util))\n",
    "    \n",
    "print(ldp_rmse_mean_util)\n",
    "print(cldp_rmse_mean_util)"
   ]
  },
  {
   "cell_type": "code",
   "execution_count": 398,
   "metadata": {},
   "outputs": [
    {
     "ename": "KeyboardInterrupt",
     "evalue": "",
     "output_type": "error",
     "traceback": [
      "\u001b[0;31m---------------------------------------------------------------------------\u001b[0m",
      "\u001b[0;31mKeyboardInterrupt\u001b[0m                         Traceback (most recent call last)",
      "\u001b[0;32m/tmp/ipykernel_23469/1108223732.py\u001b[0m in \u001b[0;36m<module>\u001b[0;34m\u001b[0m\n\u001b[1;32m     20\u001b[0m     \u001b[0mb\u001b[0m \u001b[0;34m=\u001b[0m \u001b[0mnp\u001b[0m\u001b[0;34m.\u001b[0m\u001b[0mrandom\u001b[0m\u001b[0;34m.\u001b[0m\u001b[0mnormal\u001b[0m\u001b[0;34m(\u001b[0m\u001b[0;36m50\u001b[0m\u001b[0;34m,\u001b[0m \u001b[0;36m10\u001b[0m\u001b[0;34m,\u001b[0m \u001b[0muser_num\u001b[0m\u001b[0;34m)\u001b[0m\u001b[0;34m\u001b[0m\u001b[0;34m\u001b[0m\u001b[0m\n\u001b[1;32m     21\u001b[0m     \u001b[0;32mfor\u001b[0m \u001b[0mi\u001b[0m \u001b[0;32min\u001b[0m \u001b[0mrange\u001b[0m\u001b[0;34m(\u001b[0m\u001b[0muser_num\u001b[0m\u001b[0;34m)\u001b[0m\u001b[0;34m:\u001b[0m\u001b[0;34m\u001b[0m\u001b[0;34m\u001b[0m\u001b[0m\n\u001b[0;32m---> 22\u001b[0;31m         \u001b[0mdata\u001b[0m\u001b[0;34m[\u001b[0m\u001b[0;34m:\u001b[0m\u001b[0;34m,\u001b[0m \u001b[0mi\u001b[0m\u001b[0;34m]\u001b[0m \u001b[0;34m=\u001b[0m \u001b[0mnp\u001b[0m\u001b[0;34m.\u001b[0m\u001b[0mround\u001b[0m\u001b[0;34m(\u001b[0m\u001b[0mnp\u001b[0m\u001b[0;34m.\u001b[0m\u001b[0mclip\u001b[0m\u001b[0;34m(\u001b[0m\u001b[0mA\u001b[0m\u001b[0;34m[\u001b[0m\u001b[0mi\u001b[0m\u001b[0;34m]\u001b[0m\u001b[0;34m*\u001b[0m\u001b[0mnp\u001b[0m\u001b[0;34m.\u001b[0m\u001b[0msin\u001b[0m\u001b[0;34m(\u001b[0m\u001b[0momega\u001b[0m\u001b[0;34m[\u001b[0m\u001b[0mi\u001b[0m\u001b[0;34m]\u001b[0m\u001b[0;34m*\u001b[0m\u001b[0mindex\u001b[0m \u001b[0;34m+\u001b[0m \u001b[0mphi\u001b[0m\u001b[0;34m[\u001b[0m\u001b[0mi\u001b[0m\u001b[0;34m]\u001b[0m\u001b[0;34m)\u001b[0m \u001b[0;34m+\u001b[0m \u001b[0mb\u001b[0m\u001b[0;34m[\u001b[0m\u001b[0mi\u001b[0m\u001b[0;34m]\u001b[0m\u001b[0;34m,\u001b[0m \u001b[0;36m0\u001b[0m\u001b[0;34m,\u001b[0m \u001b[0;36m99\u001b[0m\u001b[0;34m)\u001b[0m\u001b[0;34m)\u001b[0m\u001b[0;34m.\u001b[0m\u001b[0mastype\u001b[0m\u001b[0;34m(\u001b[0m\u001b[0mint\u001b[0m\u001b[0;34m)\u001b[0m\u001b[0;34m\u001b[0m\u001b[0;34m\u001b[0m\u001b[0m\n\u001b[0m\u001b[1;32m     23\u001b[0m \u001b[0;34m\u001b[0m\u001b[0m\n\u001b[1;32m     24\u001b[0m     \u001b[0mldp_rmse_util\u001b[0m \u001b[0;34m=\u001b[0m \u001b[0;34m[\u001b[0m\u001b[0;34m]\u001b[0m\u001b[0;34m\u001b[0m\u001b[0;34m\u001b[0m\u001b[0m\n",
      "\u001b[0;32m<__array_function__ internals>\u001b[0m in \u001b[0;36mclip\u001b[0;34m(*args, **kwargs)\u001b[0m\n",
      "\u001b[0;32m~/anaconda3/envs/ldp/lib/python3.8/site-packages/numpy/core/fromnumeric.py\u001b[0m in \u001b[0;36mclip\u001b[0;34m(a, a_min, a_max, out, **kwargs)\u001b[0m\n\u001b[1;32m   2101\u001b[0m \u001b[0;34m\u001b[0m\u001b[0m\n\u001b[1;32m   2102\u001b[0m     \"\"\"\n\u001b[0;32m-> 2103\u001b[0;31m     \u001b[0;32mreturn\u001b[0m \u001b[0m_wrapfunc\u001b[0m\u001b[0;34m(\u001b[0m\u001b[0ma\u001b[0m\u001b[0;34m,\u001b[0m \u001b[0;34m'clip'\u001b[0m\u001b[0;34m,\u001b[0m \u001b[0ma_min\u001b[0m\u001b[0;34m,\u001b[0m \u001b[0ma_max\u001b[0m\u001b[0;34m,\u001b[0m \u001b[0mout\u001b[0m\u001b[0;34m=\u001b[0m\u001b[0mout\u001b[0m\u001b[0;34m,\u001b[0m \u001b[0;34m**\u001b[0m\u001b[0mkwargs\u001b[0m\u001b[0;34m)\u001b[0m\u001b[0;34m\u001b[0m\u001b[0;34m\u001b[0m\u001b[0m\n\u001b[0m\u001b[1;32m   2104\u001b[0m \u001b[0;34m\u001b[0m\u001b[0m\n\u001b[1;32m   2105\u001b[0m \u001b[0;34m\u001b[0m\u001b[0m\n",
      "\u001b[0;32m~/anaconda3/envs/ldp/lib/python3.8/site-packages/numpy/core/fromnumeric.py\u001b[0m in \u001b[0;36m_wrapfunc\u001b[0;34m(obj, method, *args, **kwds)\u001b[0m\n\u001b[1;32m     51\u001b[0m \u001b[0;34m\u001b[0m\u001b[0m\n\u001b[1;32m     52\u001b[0m \u001b[0;32mdef\u001b[0m \u001b[0m_wrapfunc\u001b[0m\u001b[0;34m(\u001b[0m\u001b[0mobj\u001b[0m\u001b[0;34m,\u001b[0m \u001b[0mmethod\u001b[0m\u001b[0;34m,\u001b[0m \u001b[0;34m*\u001b[0m\u001b[0margs\u001b[0m\u001b[0;34m,\u001b[0m \u001b[0;34m**\u001b[0m\u001b[0mkwds\u001b[0m\u001b[0;34m)\u001b[0m\u001b[0;34m:\u001b[0m\u001b[0;34m\u001b[0m\u001b[0;34m\u001b[0m\u001b[0m\n\u001b[0;32m---> 53\u001b[0;31m     \u001b[0mbound\u001b[0m \u001b[0;34m=\u001b[0m \u001b[0mgetattr\u001b[0m\u001b[0;34m(\u001b[0m\u001b[0mobj\u001b[0m\u001b[0;34m,\u001b[0m \u001b[0mmethod\u001b[0m\u001b[0;34m,\u001b[0m \u001b[0;32mNone\u001b[0m\u001b[0;34m)\u001b[0m\u001b[0;34m\u001b[0m\u001b[0;34m\u001b[0m\u001b[0m\n\u001b[0m\u001b[1;32m     54\u001b[0m     \u001b[0;32mif\u001b[0m \u001b[0mbound\u001b[0m \u001b[0;32mis\u001b[0m \u001b[0;32mNone\u001b[0m\u001b[0;34m:\u001b[0m\u001b[0;34m\u001b[0m\u001b[0;34m\u001b[0m\u001b[0m\n\u001b[1;32m     55\u001b[0m         \u001b[0;32mreturn\u001b[0m \u001b[0m_wrapit\u001b[0m\u001b[0;34m(\u001b[0m\u001b[0mobj\u001b[0m\u001b[0;34m,\u001b[0m \u001b[0mmethod\u001b[0m\u001b[0;34m,\u001b[0m \u001b[0;34m*\u001b[0m\u001b[0margs\u001b[0m\u001b[0;34m,\u001b[0m \u001b[0;34m**\u001b[0m\u001b[0mkwds\u001b[0m\u001b[0;34m)\u001b[0m\u001b[0;34m\u001b[0m\u001b[0;34m\u001b[0m\u001b[0m\n",
      "\u001b[0;31mKeyboardInterrupt\u001b[0m: "
     ]
    }
   ],
   "source": [
    "for user_num in tqdm([   100,    177,    316,    562,   1000,   1778,   3162,   5623,  10000,  17782,  31622,  56234, 100000, 177827,  316227,  562341, 1000000]):\n",
    "# for w in w_range:\n",
    "    window = np.zeros((user_num, length), dtype=float)\n",
    "    # historical data\n",
    "    storage = [[] for _ in range(n)]\n",
    "\n",
    "    ratio = np.full(n, 0.45)\n",
    "    data_flag = np.zeros((n, length), dtype=int)\n",
    "    release_flag = np.zeros((n, length), dtype=int)\n",
    "    pid_error = np.zeros((n, length), dtype=float)\n",
    "\n",
    "    util = []\n",
    "    for t in range(length):\n",
    "        data = df.loc[df['Date']==current_time]\n",
    "        private_freq = np.zeros(d)\n",
    "        true_freq = np.zeros(d)\n",
    "        for row in data.itertuples():\n",
    "            true_freq[row.inc_id] += 1\n",
    "            data_flag[row.inc_id][t] = 1\n",
    "            # release_flag = np.random.binomial(1, ratio)\n",
    "            release_budget = epsilon/(w*ratio[row.id])\n",
    "            remain = epsilon - window[row.id][max(0, t-w+1):t].sum()\n",
    "            if (remain < release_budget): # or (release_flag == False):\n",
    "                release_budget = 0\n",
    "            if release_budget > 0:\n",
    "                # randomization\n",
    "                exp_prob = np.exp(-release_budget*p_mat[row.inc_id]/2)\n",
    "                exp_prob /= exp_prob.sum()\n",
    "                private_inc = np.random.choice(universe, p=exp_prob)\n",
    "                # update window\n",
    "                window[row.id][t] = release_budget\n",
    "                storage[row.id].append(private_inc)\n",
    "                release_flag[row.inc_id][t] = 1\n",
    "            else:\n",
    "                private_inc = storage[row.id][len(storage[row.id])-1]\n",
    "            private_freq[private_inc] += 1\n",
    "        if t > w:\n",
    "            data_num = data_flag[:, max(0, t-w+1):t].sum(axis=1)\n",
    "            # release_num = release_flag[:, max(0, t-w+1):t].sum(axis=1)\n",
    "            release_num = release_flag[:, 0:t].sum(axis=1)\n",
    "            pid_error[:, t] = abs(release_num/t - data_num/min(w, t))\n",
    "            # pid_error[:, t] = abs(data_num/w - ratio) \n",
    "            error = np.sign(pid_error[:, t])*(0.1*pid_error[:, t] + 0.0*pid_error[:, max(0, t-w+1):t].sum(axis=1)/min(w, t) + 0.0*(pid_error[:, t] - pid_error[:, t-1])) \n",
    "            ratio = np.clip(ratio + error, 1/w, 1) \n",
    "            # ratio = np.clip(data_num/w, 1/w, 1) \n",
    "        # skip empty timestamp\n",
    "        if np.all(true_freq == 0):\n",
    "            continue\n",
    "        util.append(RMSE(true_freq, private_freq))\n",
    "    print(np.mean(util))"
   ]
  },
  {
   "cell_type": "code",
   "execution_count": 2,
   "metadata": {},
   "outputs": [
    {
     "data": {
      "image/png": "[encoded data removed]",
      "text/plain": [
       "<Figure size 720x324 with 1 Axes>"
      ]
     },
     "metadata": {
      "needs_background": "light"
     },
     "output_type": "display_data"
    }
   ],
   "source": [
    "a = [0.1130045471918537, 0.11159875676978444, 0.12153773851916265, 0.11882383226885375, 0.11507813988464141, 0.11241643254876055, 0.13183094334797119, 0.14684709146933256, 0.14462620810293833, 0.16572739899237868, 0.17928899694177247, 0.20687339943506922, 0.23957430812236805]\n",
    "b = [0.19358456488809442, 0.21747105040093978, 0.25831562298257316, 0.29337977991580033, 0.35711076078736226, 0.41678873321011933, 0.4654483873175898, 0.5229843044946542, 0.5797081389375244, 0.6537677149881048, 0.7110522360087578, 0.7540182426269384, 0.8216389986824769]\n",
    "a = [0.13475880024641634, 0.1511469161012255, 0.1401059771972585, 0.15736339614123493, 0.1790226032994916, 0.20092011561298898, 0.22261651181120523, 0.27166929253021643, 0.3318891773853169, 0.4153036711979982, 0.5140019606136548, 0.6453227094966225, 0.7302021456804065, 0.8041652550348201, 0.8425465838509314, 0.8834293242988894, 0.9302051571616786]\n",
    "b = [0.1961116429644326, 0.21944074082344325, 0.24627634088125105, 0.29855134421269997, 0.34346893568748066, 0.4117745613504954, 0.46879369387774866, 0.520770273759779, 0.5841321118772393, 0.6654976810628984, 0.713346312302834, 0.7825394315829098, 0.8277376246941464, 0.8468078298513081, 0.8761754187841143, 0.9098588368153584, 0.9339393939393937]\n",
    "\n",
    "import matplotlib.pyplot as plt\n",
    "plt.figure(figsize=(10, 4.5))\n",
    "plt.rc('font',family='Times New Roman', size=14)\n",
    "# fig, ax = plt.subplots(figsize=(8, 4))\n",
    "x = [   100,    177,    316,    562,   1000,   1778,   3162,   5623,  10000,  17782,  31622,  56234, 100000, 177827,  316227,  562341, 1000000]\n",
    "plt.plot(x, a, 's--', markersize=5, dashes=[5, 3], markerfacecolor='none', markeredgewidth=2.5, label='OLH(LDP)', color=(29/255, 52/255, 66/255))\n",
    "plt.plot(x, b, 'D-',  markersize=5, dashes=[5, 3], markerfacecolor='none', markeredgewidth=2.5, label='EM(CLDP)' , color=(191/255, 148/255, 123/255))\n",
    "# plt.xticks(x)\n",
    "plt.xscale('log')\n",
    "plt.xlabel('Number of users')\n",
    "plt.ylabel('Jaccard Similarity')\n",
    "plt.legend(loc=0, columnspacing=0, labelspacing=0, frameon=False, fancybox=False, framealpha=0.5)\n",
    "plt.grid(linestyle='-.')\n",
    "plt.savefig('user_num.pdf', pad_inches=0, bbox_inches='tight')\n",
    "plt.show()"
   ]
  },
  {
   "cell_type": "code",
   "execution_count": 429,
   "metadata": {},
   "outputs": [
    {
     "data": {
      "text/plain": [
       "array([   100,    177,    316,    562,   1000,   1000,   1778,   3162,\n",
       "         5623,  10000,  10000,  17782,  31622,  56234, 100000])"
      ]
     },
     "execution_count": 429,
     "metadata": {},
     "output_type": "execute_result"
    }
   ],
   "source": [
    "np.concatenate((np.logspace(2, 3, 5), np.logspace(3, 4, 5), np.logspace(4, 5, 5))).astype(int)"
   ]
  },
  {
   "cell_type": "code",
   "execution_count": 431,
   "metadata": {},
   "outputs": [
    {
     "data": {
      "text/plain": [
       "array([ 100000,  177827,  316227,  562341, 1000000])"
      ]
     },
     "execution_count": 431,
     "metadata": {},
     "output_type": "execute_result"
    }
   ],
   "source": [
    "np.logspace(5, 6, 5).astype(int)"
   ]
  }
 ],
 "metadata": {
  "interpreter": {
   "hash": "409d79f584d77d57e2dbb84fcdd0962d4614d97ad86df9edb73670019bd67d65"
  },
  "kernelspec": {
   "display_name": "Python 3.8.11 64-bit ('ldp': conda)",
   "name": "python3"
  },
  "language_info": {
   "codemirror_mode": {
    "name": "ipython",
    "version": 3
   },
   "file_extension": ".py",
   "mimetype": "text/x-python",
   "name": "python",
   "nbconvert_exporter": "python",
   "pygments_lexer": "ipython3",
   "version": "3.8.11"
  },
  "orig_nbformat": 4
 },
 "nbformat": 4,
 "nbformat_minor": 2
}
