{
 "cells": [
  {
   "cell_type": "code",
   "execution_count": 1,
   "source": [
    "import pandas as pd\n",
    "\n",
    "df = pd.read_csv('xy_day.csv', \n",
    "    dtype={'taxi_id':int, 'location_id':int, 'date_time':object, 'x':float, 'y':float}, \n",
    "    parse_dates=['date_time'], \n",
    "    infer_datetime_format=True)\n",
    "df.head(5)"
   ],
   "outputs": [
    {
     "output_type": "execute_result",
     "data": {
      "text/html": [
       "<div>\n",
       "<style scoped>\n",
       "    .dataframe tbody tr th:only-of-type {\n",
       "        vertical-align: middle;\n",
       "    }\n",
       "\n",
       "    .dataframe tbody tr th {\n",
       "        vertical-align: top;\n",
       "    }\n",
       "\n",
       "    .dataframe thead th {\n",
       "        text-align: right;\n",
       "    }\n",
       "</style>\n",
       "<table border=\"1\" class=\"dataframe\">\n",
       "  <thead>\n",
       "    <tr style=\"text-align: right;\">\n",
       "      <th></th>\n",
       "      <th>date_time</th>\n",
       "      <th>taxi_id</th>\n",
       "      <th>location_id</th>\n",
       "      <th>x</th>\n",
       "      <th>y</th>\n",
       "    </tr>\n",
       "  </thead>\n",
       "  <tbody>\n",
       "    <tr>\n",
       "      <th>0</th>\n",
       "      <td>2008-02-02 13:30:00</td>\n",
       "      <td>366</td>\n",
       "      <td>380</td>\n",
       "      <td>17831.228067</td>\n",
       "      <td>10805.626231</td>\n",
       "    </tr>\n",
       "    <tr>\n",
       "      <th>1</th>\n",
       "      <td>2008-02-02 13:30:00</td>\n",
       "      <td>719</td>\n",
       "      <td>760</td>\n",
       "      <td>8664.893974</td>\n",
       "      <td>21113.999002</td>\n",
       "    </tr>\n",
       "    <tr>\n",
       "      <th>2</th>\n",
       "      <td>2008-02-02 13:30:00</td>\n",
       "      <td>875</td>\n",
       "      <td>876</td>\n",
       "      <td>5281.157698</td>\n",
       "      <td>24207.431410</td>\n",
       "    </tr>\n",
       "    <tr>\n",
       "      <th>3</th>\n",
       "      <td>2008-02-02 13:30:00</td>\n",
       "      <td>877</td>\n",
       "      <td>362</td>\n",
       "      <td>1999.227901</td>\n",
       "      <td>10717.910284</td>\n",
       "    </tr>\n",
       "    <tr>\n",
       "      <th>4</th>\n",
       "      <td>2008-02-02 13:30:00</td>\n",
       "      <td>950</td>\n",
       "      <td>274</td>\n",
       "      <td>4228.169328</td>\n",
       "      <td>8185.256271</td>\n",
       "    </tr>\n",
       "  </tbody>\n",
       "</table>\n",
       "</div>"
      ],
      "text/plain": [
       "            date_time  taxi_id  location_id             x             y\n",
       "0 2008-02-02 13:30:00      366          380  17831.228067  10805.626231\n",
       "1 2008-02-02 13:30:00      719          760   8664.893974  21113.999002\n",
       "2 2008-02-02 13:30:00      875          876   5281.157698  24207.431410\n",
       "3 2008-02-02 13:30:00      877          362   1999.227901  10717.910284\n",
       "4 2008-02-02 13:30:00      950          274   4228.169328   8185.256271"
      ]
     },
     "metadata": {},
     "execution_count": 1
    }
   ],
   "metadata": {}
  },
  {
   "cell_type": "code",
   "execution_count": 2,
   "source": [
    "loc = pd.read_csv('xy_loc.csv')\n",
    "loc.head(5)"
   ],
   "outputs": [
    {
     "output_type": "execute_result",
     "data": {
      "text/html": [
       "<div>\n",
       "<style scoped>\n",
       "    .dataframe tbody tr th:only-of-type {\n",
       "        vertical-align: middle;\n",
       "    }\n",
       "\n",
       "    .dataframe tbody tr th {\n",
       "        vertical-align: top;\n",
       "    }\n",
       "\n",
       "    .dataframe thead th {\n",
       "        text-align: right;\n",
       "    }\n",
       "</style>\n",
       "<table border=\"1\" class=\"dataframe\">\n",
       "  <thead>\n",
       "    <tr style=\"text-align: right;\">\n",
       "      <th></th>\n",
       "      <th>x</th>\n",
       "      <th>y</th>\n",
       "    </tr>\n",
       "  </thead>\n",
       "  <tbody>\n",
       "    <tr>\n",
       "      <th>0</th>\n",
       "      <td>428.127048</td>\n",
       "      <td>416.366323</td>\n",
       "    </tr>\n",
       "    <tr>\n",
       "      <th>1</th>\n",
       "      <td>1284.381143</td>\n",
       "      <td>416.366323</td>\n",
       "    </tr>\n",
       "    <tr>\n",
       "      <th>2</th>\n",
       "      <td>2140.635234</td>\n",
       "      <td>416.366323</td>\n",
       "    </tr>\n",
       "    <tr>\n",
       "      <th>3</th>\n",
       "      <td>2996.889318</td>\n",
       "      <td>416.366323</td>\n",
       "    </tr>\n",
       "    <tr>\n",
       "      <th>4</th>\n",
       "      <td>3853.143393</td>\n",
       "      <td>416.366323</td>\n",
       "    </tr>\n",
       "  </tbody>\n",
       "</table>\n",
       "</div>"
      ],
      "text/plain": [
       "             x           y\n",
       "0   428.127048  416.366323\n",
       "1  1284.381143  416.366323\n",
       "2  2140.635234  416.366323\n",
       "3  2996.889318  416.366323\n",
       "4  3853.143393  416.366323"
      ]
     },
     "metadata": {},
     "execution_count": 2
    }
   ],
   "metadata": {}
  },
  {
   "cell_type": "code",
   "execution_count": 6,
   "source": [
    "def mean_absolute_error(freq, est_freq):\n",
    "    return (abs(freq - est_freq)).mean()\n",
    "def mean_relative_error(freq, est_freq):\n",
    "    freq /= freq.sum()\n",
    "    est_freq /= est_freq.sum()\n",
    "    return (abs(freq - est_freq)/(freq + np.finfo(np.float32).eps)).mean()\n",
    "def jaccard_index(freq, est_freq, k):\n",
    "    top_k = np.argpartition(-freq, k)[:k]\n",
    "    est_top_k = np.argpartition(-est_freq, k)[:k]\n",
    "    return len(np.intersect1d(top_k, est_top_k))/len(np.union1d(top_k, est_top_k))\n",
    "def MSE(freq, est_freq):\n",
    "    return (np.square(freq - est_freq)).mean()"
   ],
   "outputs": [],
   "metadata": {}
  },
  {
   "cell_type": "code",
   "execution_count": 4,
   "source": [
    "import numpy as np\n",
    "from math import exp\n",
    "\n",
    "from tqdm import trange\n",
    "\n",
    "n = 10357\n",
    "episode = 1440\n",
    "d = 900\n",
    "universe = np.arange(d)\n",
    "\n",
    "w = 30\n",
    "epsilon = 1"
   ],
   "outputs": [],
   "metadata": {}
  },
  {
   "cell_type": "code",
   "execution_count": 7,
   "source": [
    "for epsilon in [0.1, 0.2, 0.3, 0.4, 0.5, 0.6, 0.7, 0.8, 0.9, 1]:\n",
    "    threshold = 2000\n",
    "\n",
    "    window = np.zeros((n, episode), dtype=float)\n",
    "    # current window pointer\n",
    "    cwp = 0\n",
    "    # last-released window pointer\n",
    "    lwp = np.zeros(n, dtype=int)\n",
    "    # historical data\n",
    "    storage = [[] for _ in range(n)]\n",
    "\n",
    "    current_time = pd.Timestamp('2008-02-02 13:30:00')\n",
    "    interval = pd.Timedelta('1min')\n",
    "\n",
    "    util = []\n",
    "    release_flag_record = []\n",
    "    for t in trange(episode):\n",
    "        data = df.loc[df['date_time']==current_time][['location_id', 'taxi_id', 'x', 'y']]\n",
    "        private_freq = np.zeros(d)\n",
    "        true_freq = np.zeros(d)\n",
    "        for row in data.itertuples():\n",
    "            true_freq[row.location_id] += 1\n",
    "            # decision\n",
    "            if storage[row.taxi_id-1]:\n",
    "                last_release = storage[row.taxi_id-1][len(storage[row.taxi_id-1]) - 1]\n",
    "                distance = np.sqrt(np.square(row.x - loc.loc[last_release]['x']) + np.square(row.y - loc.loc[last_release]['y']))\n",
    "                release_flag = (distance > threshold)\n",
    "                decision_budget = epsilon/(4*w)\n",
    "                neg_prob = 1/(exp(decision_budget) + 1)\n",
    "                if np.random.random_sample() < neg_prob:\n",
    "                    release_flag = ~release_flag\n",
    "            # if never released\n",
    "            else:\n",
    "                release_flag = True\n",
    "            if release_flag:\n",
    "                # budget allocation\n",
    "                forward_projection = w - (cwp - lwp[row.taxi_id-1])\n",
    "                if storage[row.taxi_id-1] and forward_projection > 0:\n",
    "                    forward_budget = (epsilon/2 - window[row.taxi_id-1][lwp[row.taxi_id-1]])/forward_projection\n",
    "                    backward_budget = epsilon/2 - window[row.taxi_id-1][max(0, cwp-w+1):cwp].sum()\n",
    "                    release_budget = min(forward_budget, backward_budget)\n",
    "                # if never released or the last release is out of window\n",
    "                else:\n",
    "                    release_budget = epsilon/(2*w)\n",
    "                # randomization\n",
    "                exp_prob = np.sqrt(np.square(row.x - loc['x'].to_numpy()) + np.square(row.y - loc['y'].to_numpy()))\n",
    "                exp_prob = np.exp(-release_budget*exp_prob/2)\n",
    "                exp_prob /= exp_prob.sum()\n",
    "                private_loc = np.random.choice(universe, p=exp_prob)\n",
    "                # window update\n",
    "                window[row.taxi_id-1][cwp] = release_budget\n",
    "                storage[row.taxi_id-1].append(private_loc)\n",
    "                release_flag_record.append(row.taxi_id-1)\n",
    "                lwp[row.taxi_id-1] = cwp\n",
    "            else:\n",
    "                approximate_budget = epsilon/(4*w)\n",
    "                historical_loc = np.array(storage[row.taxi_id-1])\n",
    "                exp_prob = np.sqrt(np.square(row.x - loc['x'].to_numpy()[historical_loc]) + np.square(row.y - loc['y'].to_numpy()[historical_loc]))\n",
    "                historical_loc = historical_loc[exp_prob < threshold]\n",
    "                if historical_loc.size:\n",
    "                    exp_prob = exp_prob[exp_prob < threshold]\n",
    "                    exp_prob = np.exp(-approximate_budget*exp_prob/2)\n",
    "                    exp_prob /= exp_prob.sum()\n",
    "                    private_loc = np.random.choice(historical_loc, p=exp_prob)\n",
    "                else:\n",
    "                    private_loc = last_release\n",
    "            private_freq[private_loc] += 1\n",
    "        cwp += 1\n",
    "        current_time += interval\n",
    "        # skip empty timestamp\n",
    "        if np.all(true_freq == 0):\n",
    "            continue\n",
    "        # util.append(mean_absolute_error(true_freq, private_freq))\n",
    "        # util.append(mean_relative_error(true_freq, private_freq))\n",
    "        # util.append(jaccard_index(true_freq, private_freq, 50))\n",
    "        util.append(MSE(true_freq, private_freq))\n",
    "    print(np.mean(util))"
   ],
   "outputs": [
    {
     "output_type": "stream",
     "name": "stderr",
     "text": [
      "100%|██████████| 1440/1440 [05:11<00:00,  4.63it/s]\n"
     ]
    },
    {
     "output_type": "stream",
     "name": "stdout",
     "text": [
      "3.0000078247261346\n"
     ]
    },
    {
     "output_type": "stream",
     "name": "stderr",
     "text": [
      "100%|██████████| 1440/1440 [05:13<00:00,  4.59it/s]\n"
     ]
    },
    {
     "output_type": "stream",
     "name": "stdout",
     "text": [
      "2.430514866979656\n"
     ]
    },
    {
     "output_type": "stream",
     "name": "stderr",
     "text": [
      "100%|██████████| 1440/1440 [05:25<00:00,  4.43it/s]\n"
     ]
    },
    {
     "output_type": "stream",
     "name": "stdout",
     "text": [
      "2.0144616588419404\n"
     ]
    },
    {
     "output_type": "stream",
     "name": "stderr",
     "text": [
      "100%|██████████| 1440/1440 [05:28<00:00,  4.38it/s]\n"
     ]
    },
    {
     "output_type": "stream",
     "name": "stdout",
     "text": [
      "1.7250954616588419\n"
     ]
    },
    {
     "output_type": "stream",
     "name": "stderr",
     "text": [
      "100%|██████████| 1440/1440 [05:13<00:00,  4.60it/s]\n"
     ]
    },
    {
     "output_type": "stream",
     "name": "stdout",
     "text": [
      "1.526095461658842\n"
     ]
    },
    {
     "output_type": "stream",
     "name": "stderr",
     "text": [
      "100%|██████████| 1440/1440 [05:13<00:00,  4.60it/s]\n"
     ]
    },
    {
     "output_type": "stream",
     "name": "stdout",
     "text": [
      "1.389679186228482\n"
     ]
    },
    {
     "output_type": "stream",
     "name": "stderr",
     "text": [
      "100%|██████████| 1440/1440 [05:13<00:00,  4.60it/s]\n"
     ]
    },
    {
     "output_type": "stream",
     "name": "stdout",
     "text": [
      "1.2926791862284819\n"
     ]
    },
    {
     "output_type": "stream",
     "name": "stderr",
     "text": [
      "100%|██████████| 1440/1440 [05:11<00:00,  4.62it/s]\n"
     ]
    },
    {
     "output_type": "stream",
     "name": "stdout",
     "text": [
      "1.2060892018779341\n"
     ]
    },
    {
     "output_type": "stream",
     "name": "stderr",
     "text": [
      "100%|██████████| 1440/1440 [05:10<00:00,  4.64it/s]\n"
     ]
    },
    {
     "output_type": "stream",
     "name": "stdout",
     "text": [
      "1.1507605633802818\n"
     ]
    },
    {
     "output_type": "stream",
     "name": "stderr",
     "text": [
      "100%|██████████| 1440/1440 [05:10<00:00,  4.64it/s]"
     ]
    },
    {
     "output_type": "stream",
     "name": "stdout",
     "text": [
      "1.10135524256651\n"
     ]
    },
    {
     "output_type": "stream",
     "name": "stderr",
     "text": [
      "\n"
     ]
    }
   ],
   "metadata": {}
  }
 ],
 "metadata": {
  "orig_nbformat": 4,
  "language_info": {
   "name": "python",
   "version": "3.8.11",
   "mimetype": "text/x-python",
   "codemirror_mode": {
    "name": "ipython",
    "version": 3
   },
   "pygments_lexer": "ipython3",
   "nbconvert_exporter": "python",
   "file_extension": ".py"
  },
  "kernelspec": {
   "name": "python3",
   "display_name": "Python 3.8.11 64-bit ('ldp': conda)"
  },
  "interpreter": {
   "hash": "3ab1aef511fa2a93501e996a950c9521aba6e7c87a2eabc8e3eba7db34c6004a"
  }
 },
 "nbformat": 4,
 "nbformat_minor": 2
}