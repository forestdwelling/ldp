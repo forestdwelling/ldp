{
 "cells": [
  {
   "cell_type": "markdown",
   "source": [
    "- Cellular network\n",
    "- Edge computing\n",
    "- Future Internet\n",
    "- Internet of Things\n",
    "- Healthcare systems\n",
    "\n",
    "\n",
    "- Traditional LDP could not address edge computing condition where the number of users is relatively small.\n",
    "- TLDP and PatternLDP could not address the edge computing condition where users quite possibly only stay a short time within the scope of base station.\n",
    "\n",
    "\n",
    "- Condensed local differential privacy with temporal metric."
   ],
   "metadata": {}
  },
  {
   "cell_type": "code",
   "execution_count": null,
   "source": [],
   "outputs": [],
   "metadata": {}
  }
 ],
 "metadata": {
  "orig_nbformat": 4,
  "language_info": {
   "name": "python"
  }
 },
 "nbformat": 4,
 "nbformat_minor": 2
}