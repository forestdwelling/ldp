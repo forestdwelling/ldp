{
 "cells": [
  {
   "cell_type": "code",
   "execution_count": 1,
   "metadata": {},
   "outputs": [
    {
     "data": {
      "text/html": [
       "<div>\n",
       "<style scoped>\n",
       "    .dataframe tbody tr th:only-of-type {\n",
       "        vertical-align: middle;\n",
       "    }\n",
       "\n",
       "    .dataframe tbody tr th {\n",
       "        vertical-align: top;\n",
       "    }\n",
       "\n",
       "    .dataframe thead th {\n",
       "        text-align: right;\n",
       "    }\n",
       "</style>\n",
       "<table border=\"1\" class=\"dataframe\">\n",
       "  <thead>\n",
       "    <tr style=\"text-align: right;\">\n",
       "      <th></th>\n",
       "      <th>Date</th>\n",
       "      <th>id</th>\n",
       "      <th>inc</th>\n",
       "      <th>inc_id</th>\n",
       "    </tr>\n",
       "  </thead>\n",
       "  <tbody>\n",
       "    <tr>\n",
       "      <th>0</th>\n",
       "      <td>2020-01-24</td>\n",
       "      <td>638</td>\n",
       "      <td>1</td>\n",
       "      <td>0</td>\n",
       "    </tr>\n",
       "    <tr>\n",
       "      <th>1</th>\n",
       "      <td>2020-01-26</td>\n",
       "      <td>109</td>\n",
       "      <td>1</td>\n",
       "      <td>0</td>\n",
       "    </tr>\n",
       "    <tr>\n",
       "      <th>2</th>\n",
       "      <td>2020-01-26</td>\n",
       "      <td>214</td>\n",
       "      <td>1</td>\n",
       "      <td>0</td>\n",
       "    </tr>\n",
       "    <tr>\n",
       "      <th>3</th>\n",
       "      <td>2020-01-26</td>\n",
       "      <td>225</td>\n",
       "      <td>1</td>\n",
       "      <td>0</td>\n",
       "    </tr>\n",
       "    <tr>\n",
       "      <th>4</th>\n",
       "      <td>2020-01-29</td>\n",
       "      <td>1275</td>\n",
       "      <td>1</td>\n",
       "      <td>0</td>\n",
       "    </tr>\n",
       "  </tbody>\n",
       "</table>\n",
       "</div>"
      ],
      "text/plain": [
       "        Date    id  inc  inc_id\n",
       "0 2020-01-24   638    1       0\n",
       "1 2020-01-26   109    1       0\n",
       "2 2020-01-26   214    1       0\n",
       "3 2020-01-26   225    1       0\n",
       "4 2020-01-29  1275    1       0"
      ]
     },
     "execution_count": 1,
     "metadata": {},
     "output_type": "execute_result"
    }
   ],
   "source": [
    "import pandas as pd\n",
    "\n",
    "df = pd.read_csv('confirm_drop0.csv', \n",
    "    dtype={'id':int, 'Date':object, 'inc':int}, \n",
    "    parse_dates=['Date'], \n",
    "    infer_datetime_format=True)\n",
    "df.head(5)"
   ]
  },
  {
   "cell_type": "code",
   "execution_count": 3,
   "metadata": {},
   "outputs": [
    {
     "data": {
      "text/html": [
       "<div>\n",
       "<style scoped>\n",
       "    .dataframe tbody tr th:only-of-type {\n",
       "        vertical-align: middle;\n",
       "    }\n",
       "\n",
       "    .dataframe tbody tr th {\n",
       "        vertical-align: top;\n",
       "    }\n",
       "\n",
       "    .dataframe thead th {\n",
       "        text-align: right;\n",
       "    }\n",
       "</style>\n",
       "<table border=\"1\" class=\"dataframe\">\n",
       "  <thead>\n",
       "    <tr style=\"text-align: right;\">\n",
       "      <th></th>\n",
       "      <th>id</th>\n",
       "      <th>inc</th>\n",
       "      <th>inc_id</th>\n",
       "    </tr>\n",
       "  </thead>\n",
       "  <tbody>\n",
       "    <tr>\n",
       "      <th>count</th>\n",
       "      <td>1.132681e+06</td>\n",
       "      <td>1.132681e+06</td>\n",
       "      <td>1.132681e+06</td>\n",
       "    </tr>\n",
       "    <tr>\n",
       "      <th>mean</th>\n",
       "      <td>1.624442e+03</td>\n",
       "      <td>3.131630e+01</td>\n",
       "      <td>5.729076e+00</td>\n",
       "    </tr>\n",
       "    <tr>\n",
       "      <th>std</th>\n",
       "      <td>9.721196e+02</td>\n",
       "      <td>7.267180e+01</td>\n",
       "      <td>1.449539e+01</td>\n",
       "    </tr>\n",
       "    <tr>\n",
       "      <th>min</th>\n",
       "      <td>0.000000e+00</td>\n",
       "      <td>1.000000e+00</td>\n",
       "      <td>0.000000e+00</td>\n",
       "    </tr>\n",
       "    <tr>\n",
       "      <th>25%</th>\n",
       "      <td>7.510000e+02</td>\n",
       "      <td>2.000000e+00</td>\n",
       "      <td>0.000000e+00</td>\n",
       "    </tr>\n",
       "    <tr>\n",
       "      <th>50%</th>\n",
       "      <td>1.591000e+03</td>\n",
       "      <td>7.000000e+00</td>\n",
       "      <td>1.000000e+00</td>\n",
       "    </tr>\n",
       "    <tr>\n",
       "      <th>75%</th>\n",
       "      <td>2.438000e+03</td>\n",
       "      <td>2.400000e+01</td>\n",
       "      <td>4.000000e+00</td>\n",
       "    </tr>\n",
       "    <tr>\n",
       "      <th>max</th>\n",
       "      <td>3.335000e+03</td>\n",
       "      <td>4.990000e+02</td>\n",
       "      <td>9.900000e+01</td>\n",
       "    </tr>\n",
       "  </tbody>\n",
       "</table>\n",
       "</div>"
      ],
      "text/plain": [
       "                 id           inc        inc_id\n",
       "count  1.132681e+06  1.132681e+06  1.132681e+06\n",
       "mean   1.624442e+03  3.131630e+01  5.729076e+00\n",
       "std    9.721196e+02  7.267180e+01  1.449539e+01\n",
       "min    0.000000e+00  1.000000e+00  0.000000e+00\n",
       "25%    7.510000e+02  2.000000e+00  0.000000e+00\n",
       "50%    1.591000e+03  7.000000e+00  1.000000e+00\n",
       "75%    2.438000e+03  2.400000e+01  4.000000e+00\n",
       "max    3.335000e+03  4.990000e+02  9.900000e+01"
      ]
     },
     "execution_count": 3,
     "metadata": {},
     "output_type": "execute_result"
    }
   ],
   "source": [
    "df.describe()"
   ]
  },
  {
   "cell_type": "code",
   "execution_count": 2,
   "metadata": {},
   "outputs": [
    {
     "name": "stdout",
     "output_type": "stream",
     "text": [
      "1859.903119868637\n"
     ]
    },
    {
     "data": {
      "image/png": "[encoded data removed]",
      "text/plain": [
       "<Figure size 360x324 with 1 Axes>"
      ]
     },
     "metadata": {
      "needs_background": "light"
     },
     "output_type": "display_data"
    }
   ],
   "source": [
    "interval = pd.Timedelta('1d')\n",
    "current_time = pd.Timestamp('2020-01-23')\n",
    "l = []\n",
    "for t in range(609):\n",
    "    data = df.loc[df['Date']==current_time]\n",
    "    l.append(len(data))\n",
    "    current_time += interval\n",
    "\n",
    "import numpy as np\n",
    "print(np.mean(l))\n",
    "\n",
    "import matplotlib.pyplot as plt\n",
    "\n",
    "plt.figure(figsize=(5, 4.5))\n",
    "plt.plot(l, '-', color='#bd6c48')\n",
    "plt.xlabel('Timestamp')\n",
    "plt.ylabel('Number of users')\n",
    "plt.grid(linestyle='-.')\n",
    "plt.savefig('covid_user.pdf')\n",
    "plt.show()"
   ]
  },
  {
   "cell_type": "code",
   "execution_count": 24,
   "metadata": {},
   "outputs": [],
   "source": [
    "interval = pd.Timedelta('7d')\n",
    "current_time = pd.Timestamp('2020-01-23')\n",
    "l = []\n",
    "for t in range(87):\n",
    "    data = df.loc[df['Date']==current_time]\n",
    "    l.append(len(data[data['id']==1252]))\n",
    "    current_time += interval"
   ]
  },
  {
   "cell_type": "code",
   "execution_count": 25,
   "metadata": {},
   "outputs": [
    {
     "data": {
      "image/png": "[encoded data removed]",
      "text/plain": [
       "<Figure size 432x288 with 1 Axes>"
      ]
     },
     "metadata": {
      "needs_background": "light"
     },
     "output_type": "display_data"
    }
   ],
   "source": [
    "import matplotlib.pyplot as plt\n",
    "\n",
    "plt.plot(l)\n",
    "plt.show()"
   ]
  },
  {
   "cell_type": "code",
   "execution_count": 16,
   "metadata": {},
   "outputs": [],
   "source": [
    "def MAE(freq, est_freq):\n",
    "    return (abs(freq - est_freq)).mean()\n",
    "def MRE(freq, est_freq):\n",
    "    return (abs(np.dot(freq, np.arange(d)) - np.dot(est_freq, np.arange(d))))/(np.dot(freq, np.arange(d)) + np.finfo(np.float32).eps)\n",
    "def jaccard_index(freq, est_freq, k):\n",
    "    top_k = np.argpartition(-freq, k)[:k]\n",
    "    est_top_k = np.argpartition(-est_freq, k)[:k]\n",
    "    return len(np.intersect1d(top_k, est_top_k))/len(np.union1d(top_k, est_top_k))\n",
    "def MSE(freq, est_freq):\n",
    "    return (np.square(freq - est_freq)).mean()\n",
    "def RMSE(freq, est_freq):\n",
    "    return np.sqrt((np.square(freq - est_freq)).mean())\n",
    "\n",
    "import numpy as np\n",
    "from math import exp\n",
    "\n",
    "from tqdm import trange\n",
    "\n",
    "n = 3336\n",
    "episode = 87\n",
    "d = 100\n",
    "universe = np.arange(d)\n",
    "\n",
    "p_mat = np.zeros((d, d))\n",
    "for i in range(d):\n",
    "    p_mat[i] = np.abs(universe[i] - universe)*100\n",
    "\n",
    "w = 30\n",
    "epsilon = 1\n",
    "epsilon_range = np.arange(0.1, 1.1, 0.1)\n",
    "w_range = np.arange(5, 85, 5)\n",
    "# [0.04931640625, \n",
    "#                 1.8316650390625, \n",
    "#                 9.9993896484375, \n",
    "#                 14.99908447265625, \n",
    "#                 19.9993896484375, \n",
    "#                 24.999237060546875, \n",
    "#                 29.99908447265625, \n",
    "#                 34.99946594238281, \n",
    "#                 39.9993896484375, \n",
    "#                 44.99931335449219, \n",
    "#                 49.999237060546875]\n",
    "interval = pd.Timedelta('7d')\n",
    "start_time = pd.Timestamp('2020-01-23')"
   ]
  },
  {
   "cell_type": "markdown",
   "metadata": {},
   "source": [
    "## Uniform"
   ]
  },
  {
   "cell_type": "code",
   "execution_count": 13,
   "metadata": {},
   "outputs": [
    {
     "name": "stdout",
     "output_type": "stream",
     "text": [
      "135.26718393276406\n",
      "113.27353002867164\n",
      "95.7260107664099\n",
      "81.4551256837889\n",
      "69.7916240689482\n",
      "59.509343886562284\n",
      "50.14309676576762\n",
      "43.27866213919368\n",
      "36.74716217460917\n",
      "31.41525282836182\n"
     ]
    }
   ],
   "source": [
    "for epsilon in epsilon_range:\n",
    "# for w in w_range:\n",
    "    current_time = start_time\n",
    "\n",
    "    util = []\n",
    "    for t in range(episode):\n",
    "        data = df.loc[df['Date']==current_time]\n",
    "        private_freq = np.zeros(d)\n",
    "        true_freq = np.zeros(d)\n",
    "        for row in data.itertuples():\n",
    "            true_freq[row.inc_id] += 1\n",
    "            # randomization\n",
    "            release_budget = epsilon/w\n",
    "            exp_prob = np.exp(-release_budget*p_mat[row.inc_id]/2)\n",
    "            exp_prob /= exp_prob.sum()\n",
    "            private_inc = np.random.choice(universe, p=exp_prob)\n",
    "            private_freq[private_inc] += 1\n",
    "        current_time += interval\n",
    "        # skip empty timestamp\n",
    "        if np.all(true_freq == 0):\n",
    "            continue\n",
    "        util.append(RMSE(true_freq, private_freq))\n",
    "    print(np.mean(util))"
   ]
  },
  {
   "cell_type": "code",
   "execution_count": 37,
   "metadata": {},
   "outputs": [
    {
     "name": "stdout",
     "output_type": "stream",
     "text": [
      "85.62347717396977\n",
      "54.97090769398711\n",
      "36.91854269750659\n",
      "31.008414558546473\n",
      "20.36995421141204\n",
      "30.266206404334206\n",
      "24.491373306296392\n",
      "24.101762199130775\n",
      "20.64443284184223\n",
      "15.94632175425377\n"
     ]
    }
   ],
   "source": [
    "for epsilon in epsilon_range:\n",
    "# for w in w_range:\n",
    "    window = np.zeros((n, episode), dtype=float)\n",
    "    # historical data\n",
    "    storage = [[] for _ in range(n)]\n",
    "\n",
    "    current_time = start_time\n",
    "\n",
    "    util = []\n",
    "    for t in range(episode):\n",
    "        data = df.loc[df['Date']==current_time]\n",
    "        private_freq = np.zeros(d)\n",
    "        true_freq = np.zeros(d)\n",
    "        for row in data.itertuples():\n",
    "            true_freq[row.inc_id] += 1\n",
    "            release_budget = epsilon/(w*0.45)\n",
    "            remain = epsilon - window[row.id][max(0, t-w+1):t].sum()\n",
    "            if remain < release_budget:\n",
    "                release_budget = 0\n",
    "            if release_budget > 0:\n",
    "                # randomization\n",
    "                exp_prob = np.exp(-release_budget*p_mat[row.inc_id]/2)\n",
    "                exp_prob /= exp_prob.sum()\n",
    "                private_inc = np.random.choice(universe, p=exp_prob)\n",
    "                # update window\n",
    "                window[row.id][t] = release_budget\n",
    "                storage[row.id].append(private_inc)\n",
    "            else:\n",
    "                private_inc = storage[row.id][len(storage[row.id])-1]\n",
    "            private_freq[private_inc] += 1\n",
    "        current_time += interval\n",
    "        # skip empty timestamp\n",
    "        if np.all(true_freq == 0):\n",
    "            continue\n",
    "        util.append(RMSE(true_freq, private_freq))\n",
    "    print(np.mean(util))"
   ]
  },
  {
   "cell_type": "markdown",
   "metadata": {},
   "source": [
    "## Local Sample"
   ]
  },
  {
   "cell_type": "code",
   "execution_count": 8,
   "metadata": {},
   "outputs": [
    {
     "name": "stdout",
     "output_type": "stream",
     "text": [
      "32.90867262388649\n",
      "41.91219124761723\n",
      "61.84265044914777\n",
      "52.72143182344902\n",
      "63.028978875504016\n",
      "84.63623287371456\n",
      "91.35128849155043\n",
      "90.71403302036752\n",
      "88.81428441699796\n",
      "94.63446710465102\n",
      "100.03908902443702\n"
     ]
    }
   ],
   "source": [
    "# for epsilon in epsilon_range:\n",
    "for w in w_range:\n",
    "    window = np.zeros((n, episode), dtype=float)\n",
    "    # historical data\n",
    "    storage = [[] for _ in range(n)]\n",
    "\n",
    "    current_time = start_time\n",
    "\n",
    "    util = []\n",
    "    for t in range(episode):\n",
    "        data = df.loc[df['Date']==current_time]\n",
    "        private_freq = np.zeros(d)\n",
    "        true_freq = np.zeros(d)\n",
    "        for row in data.itertuples():\n",
    "            true_freq[row.inc_id] += 1\n",
    "            release_budget = epsilon\n",
    "            remain = epsilon - window[row.id][max(0, t-w+1):t].sum()\n",
    "            if remain < release_budget:\n",
    "                release_budget = 0\n",
    "            if release_budget > 0:\n",
    "                # randomization\n",
    "                exp_prob = np.exp(-release_budget*p_mat[row.inc_id]/2)\n",
    "                exp_prob /= exp_prob.sum()\n",
    "                private_inc = np.random.choice(universe, p=exp_prob)\n",
    "                # update window\n",
    "                window[row.id][t] = release_budget\n",
    "                storage[row.id].append(private_inc)\n",
    "            else:\n",
    "                private_inc = storage[row.id][len(storage[row.id])-1]\n",
    "            private_freq[private_inc] += 1\n",
    "        current_time += interval\n",
    "        # skip empty timestamp\n",
    "        if np.all(true_freq == 0):\n",
    "            continue\n",
    "        util.append(RMSE(true_freq, private_freq))\n",
    "    print(np.mean(util))"
   ]
  },
  {
   "cell_type": "markdown",
   "metadata": {},
   "source": [
    "## Fix-Alloc"
   ]
  },
  {
   "cell_type": "code",
   "execution_count": 18,
   "metadata": {},
   "outputs": [
    {
     "name": "stdout",
     "output_type": "stream",
     "text": [
      "55.23993635030214\n",
      "35.96138942742107\n",
      "25.27466942684353\n",
      "18.742763611616784\n",
      "15.089506095473213\n",
      "13.297785740408486\n",
      "11.985357429505399\n",
      "11.23714350490558\n",
      "10.927647398269484\n",
      "10.68412078072686\n"
     ]
    }
   ],
   "source": [
    "for epsilon in epsilon_range:\n",
    "# for w in w_range:\n",
    "    window = np.zeros((n, episode), dtype=float)\n",
    "    # historical data\n",
    "    storage = [[] for _ in range(n)]\n",
    "\n",
    "    current_time = start_time\n",
    "    ratio = 0.45\n",
    "\n",
    "    util = []\n",
    "    for t in range(episode):\n",
    "        data = df.loc[df['Date']==current_time]\n",
    "        private_freq = np.zeros(d)\n",
    "        true_freq = np.zeros(d)\n",
    "        for row in data.itertuples():\n",
    "            true_freq[row.inc_id] += 1\n",
    "            # release_flag = np.random.binomial(1, ratio)\n",
    "            release_budget = epsilon/(w*ratio)\n",
    "            remain = epsilon - window[row.id][max(0, t-w+1):t].sum()\n",
    "            if (remain < release_budget): # or (release_flag == False):\n",
    "                release_budget = 0\n",
    "            if release_budget > 0:\n",
    "                # randomization\n",
    "                exp_prob = np.exp(-release_budget*p_mat[row.inc_id]/2)\n",
    "                exp_prob /= exp_prob.sum()\n",
    "                private_inc = np.random.choice(universe, p=exp_prob)\n",
    "                # update window\n",
    "                window[row.id][t] = release_budget\n",
    "                storage[row.id].append(private_inc)\n",
    "            else:\n",
    "                private_inc = storage[row.id][len(storage[row.id])-1]\n",
    "            private_freq[private_inc] += 1\n",
    "        current_time += interval\n",
    "        # skip empty timestamp\n",
    "        if np.all(true_freq == 0):\n",
    "            continue\n",
    "        util.append(RMSE(true_freq, private_freq))\n",
    "    print(np.mean(util))"
   ]
  },
  {
   "cell_type": "markdown",
   "metadata": {},
   "source": [
    "## Ada-Alloc"
   ]
  },
  {
   "cell_type": "code",
   "execution_count": 59,
   "metadata": {},
   "outputs": [
    {
     "name": "stdout",
     "output_type": "stream",
     "text": [
      "53.39914232310275\n",
      "36.605062205608085\n",
      "25.325779984974925\n",
      "19.234360512122922\n"
     ]
    },
    {
     "ename": "KeyboardInterrupt",
     "evalue": "",
     "output_type": "error",
     "traceback": [
      "\u001b[0;31m---------------------------------------------------------------------------\u001b[0m",
      "\u001b[0;31mKeyboardInterrupt\u001b[0m                         Traceback (most recent call last)",
      "\u001b[0;32m/tmp/ipykernel_8129/3679254297.py\u001b[0m in \u001b[0;36m<module>\u001b[0;34m\u001b[0m\n\u001b[1;32m     21\u001b[0m             \u001b[0;31m# release_flag = np.random.binomial(1, ratio)\u001b[0m\u001b[0;34m\u001b[0m\u001b[0;34m\u001b[0m\u001b[0;34m\u001b[0m\u001b[0m\n\u001b[1;32m     22\u001b[0m             \u001b[0mrelease_budget\u001b[0m \u001b[0;34m=\u001b[0m \u001b[0mepsilon\u001b[0m\u001b[0;34m/\u001b[0m\u001b[0;34m(\u001b[0m\u001b[0mw\u001b[0m\u001b[0;34m*\u001b[0m\u001b[0mratio\u001b[0m\u001b[0;34m[\u001b[0m\u001b[0mrow\u001b[0m\u001b[0;34m.\u001b[0m\u001b[0mid\u001b[0m\u001b[0;34m]\u001b[0m\u001b[0;34m)\u001b[0m\u001b[0;34m\u001b[0m\u001b[0;34m\u001b[0m\u001b[0m\n\u001b[0;32m---> 23\u001b[0;31m             \u001b[0mremain\u001b[0m \u001b[0;34m=\u001b[0m \u001b[0mepsilon\u001b[0m \u001b[0;34m-\u001b[0m \u001b[0mwindow\u001b[0m\u001b[0;34m[\u001b[0m\u001b[0mrow\u001b[0m\u001b[0;34m.\u001b[0m\u001b[0mid\u001b[0m\u001b[0;34m]\u001b[0m\u001b[0;34m[\u001b[0m\u001b[0mmax\u001b[0m\u001b[0;34m(\u001b[0m\u001b[0;36m0\u001b[0m\u001b[0;34m,\u001b[0m \u001b[0mt\u001b[0m\u001b[0;34m-\u001b[0m\u001b[0mw\u001b[0m\u001b[0;34m+\u001b[0m\u001b[0;36m1\u001b[0m\u001b[0;34m)\u001b[0m\u001b[0;34m:\u001b[0m\u001b[0mt\u001b[0m\u001b[0;34m]\u001b[0m\u001b[0;34m.\u001b[0m\u001b[0msum\u001b[0m\u001b[0;34m(\u001b[0m\u001b[0;34m)\u001b[0m\u001b[0;34m\u001b[0m\u001b[0;34m\u001b[0m\u001b[0m\n\u001b[0m\u001b[1;32m     24\u001b[0m             \u001b[0;32mif\u001b[0m \u001b[0;34m(\u001b[0m\u001b[0mremain\u001b[0m \u001b[0;34m<\u001b[0m \u001b[0mrelease_budget\u001b[0m\u001b[0;34m)\u001b[0m\u001b[0;34m:\u001b[0m \u001b[0;31m# or (release_flag == False):\u001b[0m\u001b[0;34m\u001b[0m\u001b[0;34m\u001b[0m\u001b[0m\n\u001b[1;32m     25\u001b[0m                 \u001b[0mrelease_budget\u001b[0m \u001b[0;34m=\u001b[0m \u001b[0;36m0\u001b[0m\u001b[0;34m\u001b[0m\u001b[0;34m\u001b[0m\u001b[0m\n",
      "\u001b[0;32m~/anaconda3/envs/ldp/lib/python3.8/site-packages/numpy/core/_methods.py\u001b[0m in \u001b[0;36m_sum\u001b[0;34m(a, axis, dtype, out, keepdims, initial, where)\u001b[0m\n\u001b[1;32m     45\u001b[0m def _sum(a, axis=None, dtype=None, out=None, keepdims=False,\n\u001b[1;32m     46\u001b[0m          initial=_NoValue, where=True):\n\u001b[0;32m---> 47\u001b[0;31m     \u001b[0;32mreturn\u001b[0m \u001b[0mumr_sum\u001b[0m\u001b[0;34m(\u001b[0m\u001b[0ma\u001b[0m\u001b[0;34m,\u001b[0m \u001b[0maxis\u001b[0m\u001b[0;34m,\u001b[0m \u001b[0mdtype\u001b[0m\u001b[0;34m,\u001b[0m \u001b[0mout\u001b[0m\u001b[0;34m,\u001b[0m \u001b[0mkeepdims\u001b[0m\u001b[0;34m,\u001b[0m \u001b[0minitial\u001b[0m\u001b[0;34m,\u001b[0m \u001b[0mwhere\u001b[0m\u001b[0;34m)\u001b[0m\u001b[0;34m\u001b[0m\u001b[0;34m\u001b[0m\u001b[0m\n\u001b[0m\u001b[1;32m     48\u001b[0m \u001b[0;34m\u001b[0m\u001b[0m\n\u001b[1;32m     49\u001b[0m def _prod(a, axis=None, dtype=None, out=None, keepdims=False,\n",
      "\u001b[0;31mKeyboardInterrupt\u001b[0m: "
     ]
    }
   ],
   "source": [
    "for epsilon in epsilon_range:\n",
    "# for w in w_range:\n",
    "    window = np.zeros((n, episode), dtype=float)\n",
    "    # historical data\n",
    "    storage = [[] for _ in range(n)]\n",
    "\n",
    "    current_time = start_time\n",
    "    ratio = np.full(n, 0.45)\n",
    "    data_flag = np.zeros((n, episode), dtype=int)\n",
    "    release_flag = np.zeros((n, episode), dtype=int)\n",
    "    pid_error = np.zeros((n, episode), dtype=float)\n",
    "\n",
    "    util = []\n",
    "    for t in range(episode):\n",
    "        data = df.loc[df['Date']==current_time]\n",
    "        private_freq = np.zeros(d)\n",
    "        true_freq = np.zeros(d)\n",
    "        for row in data.itertuples():\n",
    "            true_freq[row.inc_id] += 1\n",
    "            data_flag[row.inc_id][t] = 1\n",
    "            # release_flag = np.random.binomial(1, ratio)\n",
    "            release_budget = epsilon/(w*ratio[row.id])\n",
    "            remain = epsilon - window[row.id][max(0, t-w+1):t].sum()\n",
    "            if (remain < release_budget): # or (release_flag == False):\n",
    "                release_budget = 0\n",
    "            if release_budget > 0:\n",
    "                # randomization\n",
    "                exp_prob = np.exp(-release_budget*p_mat[row.inc_id]/2)\n",
    "                exp_prob /= exp_prob.sum()\n",
    "                private_inc = np.random.choice(universe, p=exp_prob)\n",
    "                # update window\n",
    "                window[row.id][t] = release_budget\n",
    "                storage[row.id].append(private_inc)\n",
    "                release_flag[row.inc_id][t] = 1\n",
    "            else:\n",
    "                private_inc = storage[row.id][len(storage[row.id])-1]\n",
    "            private_freq[private_inc] += 1\n",
    "        if t > w:\n",
    "            data_num = data_flag[:, max(0, t-w+1):t].sum(axis=1)\n",
    "            # release_num = release_flag[:, max(0, t-w+1):t].sum(axis=1)\n",
    "            release_num = release_flag[:, 0:t].sum(axis=1)\n",
    "            pid_error[:, t] = abs(release_num/t - data_num/min(w, t))\n",
    "            # pid_error[:, t] = abs(data_num/w - ratio) \n",
    "            error = np.sign(pid_error[:, t])*(0.1*pid_error[:, t] + 0.0*pid_error[:, max(0, t-w+1):t].sum(axis=1)/min(w, t) + 0.0*(pid_error[:, t] - pid_error[:, t-1])) \n",
    "            ratio = np.clip(ratio + error, 1/w, 1) \n",
    "            # ratio = np.clip(data_num/w, 1/w, 1) \n",
    "        current_time += interval\n",
    "        # skip empty timestamp\n",
    "        if np.all(true_freq == 0):\n",
    "            continue\n",
    "        util.append(RMSE(true_freq, private_freq))\n",
    "    print(np.mean(util))"
   ]
  },
  {
   "cell_type": "code",
   "execution_count": 57,
   "metadata": {},
   "outputs": [
    {
     "data": {
      "text/plain": [
       "array([1.  , 1.  , 1.  , 1.  , 1.  , 1.  , 1.  , 1.  , 1.  , 1.  , 1.  ,\n",
       "       1.  , 1.  , 1.  , 1.  , 1.  , 1.  , 1.  , 1.  , 1.  , 1.  , 1.  ,\n",
       "       1.  , 1.  , 1.  , 1.  , 1.  , 1.  , 1.  , 1.  , 1.  , 1.  , 1.  ,\n",
       "       1.  , 1.  , 1.  , 1.  , 1.  , 1.  , 1.  , 1.  , 1.  , 1.  , 1.  ,\n",
       "       1.  , 1.  , 1.  , 1.  , 1.  , 1.  , 1.  , 1.  , 1.  , 1.  , 1.  ,\n",
       "       1.  , 1.  , 1.  , 1.  , 1.  , 1.  , 1.  , 1.  , 1.  , 1.  , 1.  ,\n",
       "       1.  , 1.  , 1.  , 1.  , 1.  , 1.  , 1.  , 1.  , 1.  , 1.  , 1.  ,\n",
       "       1.  , 1.  , 1.  , 1.  , 1.  , 1.  , 1.  , 1.  , 1.  , 1.  , 1.  ,\n",
       "       1.  , 1.  , 1.  , 1.  , 1.  , 1.  , 1.  , 1.  , 1.  , 1.  , 1.  ,\n",
       "       1.  , 0.45, 0.45, 0.45, 0.45, 0.45, 0.45, 0.45, 0.45, 0.45, 0.45,\n",
       "       0.45, 0.45, 0.45, 0.45, 0.45, 0.45, 0.45, 0.45, 0.45, 0.45, 0.45,\n",
       "       0.45, 0.45, 0.45, 0.45, 0.45, 0.45, 0.45, 0.45, 0.45, 0.45, 0.45,\n",
       "       0.45, 0.45, 0.45, 0.45, 0.45, 0.45, 0.45, 0.45, 0.45, 0.45, 0.45,\n",
       "       0.45, 0.45, 0.45, 0.45, 0.45, 0.45, 0.45, 0.45, 0.45, 0.45, 0.45,\n",
       "       0.45, 0.45, 0.45, 0.45, 0.45, 0.45, 0.45, 0.45, 0.45, 0.45, 0.45,\n",
       "       0.45, 0.45, 0.45, 0.45, 0.45, 0.45, 0.45, 0.45, 0.45, 0.45, 0.45,\n",
       "       0.45, 0.45, 0.45, 0.45, 0.45, 0.45, 0.45, 0.45, 0.45, 0.45, 0.45,\n",
       "       0.45, 0.45, 0.45, 0.45, 0.45, 0.45, 0.45, 0.45, 0.45, 0.45, 0.45,\n",
       "       0.45, 0.45, 0.45, 0.45, 0.45, 0.45, 0.45, 0.45, 0.45, 0.45, 0.45,\n",
       "       0.45, 0.45, 0.45, 0.45, 0.45, 0.45, 0.45, 0.45, 0.45, 0.45, 0.45,\n",
       "       0.45, 0.45, 0.45, 0.45, 0.45, 0.45, 0.45, 0.45, 0.45, 0.45, 0.45,\n",
       "       0.45, 0.45, 0.45, 0.45, 0.45, 0.45, 0.45, 0.45, 0.45, 0.45, 0.45,\n",
       "       0.45, 0.45, 0.45, 0.45, 0.45, 0.45, 0.45, 0.45, 0.45, 0.45, 0.45,\n",
       "       0.45, 0.45, 0.45, 0.45, 0.45, 0.45, 0.45, 0.45, 0.45, 0.45, 0.45,\n",
       "       0.45, 0.45, 0.45, 0.45, 0.45, 0.45, 0.45, 0.45, 0.45, 0.45, 0.45,\n",
       "       0.45, 0.45, 0.45, 0.45, 0.45, 0.45, 0.45, 0.45, 0.45, 0.45, 0.45,\n",
       "       0.45, 0.45, 0.45, 0.45, 0.45, 0.45, 0.45, 0.45, 0.45, 0.45, 0.45,\n",
       "       0.45, 0.45, 0.45, 0.45, 0.45, 0.45, 0.45, 0.45, 0.45, 0.45, 0.45,\n",
       "       0.45, 0.45, 0.45, 0.45, 0.45, 0.45, 0.45, 0.45, 0.45, 0.45, 0.45,\n",
       "       0.45, 0.45, 0.45, 0.45, 0.45, 0.45, 0.45, 0.45, 0.45, 0.45, 0.45,\n",
       "       0.45, 0.45, 0.45, 0.45, 0.45, 0.45, 0.45, 0.45, 0.45, 0.45, 0.45,\n",
       "       0.45, 0.45, 0.45, 0.45, 0.45, 0.45, 0.45, 0.45, 0.45, 0.45, 0.45,\n",
       "       0.45, 0.45, 0.45, 0.45, 0.45, 0.45, 0.45, 0.45, 0.45, 0.45, 0.45,\n",
       "       0.45, 0.45, 0.45, 0.45, 0.45, 0.45, 0.45, 0.45, 0.45, 0.45, 0.45,\n",
       "       0.45, 0.45, 0.45, 0.45, 0.45, 0.45, 0.45, 0.45, 0.45, 0.45, 0.45,\n",
       "       0.45, 0.45, 0.45, 0.45, 0.45, 0.45, 0.45, 0.45, 0.45, 0.45, 0.45,\n",
       "       0.45, 0.45, 0.45, 0.45, 0.45, 0.45, 0.45, 0.45, 0.45, 0.45, 0.45,\n",
       "       0.45, 0.45, 0.45, 0.45, 0.45, 0.45, 0.45, 0.45, 0.45, 0.45, 0.45,\n",
       "       0.45, 0.45, 0.45, 0.45, 0.45, 0.45, 0.45, 0.45, 0.45, 0.45, 0.45,\n",
       "       0.45, 0.45, 0.45, 0.45, 0.45, 0.45, 0.45, 0.45, 0.45, 0.45, 0.45,\n",
       "       0.45, 0.45, 0.45, 0.45, 0.45, 0.45, 0.45, 0.45, 0.45, 0.45, 0.45,\n",
       "       0.45, 0.45, 0.45, 0.45, 0.45, 0.45, 0.45, 0.45, 0.45, 0.45, 0.45,\n",
       "       0.45, 0.45, 0.45, 0.45, 0.45, 0.45, 0.45, 0.45, 0.45, 0.45, 0.45,\n",
       "       0.45, 0.45, 0.45, 0.45, 0.45, 0.45, 0.45, 0.45, 0.45, 0.45, 0.45,\n",
       "       0.45, 0.45, 0.45, 0.45, 0.45, 0.45, 0.45, 0.45, 0.45, 0.45, 0.45,\n",
       "       0.45, 0.45, 0.45, 0.45, 0.45, 0.45, 0.45, 0.45, 0.45, 0.45, 0.45,\n",
       "       0.45, 0.45, 0.45, 0.45, 0.45, 0.45, 0.45, 0.45, 0.45, 0.45, 0.45,\n",
       "       0.45, 0.45, 0.45, 0.45, 0.45, 0.45, 0.45, 0.45, 0.45, 0.45, 0.45,\n",
       "       0.45, 0.45, 0.45, 0.45, 0.45, 0.45, 0.45, 0.45, 0.45, 0.45, 0.45,\n",
       "       0.45, 0.45, 0.45, 0.45, 0.45, 0.45, 0.45, 0.45, 0.45, 0.45, 0.45,\n",
       "       0.45, 0.45, 0.45, 0.45, 0.45, 0.45, 0.45, 0.45, 0.45, 0.45, 0.45,\n",
       "       0.45, 0.45, 0.45, 0.45, 0.45, 0.45, 0.45, 0.45, 0.45, 0.45, 0.45,\n",
       "       0.45, 0.45, 0.45, 0.45, 0.45, 0.45, 0.45, 0.45, 0.45, 0.45, 0.45,\n",
       "       0.45, 0.45, 0.45, 0.45, 0.45, 0.45, 0.45, 0.45, 0.45, 0.45, 0.45,\n",
       "       0.45, 0.45, 0.45, 0.45, 0.45, 0.45, 0.45, 0.45, 0.45, 0.45, 0.45,\n",
       "       0.45, 0.45, 0.45, 0.45, 0.45, 0.45, 0.45, 0.45, 0.45, 0.45, 0.45,\n",
       "       0.45, 0.45, 0.45, 0.45, 0.45, 0.45, 0.45, 0.45, 0.45, 0.45, 0.45,\n",
       "       0.45, 0.45, 0.45, 0.45, 0.45, 0.45, 0.45, 0.45, 0.45, 0.45, 0.45,\n",
       "       0.45, 0.45, 0.45, 0.45, 0.45, 0.45, 0.45, 0.45, 0.45, 0.45, 0.45,\n",
       "       0.45, 0.45, 0.45, 0.45, 0.45, 0.45, 0.45, 0.45, 0.45, 0.45, 0.45,\n",
       "       0.45, 0.45, 0.45, 0.45, 0.45, 0.45, 0.45, 0.45, 0.45, 0.45, 0.45,\n",
       "       0.45, 0.45, 0.45, 0.45, 0.45, 0.45, 0.45, 0.45, 0.45, 0.45, 0.45,\n",
       "       0.45, 0.45, 0.45, 0.45, 0.45, 0.45, 0.45, 0.45, 0.45, 0.45, 0.45,\n",
       "       0.45, 0.45, 0.45, 0.45, 0.45, 0.45, 0.45, 0.45, 0.45, 0.45, 0.45,\n",
       "       0.45, 0.45, 0.45, 0.45, 0.45, 0.45, 0.45, 0.45, 0.45, 0.45, 0.45,\n",
       "       0.45, 0.45, 0.45, 0.45, 0.45, 0.45, 0.45, 0.45, 0.45, 0.45, 0.45,\n",
       "       0.45, 0.45, 0.45, 0.45, 0.45, 0.45, 0.45, 0.45, 0.45, 0.45, 0.45,\n",
       "       0.45, 0.45, 0.45, 0.45, 0.45, 0.45, 0.45, 0.45, 0.45, 0.45, 0.45,\n",
       "       0.45, 0.45, 0.45, 0.45, 0.45, 0.45, 0.45, 0.45, 0.45, 0.45, 0.45,\n",
       "       0.45, 0.45, 0.45, 0.45, 0.45, 0.45, 0.45, 0.45, 0.45, 0.45, 0.45,\n",
       "       0.45, 0.45, 0.45, 0.45, 0.45, 0.45, 0.45, 0.45, 0.45, 0.45, 0.45,\n",
       "       0.45, 0.45, 0.45, 0.45, 0.45, 0.45, 0.45, 0.45, 0.45, 0.45, 0.45,\n",
       "       0.45, 0.45, 0.45, 0.45, 0.45, 0.45, 0.45, 0.45, 0.45, 0.45, 0.45,\n",
       "       0.45, 0.45, 0.45, 0.45, 0.45, 0.45, 0.45, 0.45, 0.45, 0.45, 0.45,\n",
       "       0.45, 0.45, 0.45, 0.45, 0.45, 0.45, 0.45, 0.45, 0.45, 0.45, 0.45,\n",
       "       0.45, 0.45, 0.45, 0.45, 0.45, 0.45, 0.45, 0.45, 0.45, 0.45, 0.45,\n",
       "       0.45, 0.45, 0.45, 0.45, 0.45, 0.45, 0.45, 0.45, 0.45, 0.45, 0.45,\n",
       "       0.45, 0.45, 0.45, 0.45, 0.45, 0.45, 0.45, 0.45, 0.45, 0.45, 0.45,\n",
       "       0.45, 0.45, 0.45, 0.45, 0.45, 0.45, 0.45, 0.45, 0.45, 0.45, 0.45,\n",
       "       0.45, 0.45, 0.45, 0.45, 0.45, 0.45, 0.45, 0.45, 0.45, 0.45, 0.45,\n",
       "       0.45, 0.45, 0.45, 0.45, 0.45, 0.45, 0.45, 0.45, 0.45, 0.45, 0.45,\n",
       "       0.45, 0.45, 0.45, 0.45, 0.45, 0.45, 0.45, 0.45, 0.45, 0.45, 0.45,\n",
       "       0.45, 0.45, 0.45, 0.45, 0.45, 0.45, 0.45, 0.45, 0.45, 0.45, 0.45,\n",
       "       0.45, 0.45, 0.45, 0.45, 0.45, 0.45, 0.45, 0.45, 0.45, 0.45, 0.45,\n",
       "       0.45, 0.45, 0.45, 0.45, 0.45, 0.45, 0.45, 0.45, 0.45, 0.45, 0.45,\n",
       "       0.45, 0.45, 0.45, 0.45, 0.45, 0.45, 0.45, 0.45, 0.45, 0.45, 0.45,\n",
       "       0.45, 0.45, 0.45, 0.45, 0.45, 0.45, 0.45, 0.45, 0.45, 0.45, 0.45,\n",
       "       0.45, 0.45, 0.45, 0.45, 0.45, 0.45, 0.45, 0.45, 0.45, 0.45, 0.45,\n",
       "       0.45, 0.45, 0.45, 0.45, 0.45, 0.45, 0.45, 0.45, 0.45, 0.45, 0.45,\n",
       "       0.45, 0.45, 0.45, 0.45, 0.45, 0.45, 0.45, 0.45, 0.45, 0.45, 0.45,\n",
       "       0.45, 0.45, 0.45, 0.45, 0.45, 0.45, 0.45, 0.45, 0.45, 0.45])"
      ]
     },
     "execution_count": 57,
     "metadata": {},
     "output_type": "execute_result"
    }
   ],
   "source": [
    "ratio[0:1000]"
   ]
  },
  {
   "cell_type": "code",
   "execution_count": 8,
   "metadata": {},
   "outputs": [
    {
     "name": "stdout",
     "output_type": "stream",
     "text": [
      "87.75519307242418\n",
      "70.94723018057816\n",
      "61.42208667913099\n",
      "57.125445005957246\n",
      "55.97779413775227\n",
      "57.31951349368277\n",
      "58.68325264733264\n",
      "59.608420892159806\n",
      "60.91247639838968\n",
      "60.85733766373953\n"
     ]
    }
   ],
   "source": [
    "for epsilon in epsilon_range:\n",
    "    window = np.zeros((n, episode), dtype=float)\n",
    "    # historical data\n",
    "    storage = [[] for _ in range(n)]\n",
    "\n",
    "    current_time = start_time\n",
    "    ratio = np.full(n, 0.45)\n",
    "    data_flag = np.zeros((n, episode), dtype=int)\n",
    "    release_flag = np.zeros((n, episode), dtype=int)\n",
    "    pid_error = np.zeros((n, episode), dtype=float)\n",
    "\n",
    "    util = []\n",
    "    for t in range(episode):\n",
    "        data = df.loc[df['Date']==current_time]\n",
    "        private_freq = np.zeros(d)\n",
    "        true_freq = np.zeros(d)\n",
    "        for row in data.itertuples():\n",
    "            true_freq[row.inc_id] += 1\n",
    "            data_flag[row.inc_id][t] = 1\n",
    "            # release_flag = np.random.binomial(1, ratio)\n",
    "            release_budget = epsilon/(w*ratio[row.id])\n",
    "            remain = epsilon - window[row.id][max(0, t-w+1):t].sum()\n",
    "            if (remain < release_budget): # or (release_flag == False):\n",
    "                release_budget = 0\n",
    "            if release_budget > 0:\n",
    "                # randomization\n",
    "                exp_prob = np.exp(-release_budget*p_mat[row.inc_id]/2)\n",
    "                exp_prob /= exp_prob.sum()\n",
    "                private_inc = np.random.choice(universe, p=exp_prob)\n",
    "                # update window\n",
    "                window[row.id][t] = release_budget\n",
    "                storage[row.id].append(private_inc)\n",
    "                release_flag[row.inc_id][t] = 1\n",
    "            else:\n",
    "                private_inc = storage[row.id][len(storage[row.id])-1]\n",
    "            private_freq[private_inc] += 1\n",
    "        if t > w:\n",
    "            data_num = data_flag[:, max(0, t-w+1):t].sum(axis=1)\n",
    "            release_num = release_flag[:, max(0, t-w+1):t].sum(axis=1)\n",
    "            pid_error[:, t] = abs(data_num/w)\n",
    "            error = np.sign(pid_error[:, t])*(1*pid_error[:, t] + 0.0*pid_error[:, max(0, t-w+1):t].sum(axis=1)/min(w, t) + 0.02*(pid_error[:, t] - pid_error[:, t-1]))\n",
    "            ratio = np.clip(error, 1/w, 1)\n",
    "        current_time += interval\n",
    "        # skip empty timestamp\n",
    "        if np.all(true_freq == 0):\n",
    "            continue\n",
    "        util.append(RMSE(true_freq, private_freq))\n",
    "    print(np.mean(util))"
   ]
  },
  {
   "cell_type": "code",
   "execution_count": 72,
   "metadata": {},
   "outputs": [
    {
     "data": {
      "text/plain": [
       "array([29, 29, 29, 28, 27, 26, 25, 26, 24, 20, 18, 23, 20, 20, 17, 20, 16,\n",
       "       19, 18, 16, 17, 15, 17, 15, 14, 17, 19, 14, 15, 17, 13, 13, 14, 15,\n",
       "       10, 16, 13, 12, 14, 13, 11, 12,  8, 12, 13, 13, 12, 13, 11,  6,  8,\n",
       "       10, 12, 12, 11, 12,  7, 11, 10,  9,  8, 12,  9,  8,  9, 10,  7,  8,\n",
       "        6,  6,  7,  7,  6,  6,  8,  7,  6,  8, 10,  5,  9,  8,  3,  7,  6,\n",
       "        6,  5,  5,  5,  4,  3,  4,  2,  6,  4,  5,  4,  7,  4, 17])"
      ]
     },
     "execution_count": 72,
     "metadata": {},
     "output_type": "execute_result"
    }
   ],
   "source": [
    "release_num[0:100]"
   ]
  },
  {
   "cell_type": "code",
   "execution_count": 43,
   "metadata": {},
   "outputs": [
    {
     "data": {
      "text/plain": [
       "array([1., 1., 1., 1., 1., 1., 1., 1., 1., 1., 1., 1., 1., 1., 1., 1., 1.,\n",
       "       1., 1., 1., 1., 1., 1., 1., 1., 1., 1., 1., 1., 1., 1., 1., 1., 1.,\n",
       "       1., 1., 1., 1., 1., 1., 1., 1., 1., 1., 1., 1., 1., 1., 1., 1., 1.,\n",
       "       1., 1., 1., 1., 1., 1., 1., 1., 1., 1., 1., 1., 1., 1., 1., 1., 1.,\n",
       "       1., 1., 1., 1., 1., 1., 1., 1., 1., 1., 1., 1., 1., 1., 1., 1., 1.,\n",
       "       1., 1., 1., 1., 1., 1., 1., 1., 1., 1., 1., 1., 1., 1., 1.])"
      ]
     },
     "execution_count": 43,
     "metadata": {},
     "output_type": "execute_result"
    }
   ],
   "source": [
    "ratio[0:100]"
   ]
  },
  {
   "cell_type": "markdown",
   "metadata": {},
   "source": [
    "## Local BD"
   ]
  },
  {
   "cell_type": "code",
   "execution_count": 11,
   "metadata": {},
   "outputs": [
    {
     "name": "stdout",
     "output_type": "stream",
     "text": [
      "22.26886177461686\n",
      "24.473443491906014\n",
      "28.68416119498903\n",
      "37.60701168326304\n",
      "45.713970798055065\n",
      "53.27272045023384\n",
      "51.42421061534478\n",
      "52.59440452276471\n",
      "58.355473308654375\n",
      "65.84586202572883\n",
      "74.93010758525695\n"
     ]
    }
   ],
   "source": [
    "# for epsilon in epsilon_range:\n",
    "for w in w_range:\n",
    "    window = np.zeros((n, episode), dtype=float)\n",
    "    # historical data\n",
    "    storage = [[] for _ in range(n)]\n",
    "\n",
    "    current_time = start_time\n",
    "\n",
    "    util = []\n",
    "    for t in range(episode):\n",
    "        data = df.loc[df['Date']==current_time]\n",
    "        private_freq = np.zeros(d)\n",
    "        true_freq = np.zeros(d)\n",
    "        for row in data.itertuples():\n",
    "            true_freq[row.inc_id] += 1\n",
    "            # decision\n",
    "            if storage[row.id]:\n",
    "                last_release = storage[row.id][len(storage[row.id]) - 1]\n",
    "                distance = abs(row.inc_id - last_release)\n",
    "                decision_budget = epsilon/(2*w)\n",
    "                # add noise to distance\n",
    "                private_distance = np.random.laplace(0, 1/decision_budget)\n",
    "                remain = epsilon/2 - window[row.id][max(0, t-w+1):t].sum()\n",
    "                release_budget = remain/2\n",
    "                if private_distance > 1/release_budget:\n",
    "                    # randomization\n",
    "                    exp_prob = np.exp(-release_budget*p_mat[row.inc_id]/2)\n",
    "                    exp_prob /= exp_prob.sum()\n",
    "                    private_inc = np.random.choice(universe, p=exp_prob)\n",
    "                    # update window\n",
    "                    window[row.id][t] = release_budget\n",
    "                    storage[row.id].append(private_inc)\n",
    "                else:\n",
    "                    private_inc = storage[row.id][len(storage[row.id])-1]\n",
    "            # if never released\n",
    "            else:\n",
    "                # randomization\n",
    "                release_budget = epsilon/(2*w)\n",
    "                exp_prob = np.abs(row.inc_id - universe)\n",
    "                exp_prob = np.exp(-release_budget*exp_prob/2)\n",
    "                exp_prob /= exp_prob.sum()\n",
    "                private_inc = np.random.choice(universe, p=exp_prob)\n",
    "                # update window\n",
    "                window[row.id][t] = release_budget\n",
    "                storage[row.id].append(private_inc)\n",
    "            private_freq[private_inc] += 1\n",
    "        current_time += interval\n",
    "        # skip empty timestamp\n",
    "        if np.all(true_freq == 0):\n",
    "            continue\n",
    "        util.append(RMSE(true_freq, private_freq))\n",
    "    print(np.mean(util))"
   ]
  },
  {
   "cell_type": "markdown",
   "metadata": {},
   "source": [
    "## Local BA"
   ]
  },
  {
   "cell_type": "code",
   "execution_count": 12,
   "metadata": {},
   "outputs": [
    {
     "name": "stdout",
     "output_type": "stream",
     "text": [
      "37.499268771373956\n",
      "40.72965282272017\n",
      "59.69460465201004\n",
      "50.82509015149092\n",
      "66.65918737652456\n",
      "76.05012037000797\n",
      "80.25902257804744\n",
      "77.64921599135316\n",
      "79.97346069463043\n",
      "84.6781827519912\n",
      "87.44776170345096\n"
     ]
    }
   ],
   "source": [
    "# for epsilon in epsilon_range:\n",
    "for w in w_range:\n",
    "    window = np.zeros((n, episode), dtype=float)\n",
    "    # historical data\n",
    "    storage = [[] for _ in range(n)]\n",
    "\n",
    "    current_time = start_time\n",
    "\n",
    "    util = []\n",
    "    for t in range(episode):\n",
    "        data = df.loc[df['Date']==current_time]\n",
    "        private_freq = np.zeros(d)\n",
    "        true_freq = np.zeros(d)\n",
    "        for row in data.itertuples():\n",
    "            true_freq[row.inc_id] += 1\n",
    "            # decision\n",
    "            if storage[row.id]:\n",
    "                last_release = storage[row.id][len(storage[row.id]) - 1]\n",
    "                distance = abs(row.inc_id - last_release)\n",
    "                decision_budget = epsilon/(2*w)\n",
    "                # add noise to distance\n",
    "                private_distance = np.random.laplace(0, 1/decision_budget)\n",
    "                remain = epsilon/2 - window[row.id][max(0, t-w+1):t].sum()\n",
    "                release_budget = remain\n",
    "                if release_budget > 0 and private_distance > 1/release_budget:\n",
    "                    # randomization\n",
    "                    exp_prob = np.exp(-release_budget*p_mat[row.inc_id]/2)\n",
    "                    exp_prob /= exp_prob.sum()\n",
    "                    private_inc = np.random.choice(universe, p=exp_prob)\n",
    "                    # update window\n",
    "                    window[row.id][t] = release_budget\n",
    "                    storage[row.id].append(private_inc)\n",
    "                else:\n",
    "                    private_inc = storage[row.id][len(storage[row.id])-1]\n",
    "            # if never released\n",
    "            else:\n",
    "                # randomization\n",
    "                release_budget = epsilon/(2*w)\n",
    "                exp_prob = np.abs(row.inc_id - universe)\n",
    "                exp_prob = np.exp(-release_budget*exp_prob/2)\n",
    "                exp_prob /= exp_prob.sum()\n",
    "                private_inc = np.random.choice(universe, p=exp_prob)\n",
    "                # update window\n",
    "                window[row.id][t] = release_budget\n",
    "                storage[row.id].append(private_inc)\n",
    "            private_freq[private_inc] += 1\n",
    "        current_time += interval\n",
    "        # skip empty timestamp\n",
    "        if np.all(true_freq == 0):\n",
    "            continue\n",
    "        util.append(RMSE(true_freq, private_freq))\n",
    "    print(np.mean(util))"
   ]
  },
  {
   "cell_type": "markdown",
   "metadata": {},
   "source": [
    "## Local-DSFT"
   ]
  },
  {
   "cell_type": "code",
   "execution_count": 193,
   "metadata": {},
   "outputs": [
    {
     "name": "stdout",
     "output_type": "stream",
     "text": [
      "58234.320689655186\n",
      "58197.58252873563\n",
      "58025.62298850576\n",
      "57952.11862068966\n",
      "57770.80551724138\n",
      "57663.61931034484\n",
      "57653.30206896552\n",
      "57478.08160919541\n",
      "57259.97586206897\n",
      "57142.65425287357\n"
     ]
    }
   ],
   "source": [
    "for epsilon in epsilon_range:\n",
    "    threshold = 10\n",
    "    ratio = 0.5\n",
    "    window = np.zeros((n, episode), dtype=float)\n",
    "    # historical data\n",
    "    storage = [[] for _ in range(n)]\n",
    "\n",
    "    current_time = start_time\n",
    "\n",
    "    util = []\n",
    "    for t in range(episode):\n",
    "        data = df.loc[df['Date']==current_time]\n",
    "        private_freq = np.zeros(d)\n",
    "        true_freq = np.zeros(d)\n",
    "        for row in data.itertuples():\n",
    "            true_freq[row.inc_id] += 1\n",
    "            # decision\n",
    "            if storage[row.id]:\n",
    "                last_release = storage[row.id][len(storage[row.id]) - 1]\n",
    "                distance = abs(row.inc_id - last_release)\n",
    "                decision_budget = epsilon/(2*w)\n",
    "                # add noise to distance\n",
    "                private_distance = np.random.laplace(0, 1/decision_budget)\n",
    "                remain = epsilon/2 - window[row.id][max(0, t-w+1):t].sum()\n",
    "                release_budget = epsilon/(2*w*ratio)\n",
    "                if remain > 0 and remain > release_budget and private_distance > threshold:\n",
    "                    # randomization\n",
    "                    exp_prob = np.abs(row.inc_id - universe)\n",
    "                    exp_prob = np.exp(-release_budget*exp_prob/2)\n",
    "                    exp_prob /= exp_prob.sum()\n",
    "                    private_inc = np.random.choice(universe, p=exp_prob)\n",
    "                    # update window\n",
    "                    window[row.id][t] = release_budget\n",
    "                    storage[row.id].append(private_inc)\n",
    "                else:\n",
    "                    private_inc = storage[row.id][len(storage[row.id])-1]\n",
    "            # if never released\n",
    "            else:\n",
    "                # randomization\n",
    "                release_budget = epsilon/(2*w)\n",
    "                exp_prob = np.abs(row.inc_id - universe)\n",
    "                exp_prob = np.exp(-release_budget*exp_prob/2)\n",
    "                exp_prob /= exp_prob.sum()\n",
    "                private_inc = np.random.choice(universe, p=exp_prob)\n",
    "                # update window\n",
    "                window[row.id][t] = release_budget\n",
    "                storage[row.id].append(private_inc)\n",
    "            private_freq[private_inc] += 1\n",
    "        current_time += interval\n",
    "        # skip empty timestamp\n",
    "        if np.all(true_freq == 0):\n",
    "            continue\n",
    "        util.append(MSE(true_freq, private_freq))\n",
    "    print(np.mean(util))"
   ]
  },
  {
   "cell_type": "code",
   "execution_count": 9,
   "metadata": {},
   "outputs": [
    {
     "name": "stdout",
     "output_type": "stream",
     "text": [
      "25.1315464937389\n"
     ]
    },
    {
     "ename": "KeyboardInterrupt",
     "evalue": "",
     "output_type": "error",
     "traceback": [
      "\u001b[0;31m---------------------------------------------------------------------------\u001b[0m",
      "\u001b[0;31mKeyboardInterrupt\u001b[0m                         Traceback (most recent call last)",
      "\u001b[0;32m/tmp/ipykernel_28573/1347452505.py\u001b[0m in \u001b[0;36m<module>\u001b[0;34m\u001b[0m\n\u001b[1;32m     25\u001b[0m         \u001b[0;32mfor\u001b[0m \u001b[0mrow\u001b[0m \u001b[0;32min\u001b[0m \u001b[0mdata\u001b[0m\u001b[0;34m.\u001b[0m\u001b[0mitertuples\u001b[0m\u001b[0;34m(\u001b[0m\u001b[0;34m)\u001b[0m\u001b[0;34m:\u001b[0m\u001b[0;34m\u001b[0m\u001b[0;34m\u001b[0m\u001b[0m\n\u001b[1;32m     26\u001b[0m             \u001b[0mtrue_freq\u001b[0m\u001b[0;34m[\u001b[0m\u001b[0mrow\u001b[0m\u001b[0;34m.\u001b[0m\u001b[0minc_id\u001b[0m\u001b[0;34m]\u001b[0m \u001b[0;34m+=\u001b[0m \u001b[0;36m1\u001b[0m\u001b[0;34m\u001b[0m\u001b[0;34m\u001b[0m\u001b[0m\n\u001b[0;32m---> 27\u001b[0;31m         \u001b[0mprivate_freq\u001b[0m \u001b[0;34m=\u001b[0m \u001b[0mOLH\u001b[0m\u001b[0;34m(\u001b[0m\u001b[0mdata\u001b[0m\u001b[0;34m[\u001b[0m\u001b[0;34m'inc_id'\u001b[0m\u001b[0;34m]\u001b[0m\u001b[0;34m.\u001b[0m\u001b[0mto_numpy\u001b[0m\u001b[0;34m(\u001b[0m\u001b[0;34m)\u001b[0m\u001b[0;34m,\u001b[0m \u001b[0;36m2.8878509998321533\u001b[0m\u001b[0;34m)\u001b[0m\u001b[0;34m\u001b[0m\u001b[0;34m\u001b[0m\u001b[0m\n\u001b[0m\u001b[1;32m     28\u001b[0m         \u001b[0mcurrent_time\u001b[0m \u001b[0;34m+=\u001b[0m \u001b[0minterval\u001b[0m\u001b[0;34m\u001b[0m\u001b[0;34m\u001b[0m\u001b[0m\n\u001b[1;32m     29\u001b[0m         \u001b[0;31m# skip empty timestamp\u001b[0m\u001b[0;34m\u001b[0m\u001b[0;34m\u001b[0m\u001b[0;34m\u001b[0m\u001b[0m\n",
      "\u001b[0;32m/tmp/ipykernel_28573/1347452505.py\u001b[0m in \u001b[0;36mOLH\u001b[0;34m(data, epsilon)\u001b[0m\n\u001b[1;32m     12\u001b[0m             \u001b[0mprivate_data\u001b[0m \u001b[0;34m=\u001b[0m \u001b[0mnp\u001b[0m\u001b[0;34m.\u001b[0m\u001b[0mrandom\u001b[0m\u001b[0;34m.\u001b[0m\u001b[0mrandint\u001b[0m\u001b[0;34m(\u001b[0m\u001b[0;36m0\u001b[0m\u001b[0;34m,\u001b[0m \u001b[0mg\u001b[0m\u001b[0;34m)\u001b[0m\u001b[0;34m\u001b[0m\u001b[0;34m\u001b[0m\u001b[0m\n\u001b[1;32m     13\u001b[0m         \u001b[0;32mfor\u001b[0m \u001b[0mj\u001b[0m \u001b[0;32min\u001b[0m \u001b[0mrange\u001b[0m\u001b[0;34m(\u001b[0m\u001b[0md\u001b[0m\u001b[0;34m)\u001b[0m\u001b[0;34m:\u001b[0m\u001b[0;34m\u001b[0m\u001b[0;34m\u001b[0m\u001b[0m\n\u001b[0;32m---> 14\u001b[0;31m             \u001b[0;32mif\u001b[0m \u001b[0mprivate_data\u001b[0m \u001b[0;34m==\u001b[0m \u001b[0;34m(\u001b[0m\u001b[0mxxh32\u001b[0m\u001b[0;34m(\u001b[0m\u001b[0mstr\u001b[0m\u001b[0;34m(\u001b[0m\u001b[0mj\u001b[0m\u001b[0;34m)\u001b[0m\u001b[0;34m,\u001b[0m \u001b[0mseed\u001b[0m\u001b[0;34m=\u001b[0m\u001b[0mi\u001b[0m\u001b[0;34m)\u001b[0m\u001b[0;34m.\u001b[0m\u001b[0mintdigest\u001b[0m\u001b[0;34m(\u001b[0m\u001b[0;34m)\u001b[0m \u001b[0;34m%\u001b[0m \u001b[0mg\u001b[0m\u001b[0;34m)\u001b[0m\u001b[0;34m:\u001b[0m\u001b[0;34m\u001b[0m\u001b[0;34m\u001b[0m\u001b[0m\n\u001b[0m\u001b[1;32m     15\u001b[0m                 \u001b[0maggregated_data\u001b[0m\u001b[0;34m[\u001b[0m\u001b[0mj\u001b[0m\u001b[0;34m]\u001b[0m \u001b[0;34m+=\u001b[0m  \u001b[0;36m1\u001b[0m\u001b[0;34m\u001b[0m\u001b[0;34m\u001b[0m\u001b[0m\n\u001b[1;32m     16\u001b[0m     \u001b[0;32mreturn\u001b[0m \u001b[0;34m(\u001b[0m\u001b[0mg\u001b[0m\u001b[0;34m*\u001b[0m\u001b[0maggregated_data\u001b[0m \u001b[0;34m-\u001b[0m \u001b[0mlen\u001b[0m\u001b[0;34m(\u001b[0m\u001b[0mdata\u001b[0m\u001b[0;34m)\u001b[0m\u001b[0;34m)\u001b[0m\u001b[0;34m/\u001b[0m\u001b[0;34m(\u001b[0m\u001b[0mp\u001b[0m\u001b[0;34m*\u001b[0m\u001b[0mg\u001b[0m \u001b[0;34m-\u001b[0m \u001b[0;36m1\u001b[0m\u001b[0;34m)\u001b[0m\u001b[0;34m\u001b[0m\u001b[0;34m\u001b[0m\u001b[0m\n",
      "\u001b[0;31mKeyboardInterrupt\u001b[0m: "
     ]
    }
   ],
   "source": [
    "from xxhash import xxh32\n",
    "\n",
    "def OLH(data, epsilon):\n",
    "    global d\n",
    "    g = int(round(exp(epsilon))) + 1\n",
    "    p = exp(epsilon)/(exp(epsilon) + g - 1)\n",
    "    q = 1/(exp(epsilon) + g - 1)\n",
    "    aggregated_data = np.zeros(d)\n",
    "    for i, item in enumerate(data):\n",
    "        private_data = (xxh32(str(item), seed=i).intdigest() % g)\n",
    "        if np.random.random_sample() > p - q:\n",
    "            private_data = np.random.randint(0, g)\n",
    "        for j in range(d):\n",
    "            if private_data == (xxh32(str(j), seed=i).intdigest() % g):\n",
    "                aggregated_data[j] +=  1\n",
    "    return (g*aggregated_data - len(data))/(p*g - 1)\n",
    "\n",
    "for epsilon in epsilon_range:\n",
    "    current_time = start_time\n",
    "\n",
    "    util = []\n",
    "    for t in range(episode):\n",
    "        data = df.loc[df['Date']==current_time]\n",
    "        true_freq = np.zeros(d)\n",
    "        for row in data.itertuples():\n",
    "            true_freq[row.inc_id] += 1\n",
    "        private_freq = OLH(data['inc_id'].to_numpy(), 2.8878509998321533)\n",
    "        current_time += interval\n",
    "        # skip empty timestamp\n",
    "        if np.all(true_freq == 0):\n",
    "            continue\n",
    "        util.append(RMSE(true_freq, private_freq))\n",
    "    print(np.mean(util))"
   ]
  },
  {
   "cell_type": "code",
   "execution_count": 19,
   "metadata": {},
   "outputs": [
    {
     "data": {
      "text/plain": [
       "30"
      ]
     },
     "execution_count": 19,
     "metadata": {},
     "output_type": "execute_result"
    }
   ],
   "source": [
    "w"
   ]
  },
  {
   "cell_type": "code",
   "execution_count": 21,
   "metadata": {},
   "outputs": [
    {
     "data": {
      "text/plain": [
       "86"
      ]
     },
     "execution_count": 21,
     "metadata": {},
     "output_type": "execute_result"
    }
   ],
   "source": [
    "t"
   ]
  }
 ],
 "metadata": {
  "interpreter": {
   "hash": "409d79f584d77d57e2dbb84fcdd0962d4614d97ad86df9edb73670019bd67d65"
  },
  "kernelspec": {
   "display_name": "Python 3.8.11 64-bit ('ldp': conda)",
   "name": "python3"
  },
  "language_info": {
   "codemirror_mode": {
    "name": "ipython",
    "version": 3
   },
   "file_extension": ".py",
   "mimetype": "text/x-python",
   "name": "python",
   "nbconvert_exporter": "python",
   "pygments_lexer": "ipython3",
   "version": "3.8.11"
  },
  "orig_nbformat": 4
 },
 "nbformat": 4,
 "nbformat_minor": 2
}
