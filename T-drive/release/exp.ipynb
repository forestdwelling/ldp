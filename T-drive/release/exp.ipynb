{
 "cells": [
  {
   "cell_type": "code",
   "execution_count": 9,
   "metadata": {},
   "outputs": [
    {
     "data": {
      "text/html": [
       "<div>\n",
       "<style scoped>\n",
       "    .dataframe tbody tr th:only-of-type {\n",
       "        vertical-align: middle;\n",
       "    }\n",
       "\n",
       "    .dataframe tbody tr th {\n",
       "        vertical-align: top;\n",
       "    }\n",
       "\n",
       "    .dataframe thead th {\n",
       "        text-align: right;\n",
       "    }\n",
       "</style>\n",
       "<table border=\"1\" class=\"dataframe\">\n",
       "  <thead>\n",
       "    <tr style=\"text-align: right;\">\n",
       "      <th></th>\n",
       "      <th>date_time</th>\n",
       "      <th>taxi_id</th>\n",
       "      <th>location_id</th>\n",
       "      <th>x</th>\n",
       "      <th>y</th>\n",
       "    </tr>\n",
       "  </thead>\n",
       "  <tbody>\n",
       "    <tr>\n",
       "      <th>0</th>\n",
       "      <td>2008-02-02 13:30:00</td>\n",
       "      <td>366</td>\n",
       "      <td>380</td>\n",
       "      <td>17831.228067</td>\n",
       "      <td>10805.626231</td>\n",
       "    </tr>\n",
       "    <tr>\n",
       "      <th>1</th>\n",
       "      <td>2008-02-02 13:30:00</td>\n",
       "      <td>719</td>\n",
       "      <td>760</td>\n",
       "      <td>8664.893974</td>\n",
       "      <td>21113.999002</td>\n",
       "    </tr>\n",
       "    <tr>\n",
       "      <th>2</th>\n",
       "      <td>2008-02-02 13:30:00</td>\n",
       "      <td>875</td>\n",
       "      <td>876</td>\n",
       "      <td>5281.157698</td>\n",
       "      <td>24207.431410</td>\n",
       "    </tr>\n",
       "    <tr>\n",
       "      <th>3</th>\n",
       "      <td>2008-02-02 13:30:00</td>\n",
       "      <td>877</td>\n",
       "      <td>362</td>\n",
       "      <td>1999.227901</td>\n",
       "      <td>10717.910284</td>\n",
       "    </tr>\n",
       "    <tr>\n",
       "      <th>4</th>\n",
       "      <td>2008-02-02 13:30:00</td>\n",
       "      <td>950</td>\n",
       "      <td>274</td>\n",
       "      <td>4228.169328</td>\n",
       "      <td>8185.256271</td>\n",
       "    </tr>\n",
       "  </tbody>\n",
       "</table>\n",
       "</div>"
      ],
      "text/plain": [
       "            date_time  taxi_id  location_id             x             y\n",
       "0 2008-02-02 13:30:00      366          380  17831.228067  10805.626231\n",
       "1 2008-02-02 13:30:00      719          760   8664.893974  21113.999002\n",
       "2 2008-02-02 13:30:00      875          876   5281.157698  24207.431410\n",
       "3 2008-02-02 13:30:00      877          362   1999.227901  10717.910284\n",
       "4 2008-02-02 13:30:00      950          274   4228.169328   8185.256271"
      ]
     },
     "execution_count": 9,
     "metadata": {},
     "output_type": "execute_result"
    }
   ],
   "source": [
    "import pandas as pd\n",
    "\n",
    "df = pd.read_csv('xy_day.csv', \n",
    "    dtype={'taxi_id':int, 'location_id':int, 'date_time':object, 'x':float, 'y':float}, \n",
    "    parse_dates=['date_time'], \n",
    "    infer_datetime_format=True)\n",
    "df.head(5)"
   ]
  },
  {
   "cell_type": "code",
   "execution_count": 10,
   "metadata": {},
   "outputs": [
    {
     "data": {
      "text/html": [
       "<div>\n",
       "<style scoped>\n",
       "    .dataframe tbody tr th:only-of-type {\n",
       "        vertical-align: middle;\n",
       "    }\n",
       "\n",
       "    .dataframe tbody tr th {\n",
       "        vertical-align: top;\n",
       "    }\n",
       "\n",
       "    .dataframe thead th {\n",
       "        text-align: right;\n",
       "    }\n",
       "</style>\n",
       "<table border=\"1\" class=\"dataframe\">\n",
       "  <thead>\n",
       "    <tr style=\"text-align: right;\">\n",
       "      <th></th>\n",
       "      <th>x</th>\n",
       "      <th>y</th>\n",
       "    </tr>\n",
       "  </thead>\n",
       "  <tbody>\n",
       "    <tr>\n",
       "      <th>0</th>\n",
       "      <td>428.127048</td>\n",
       "      <td>416.366323</td>\n",
       "    </tr>\n",
       "    <tr>\n",
       "      <th>1</th>\n",
       "      <td>1284.381143</td>\n",
       "      <td>416.366323</td>\n",
       "    </tr>\n",
       "    <tr>\n",
       "      <th>2</th>\n",
       "      <td>2140.635234</td>\n",
       "      <td>416.366323</td>\n",
       "    </tr>\n",
       "    <tr>\n",
       "      <th>3</th>\n",
       "      <td>2996.889318</td>\n",
       "      <td>416.366323</td>\n",
       "    </tr>\n",
       "    <tr>\n",
       "      <th>4</th>\n",
       "      <td>3853.143393</td>\n",
       "      <td>416.366323</td>\n",
       "    </tr>\n",
       "  </tbody>\n",
       "</table>\n",
       "</div>"
      ],
      "text/plain": [
       "             x           y\n",
       "0   428.127048  416.366323\n",
       "1  1284.381143  416.366323\n",
       "2  2140.635234  416.366323\n",
       "3  2996.889318  416.366323\n",
       "4  3853.143393  416.366323"
      ]
     },
     "execution_count": 10,
     "metadata": {},
     "output_type": "execute_result"
    }
   ],
   "source": [
    "loc = pd.read_csv('xy_loc.csv')\n",
    "loc.head(5)"
   ]
  },
  {
   "cell_type": "code",
   "execution_count": 11,
   "metadata": {},
   "outputs": [],
   "source": [
    "def mean_absolute_error(freq, est_freq):\n",
    "    return (abs(freq - est_freq)).mean()\n",
    "def mean_relative_error(freq, est_freq):\n",
    "    freq /= freq.sum()\n",
    "    est_freq /= est_freq.sum()\n",
    "    return (abs(freq - est_freq)/(freq + np.finfo(np.float32).eps)).mean()\n",
    "def jaccard_index(freq, est_freq, k):\n",
    "    top_k = np.argpartition(-freq, k)[:k]\n",
    "    est_top_k = np.argpartition(-est_freq, k)[:k]\n",
    "    return len(np.intersect1d(top_k, est_top_k))/len(np.union1d(top_k, est_top_k))\n",
    "def MSE(freq, est_freq):\n",
    "    return (np.square(freq - est_freq)).mean()\n",
    "def RMSE(freq, est_freq):\n",
    "    return np.sqrt((np.square(freq - est_freq)).mean())"
   ]
  },
  {
   "cell_type": "code",
   "execution_count": 12,
   "metadata": {},
   "outputs": [],
   "source": [
    "import numpy as np\n",
    "from math import exp\n",
    "\n",
    "from tqdm import trange\n",
    "\n",
    "n = 10357\n",
    "episode = 1440\n",
    "d = 900\n",
    "universe = np.arange(d)\n",
    "\n",
    "interval = pd.Timedelta('1min')\n",
    "current_time = pd.Timestamp('2008-02-02 13:30:00')\n",
    "\n",
    "w = 100\n",
    "epsilon_range = [0.1, 0.2, 0.3, 0.4, 0.5, 0.6, 0.7, 0.8, 0.9, 1]"
   ]
  },
  {
   "cell_type": "markdown",
   "metadata": {},
   "source": [
    "## Collective LDP - Last release approximation"
   ]
  },
  {
   "cell_type": "code",
   "execution_count": 27,
   "metadata": {},
   "outputs": [
    {
     "name": "stderr",
     "output_type": "stream",
     "text": [
      "100%|██████████| 1440/1440 [04:13<00:00,  5.69it/s]\n"
     ]
    },
    {
     "name": "stdout",
     "output_type": "stream",
     "text": [
      "3.135115805946792\n"
     ]
    },
    {
     "name": "stderr",
     "output_type": "stream",
     "text": [
      "100%|██████████| 1440/1440 [04:13<00:00,  5.67it/s]\n"
     ]
    },
    {
     "name": "stdout",
     "output_type": "stream",
     "text": [
      "2.5089718309859155\n"
     ]
    },
    {
     "name": "stderr",
     "output_type": "stream",
     "text": [
      "100%|██████████| 1440/1440 [04:13<00:00,  5.69it/s]\n"
     ]
    },
    {
     "name": "stdout",
     "output_type": "stream",
     "text": [
      "2.0872801251956186\n"
     ]
    },
    {
     "name": "stderr",
     "output_type": "stream",
     "text": [
      "100%|██████████| 1440/1440 [04:13<00:00,  5.69it/s]\n"
     ]
    },
    {
     "name": "stdout",
     "output_type": "stream",
     "text": [
      "1.7858043818466356\n"
     ]
    },
    {
     "name": "stderr",
     "output_type": "stream",
     "text": [
      "100%|██████████| 1440/1440 [04:11<00:00,  5.72it/s]\n"
     ]
    },
    {
     "name": "stdout",
     "output_type": "stream",
     "text": [
      "1.596758998435055\n"
     ]
    },
    {
     "name": "stderr",
     "output_type": "stream",
     "text": [
      "100%|██████████| 1440/1440 [04:05<00:00,  5.86it/s]\n"
     ]
    },
    {
     "name": "stdout",
     "output_type": "stream",
     "text": [
      "1.4657089201877933\n"
     ]
    },
    {
     "name": "stderr",
     "output_type": "stream",
     "text": [
      "100%|██████████| 1440/1440 [04:07<00:00,  5.83it/s]\n"
     ]
    },
    {
     "name": "stdout",
     "output_type": "stream",
     "text": [
      "1.3620469483568076\n"
     ]
    },
    {
     "name": "stderr",
     "output_type": "stream",
     "text": [
      "100%|██████████| 1440/1440 [04:09<00:00,  5.77it/s]\n"
     ]
    },
    {
     "name": "stdout",
     "output_type": "stream",
     "text": [
      "1.3030516431924881\n"
     ]
    },
    {
     "name": "stderr",
     "output_type": "stream",
     "text": [
      "100%|██████████| 1440/1440 [04:13<00:00,  5.69it/s]\n"
     ]
    },
    {
     "name": "stdout",
     "output_type": "stream",
     "text": [
      "1.2447902973395932\n"
     ]
    },
    {
     "name": "stderr",
     "output_type": "stream",
     "text": [
      "100%|██████████| 1440/1440 [04:05<00:00,  5.86it/s]"
     ]
    },
    {
     "name": "stdout",
     "output_type": "stream",
     "text": [
      "1.2025805946791863\n"
     ]
    },
    {
     "name": "stderr",
     "output_type": "stream",
     "text": [
      "\n"
     ]
    }
   ],
   "source": [
    "for epsilon in epsilon_range:\n",
    "    threshold = 2000\n",
    "\n",
    "    window = np.zeros((n, episode), dtype=float)\n",
    "    # current window pointer\n",
    "    cwp = 0\n",
    "    # last-released window pointer\n",
    "    lwp = np.zeros(n, dtype=int)\n",
    "    # historical data\n",
    "    storage = [[] for _ in range(n)]\n",
    "\n",
    "    current_time = pd.Timestamp('2008-02-02 13:30:00')\n",
    "    interval = pd.Timedelta('1min')\n",
    "\n",
    "    util = []\n",
    "    release_flag_record = []\n",
    "    for t in trange(episode):\n",
    "        data = df.loc[df['date_time']==current_time][['location_id', 'taxi_id', 'x', 'y']]\n",
    "        private_freq = np.zeros(d)\n",
    "        true_freq = np.zeros(d)\n",
    "        for row in data.itertuples():\n",
    "            true_freq[row.location_id] += 1\n",
    "            # decision\n",
    "            if storage[row.taxi_id-1]:\n",
    "                last_release = storage[row.taxi_id-1][len(storage[row.taxi_id-1]) - 1]\n",
    "                distance = np.sqrt(np.square(row.x - loc.loc[last_release]['x']) + np.square(row.y - loc.loc[last_release]['y']))\n",
    "                release_flag = (distance > threshold)\n",
    "                decision_budget = epsilon/(2*w)\n",
    "                neg_prob = 1/(exp(decision_budget) + 1)\n",
    "                if np.random.random_sample() < neg_prob:\n",
    "                    release_flag = ~release_flag\n",
    "            # if never released\n",
    "            else:\n",
    "                release_flag = True\n",
    "            if release_flag:\n",
    "                # budget allocation\n",
    "                forward_projection = w - (cwp - lwp[row.taxi_id-1])\n",
    "                if storage[row.taxi_id-1] and forward_projection > 0:\n",
    "                    forward_budget = (epsilon/2 - window[row.taxi_id-1][lwp[row.taxi_id-1]])/forward_projection\n",
    "                    backward_budget = epsilon/2 - window[row.taxi_id-1][max(0, cwp-w+1):cwp].sum()\n",
    "                    release_budget = min(forward_budget, backward_budget)\n",
    "                # if never released or the last release is out of window\n",
    "                else:\n",
    "                    release_budget = epsilon/(2*w)\n",
    "                # randomization\n",
    "                exp_prob = np.sqrt(np.square(row.x - loc['x'].to_numpy()) + np.square(row.y - loc['y'].to_numpy()))\n",
    "                exp_prob = np.exp(-release_budget*exp_prob/2)\n",
    "                exp_prob /= exp_prob.sum()\n",
    "                private_loc = np.random.choice(universe, p=exp_prob)\n",
    "                # window update\n",
    "                window[row.taxi_id-1][cwp] = release_budget\n",
    "                storage[row.taxi_id-1].append(private_loc)\n",
    "                release_flag_record.append(row.taxi_id-1)\n",
    "                lwp[row.taxi_id-1] = cwp\n",
    "            else:\n",
    "                private_loc = last_release\n",
    "            private_freq[private_loc] += 1\n",
    "        cwp += 1\n",
    "        current_time += interval\n",
    "        # skip empty timestamp\n",
    "        if np.all(true_freq == 0):\n",
    "            continue\n",
    "        # util.append(mean_absolute_error(true_freq, private_freq))\n",
    "        # util.append(mean_relative_error(true_freq, private_freq))\n",
    "        # util.append(jaccard_index(true_freq, private_freq, 50))\n",
    "        util.append(MSE(true_freq, private_freq))\n",
    "    print(np.mean(util))\n",
    "\n",
    "# 0.3525844560900716"
   ]
  },
  {
   "cell_type": "markdown",
   "metadata": {},
   "source": [
    "## Collective LDP - Exponential approximation"
   ]
  },
  {
   "cell_type": "code",
   "execution_count": 158,
   "metadata": {},
   "outputs": [
    {
     "name": "stderr",
     "output_type": "stream",
     "text": [
      "100%|██████████| 1440/1440 [05:04<00:00,  4.73it/s]\n"
     ]
    },
    {
     "name": "stdout",
     "output_type": "stream",
     "text": [
      "0.156662100831409\n"
     ]
    },
    {
     "name": "stderr",
     "output_type": "stream",
     "text": [
      "100%|██████████| 1440/1440 [05:03<00:00,  4.75it/s]\n"
     ]
    },
    {
     "name": "stdout",
     "output_type": "stream",
     "text": [
      "0.2192400141554882\n"
     ]
    },
    {
     "name": "stderr",
     "output_type": "stream",
     "text": [
      "100%|██████████| 1440/1440 [05:02<00:00,  4.76it/s]\n"
     ]
    },
    {
     "name": "stdout",
     "output_type": "stream",
     "text": [
      "0.2761201850678324\n"
     ]
    },
    {
     "name": "stderr",
     "output_type": "stream",
     "text": [
      "100%|██████████| 1440/1440 [05:02<00:00,  4.77it/s]\n"
     ]
    },
    {
     "name": "stdout",
     "output_type": "stream",
     "text": [
      "0.3199088583260434\n"
     ]
    },
    {
     "name": "stderr",
     "output_type": "stream",
     "text": [
      "100%|██████████| 1440/1440 [05:02<00:00,  4.77it/s]\n"
     ]
    },
    {
     "name": "stdout",
     "output_type": "stream",
     "text": [
      "0.3525226460824986\n"
     ]
    },
    {
     "name": "stderr",
     "output_type": "stream",
     "text": [
      "100%|██████████| 1440/1440 [05:02<00:00,  4.76it/s]\n"
     ]
    },
    {
     "name": "stdout",
     "output_type": "stream",
     "text": [
      "0.3789033729787043\n"
     ]
    },
    {
     "name": "stderr",
     "output_type": "stream",
     "text": [
      "100%|██████████| 1440/1440 [05:02<00:00,  4.76it/s]\n"
     ]
    },
    {
     "name": "stdout",
     "output_type": "stream",
     "text": [
      "0.3957971479480156\n"
     ]
    },
    {
     "name": "stderr",
     "output_type": "stream",
     "text": [
      "100%|██████████| 1440/1440 [05:02<00:00,  4.76it/s]\n"
     ]
    },
    {
     "name": "stdout",
     "output_type": "stream",
     "text": [
      "0.4114764133861073\n"
     ]
    },
    {
     "name": "stderr",
     "output_type": "stream",
     "text": [
      "100%|██████████| 1440/1440 [05:02<00:00,  4.76it/s]\n"
     ]
    },
    {
     "name": "stdout",
     "output_type": "stream",
     "text": [
      "0.42339369858563686\n"
     ]
    },
    {
     "name": "stderr",
     "output_type": "stream",
     "text": [
      "100%|██████████| 1440/1440 [05:03<00:00,  4.74it/s]"
     ]
    },
    {
     "name": "stdout",
     "output_type": "stream",
     "text": [
      "0.43341965757238277\n"
     ]
    },
    {
     "name": "stderr",
     "output_type": "stream",
     "text": [
      "\n"
     ]
    }
   ],
   "source": [
    "for epsilon in epsilon_range:\n",
    "    threshold = 2000\n",
    "\n",
    "    window = np.zeros((n, episode), dtype=float)\n",
    "    # current window pointer\n",
    "    cwp = 0\n",
    "    # last-released window pointer\n",
    "    lwp = np.zeros(n, dtype=int)\n",
    "    # historical data\n",
    "    storage = [[] for _ in range(n)]\n",
    "\n",
    "    current_time = pd.Timestamp('2008-02-02 13:30:00')\n",
    "    interval = pd.Timedelta('1min')\n",
    "\n",
    "    util = []\n",
    "    release_flag_record = []\n",
    "    for t in trange(episode):\n",
    "        data = df.loc[df['date_time']==current_time][['location_id', 'taxi_id', 'x', 'y']]\n",
    "        private_freq = np.zeros(d)\n",
    "        true_freq = np.zeros(d)\n",
    "        for row in data.itertuples():\n",
    "            true_freq[row.location_id] += 1\n",
    "            # decision\n",
    "            if storage[row.taxi_id-1]:\n",
    "                last_release = storage[row.taxi_id-1][len(storage[row.taxi_id-1]) - 1]\n",
    "                distance = np.sqrt(np.square(row.x - loc.loc[last_release]['x']) + np.square(row.y - loc.loc[last_release]['y']))\n",
    "                release_flag = (distance > threshold)\n",
    "                decision_budget = epsilon/(4*w)\n",
    "                neg_prob = 1/(exp(decision_budget) + 1)\n",
    "                if np.random.random_sample() < neg_prob:\n",
    "                    release_flag = ~release_flag\n",
    "            # if never released\n",
    "            else:\n",
    "                release_flag = True\n",
    "            if release_flag:\n",
    "                # budget allocation\n",
    "                forward_projection = w - (cwp - lwp[row.taxi_id-1])\n",
    "                if storage[row.taxi_id-1] and forward_projection > 0:\n",
    "                    forward_budget = (epsilon/2 - window[row.taxi_id-1][lwp[row.taxi_id-1]])/forward_projection\n",
    "                    backward_budget = epsilon/2 - window[row.taxi_id-1][max(0, cwp-w+1):cwp].sum()\n",
    "                    release_budget = min(forward_budget, backward_budget)\n",
    "                # if never released or the last release is out of window\n",
    "                else:\n",
    "                    release_budget = epsilon/(2*w)\n",
    "                # randomization\n",
    "                exp_prob = np.sqrt(np.square(row.x - loc['x'].to_numpy()) + np.square(row.y - loc['y'].to_numpy()))\n",
    "                exp_prob = np.exp(-release_budget*exp_prob/2)\n",
    "                exp_prob /= exp_prob.sum()\n",
    "                private_loc = np.random.choice(universe, p=exp_prob)\n",
    "                # window update\n",
    "                window[row.taxi_id-1][cwp] = release_budget\n",
    "                storage[row.taxi_id-1].append(private_loc)\n",
    "                release_flag_record.append(row.taxi_id-1)\n",
    "                lwp[row.taxi_id-1] = cwp\n",
    "            else:\n",
    "                approximate_budget = epsilon/(4*w)\n",
    "                historical_loc = np.array(storage[row.taxi_id-1])\n",
    "                exp_prob = np.sqrt(np.square(row.x - loc['x'].to_numpy()[historical_loc]) + np.square(row.y - loc['y'].to_numpy()[historical_loc]))\n",
    "                historical_loc = historical_loc[exp_prob < threshold]\n",
    "                if historical_loc.size:\n",
    "                    exp_prob = exp_prob[exp_prob < threshold]\n",
    "                    exp_prob = np.exp(-approximate_budget*exp_prob/2)\n",
    "                    exp_prob /= exp_prob.sum()\n",
    "                    private_loc = np.random.choice(historical_loc, p=exp_prob)\n",
    "                else:\n",
    "                    private_loc = last_release\n",
    "            private_freq[private_loc] += 1\n",
    "        cwp += 1\n",
    "        current_time += interval\n",
    "        # skip empty timestamp\n",
    "        if np.all(true_freq == 0):\n",
    "            continue\n",
    "        # util.append(mean_absolute_error(true_freq, private_freq))\n",
    "        # util.append(mean_relative_error(true_freq, private_freq))\n",
    "        util.append(jaccard_index(true_freq, private_freq, 50))\n",
    "    print(np.mean(util))"
   ]
  },
  {
   "cell_type": "markdown",
   "metadata": {},
   "source": [
    "## Uniform"
   ]
  },
  {
   "cell_type": "code",
   "execution_count": 16,
   "metadata": {},
   "outputs": [
    {
     "name": "stdout",
     "output_type": "stream",
     "text": [
      "1.8621574457866668\n",
      "1.7452806163902295\n",
      "1.6370747647860837\n",
      "1.528595304413516\n",
      "1.427673939861924\n",
      "1.3311337320225285\n",
      "1.2442502550376726\n",
      "1.1683140149598417\n",
      "1.099611634626104\n",
      "1.0379934141131149\n"
     ]
    }
   ],
   "source": [
    "for epsilon in epsilon_range:\n",
    "    current_time = pd.Timestamp('2008-02-02 13:30:00')\n",
    "    interval = pd.Timedelta('1min')\n",
    "\n",
    "    util = []\n",
    "    for t in range(episode):\n",
    "        data = df.loc[df['date_time']==current_time][['location_id', 'taxi_id', 'x', 'y']]\n",
    "        private_freq = np.zeros(d)\n",
    "        true_freq = np.zeros(d)\n",
    "        for row in data.itertuples():\n",
    "            true_freq[row.location_id] += 1\n",
    "            # randomization\n",
    "            release_budget = epsilon/(w)\n",
    "            exp_prob = np.sqrt(np.square(row.x - loc['x'].to_numpy()) + np.square(row.y - loc['y'].to_numpy()))\n",
    "            exp_prob = np.exp(-release_budget*exp_prob/2)\n",
    "            exp_prob /= exp_prob.sum()\n",
    "            private_loc = np.random.choice(universe, p=exp_prob)\n",
    "            private_freq[private_loc] += 1\n",
    "        current_time += interval\n",
    "        # skip empty timestamp\n",
    "        if np.all(true_freq == 0):\n",
    "            continue\n",
    "        # util.append(mean_relative_error(true_freq, private_freq))\n",
    "        util.append(RMSE(true_freq, private_freq))\n",
    "    print(np.mean(util))"
   ]
  },
  {
   "cell_type": "markdown",
   "metadata": {},
   "source": [
    "## Fixed-sample"
   ]
  },
  {
   "cell_type": "code",
   "execution_count": 17,
   "metadata": {},
   "outputs": [
    {
     "name": "stdout",
     "output_type": "stream",
     "text": [
      "1.4803104846500792\n",
      "1.4778900764731269\n",
      "1.4760493551728913\n",
      "1.4755769920394697\n",
      "1.4759503333678552\n",
      "1.4759449074670627\n",
      "1.4760047270224907\n",
      "1.475526960443236\n",
      "1.4752019423179057\n",
      "1.475153008813341\n"
     ]
    }
   ],
   "source": [
    "for epsilon in epsilon_range:\n",
    "    window = np.zeros((n, episode), dtype=float)\n",
    "    # current window pointer\n",
    "    cwp = 0\n",
    "    # historical data\n",
    "    storage = [[] for _ in range(n)]\n",
    "\n",
    "    current_time = pd.Timestamp('2008-02-02 13:30:00')\n",
    "    interval = pd.Timedelta('1min')\n",
    "\n",
    "    util = []\n",
    "    for t in range(episode):\n",
    "        data = df.loc[df['date_time']==current_time][['location_id', 'taxi_id', 'x', 'y']]\n",
    "        private_freq = np.zeros(d)\n",
    "        true_freq = np.zeros(d)\n",
    "        for row in data.itertuples():\n",
    "            true_freq[row.location_id] += 1\n",
    "            # randomization\n",
    "            release_budget = epsilon\n",
    "            remain = epsilon - window[row.taxi_id-1][max(0, cwp-w+1):cwp].sum()\n",
    "            if remain < release_budget:\n",
    "                release_budget = 0\n",
    "            if release_budget:\n",
    "                exp_prob = np.sqrt(np.square(row.x - loc['x'].to_numpy()) + np.square(row.y - loc['y'].to_numpy()))\n",
    "                exp_prob = np.exp(-release_budget*exp_prob/2)\n",
    "                exp_prob /= exp_prob.sum()\n",
    "                private_loc = np.random.choice(universe, p=exp_prob)\n",
    "                # update window\n",
    "                window[row.taxi_id-1][cwp] = release_budget\n",
    "                storage[row.taxi_id-1].append(private_loc)\n",
    "            else:\n",
    "                private_loc = storage[row.taxi_id-1][len(storage[row.taxi_id-1])-1]\n",
    "            private_freq[private_loc] += 1\n",
    "        cwp += 1\n",
    "        current_time += interval\n",
    "        # skip empty timestamp\n",
    "        if np.all(true_freq == 0):\n",
    "            continue\n",
    "        # util.append(mean_relative_error(true_freq, private_freq))\n",
    "        util.append(RMSE(true_freq, private_freq))\n",
    "    print(np.mean(util))"
   ]
  },
  {
   "cell_type": "markdown",
   "metadata": {},
   "source": [
    "## Local-fixed-sample"
   ]
  },
  {
   "cell_type": "code",
   "execution_count": 18,
   "metadata": {},
   "outputs": [
    {
     "name": "stdout",
     "output_type": "stream",
     "text": [
      "1.724550610069075\n",
      "1.49116125783016\n",
      "1.2848402462871116\n",
      "1.1240654176685851\n",
      "1.006023064730827\n",
      "0.9201665325955123\n",
      "0.8547225786192085\n",
      "0.8001491352990454\n",
      "0.7609103265551864\n",
      "0.7220372069166153\n"
     ]
    }
   ],
   "source": [
    "for epsilon in epsilon_range:\n",
    "    window = np.zeros((n, episode), dtype=float)\n",
    "    # current window pointer\n",
    "    cwp = 0\n",
    "    # historical data\n",
    "    storage = [[] for _ in range(n)]\n",
    "\n",
    "    current_time = pd.Timestamp('2008-02-02 13:30:00')\n",
    "    interval = pd.Timedelta('1min')\n",
    "\n",
    "    util = []\n",
    "    for t in range(episode):\n",
    "        data = df.loc[df['date_time']==current_time][['location_id', 'taxi_id', 'x', 'y']]\n",
    "        private_freq = np.zeros(d)\n",
    "        true_freq = np.zeros(d)\n",
    "        for row in data.itertuples():\n",
    "            true_freq[row.location_id] += 1\n",
    "            # randomization\n",
    "            release_budget = epsilon/(w*0.45)\n",
    "            remain = epsilon - window[row.taxi_id-1][max(0, cwp-w+1):cwp].sum()\n",
    "            if remain < release_budget:\n",
    "                release_budget = 0\n",
    "            if release_budget:\n",
    "                exp_prob = np.sqrt(np.square(row.x - loc['x'].to_numpy()) + np.square(row.y - loc['y'].to_numpy()))\n",
    "                exp_prob = np.exp(-release_budget*exp_prob/2)\n",
    "                exp_prob /= exp_prob.sum()\n",
    "                private_loc = np.random.choice(universe, p=exp_prob)\n",
    "                # update window\n",
    "                window[row.taxi_id-1][cwp] = release_budget\n",
    "                storage[row.taxi_id-1].append(private_loc)\n",
    "            else:\n",
    "                private_loc = storage[row.taxi_id-1][len(storage[row.taxi_id-1])-1]\n",
    "            private_freq[private_loc] += 1\n",
    "        cwp += 1\n",
    "        current_time += interval\n",
    "        # skip empty timestamp\n",
    "        if np.all(true_freq == 0):\n",
    "            continue\n",
    "        # util.append(mean_relative_error(true_freq, private_freq))\n",
    "        util.append(RMSE(true_freq, private_freq))\n",
    "        # util.append(MSE(true_freq, private_freq))\n",
    "    print(np.mean(util))"
   ]
  },
  {
   "cell_type": "code",
   "execution_count": 19,
   "metadata": {},
   "outputs": [
    {
     "name": "stdout",
     "output_type": "stream",
     "text": [
      "1.7281827353046078\n",
      "1.502795741652681\n",
      "1.303236274821182\n",
      "1.1466035234095968\n",
      "1.0294713235305946\n",
      "0.9433298199476865\n",
      "0.8706365527829395\n",
      "0.8163456758447405\n",
      "0.769945273754162\n",
      "0.7329310113534024\n"
     ]
    }
   ],
   "source": [
    "for epsilon in epsilon_range:\n",
    "    window = np.zeros((n, episode), dtype=float)\n",
    "    # current window pointer\n",
    "    cwp = 0\n",
    "    # historical data\n",
    "    storage = [[] for _ in range(n)]\n",
    "    # adaptive allocation parameter\n",
    "    c = np.full(n, 0.45)\n",
    "    data_flag = np.zeros((n, episode), dtype=int)\n",
    "    release_flag = np.zeros((n, episode), dtype=int)\n",
    "    pid_error = np.zeros((n, episode), dtype=float)\n",
    "\n",
    "    current_time = pd.Timestamp('2008-02-02 13:30:00')\n",
    "    interval = pd.Timedelta('1min')\n",
    "\n",
    "    util = []\n",
    "    for t in range(episode):\n",
    "        data = df.loc[df['date_time']==current_time][['location_id', 'taxi_id', 'x', 'y']]\n",
    "        private_freq = np.zeros(d)\n",
    "        true_freq = np.zeros(d)\n",
    "        for row in data.itertuples():\n",
    "            true_freq[row.location_id] += 1\n",
    "            data_flag[row.taxi_id-1][cwp] = 1\n",
    "            # randomization\n",
    "            release_budget = epsilon/(w*c[row.taxi_id-1])\n",
    "            remain = epsilon - window[row.taxi_id-1][max(0, cwp-w+1):cwp].sum()\n",
    "            if remain < release_budget:\n",
    "                release_budget = 0\n",
    "            if release_budget:\n",
    "                exp_prob = np.sqrt(np.square(row.x - loc['x'].to_numpy()) + np.square(row.y - loc['y'].to_numpy()))\n",
    "                exp_prob = np.exp(-release_budget*exp_prob/2)\n",
    "                exp_prob /= exp_prob.sum()\n",
    "                private_loc = np.random.choice(universe, p=exp_prob)\n",
    "                # update window\n",
    "                window[row.taxi_id-1][cwp] = release_budget\n",
    "                storage[row.taxi_id-1].append(private_loc)\n",
    "                release_flag[row.taxi_id-1][cwp] = 1\n",
    "            else:\n",
    "                private_loc = storage[row.taxi_id-1][len(storage[row.taxi_id-1])-1]\n",
    "            private_freq[private_loc] += 1\n",
    "        if t > w:\n",
    "            data_num = data_flag[:, max(0, cwp-w+1):cwp].sum(axis=1)\n",
    "            release_num = release_flag[:, max(0, cwp-w+1):cwp].sum(axis=1)\n",
    "            pid_error[:, cwp] = abs((data_num - release_num - 0.01)/w)\n",
    "            error = np.sign((data_num - release_num - 0.01))*(0.1*pid_error[:, cwp] + 0.1*pid_error[:, max(0, cwp-w+1):cwp].sum(axis=1)/min(w, cwp) + 0.0*(pid_error[:, cwp] - pid_error[:, cwp-1]))\n",
    "            c += 1.0*error\n",
    "            c = np.clip(c, 1/w, 1)\n",
    "        cwp += 1\n",
    "        current_time += interval\n",
    "        # skip empty timestamp\n",
    "        if np.all(true_freq == 0):\n",
    "            continue\n",
    "        # util.append(mean_relative_error(true_freq, private_freq))\n",
    "        util.append(RMSE(true_freq, private_freq))\n",
    "    print(np.mean(util))"
   ]
  },
  {
   "cell_type": "markdown",
   "metadata": {},
   "source": [
    "## Budget distribution"
   ]
  },
  {
   "cell_type": "code",
   "execution_count": 20,
   "metadata": {},
   "outputs": [
    {
     "name": "stdout",
     "output_type": "stream",
     "text": [
      "1.6045505496088437\n",
      "1.454700027360074\n",
      "1.3779443302937995\n",
      "1.3263264373461572\n",
      "1.2897712958201637\n",
      "1.2619312016688298\n",
      "1.2385022476878011\n",
      "1.2214354835973216\n",
      "1.2074124096006096\n",
      "1.197303326540224\n"
     ]
    }
   ],
   "source": [
    "for epsilon in epsilon_range:\n",
    "    window = np.zeros((n, episode), dtype=float)\n",
    "    # historical data\n",
    "    storage = [[] for _ in range(n)]\n",
    "\n",
    "    current_time = pd.Timestamp('2008-02-02 13:30:00')\n",
    "    interval = pd.Timedelta('1min')\n",
    "\n",
    "    util = []\n",
    "    for t in range(episode):\n",
    "        data = df.loc[df['date_time']==current_time][['location_id', 'taxi_id', 'x', 'y']]\n",
    "        private_freq = np.zeros(d)\n",
    "        true_freq = np.zeros(d)\n",
    "        for row in data.itertuples():\n",
    "            true_freq[row.location_id] += 1\n",
    "            # decision\n",
    "            if storage[row.taxi_id-1]:\n",
    "                last_release = storage[row.taxi_id-1][len(storage[row.taxi_id-1]) - 1]\n",
    "                distance = abs(row.location_id - last_release)\n",
    "                decision_budget = epsilon/(2*w)\n",
    "                # add noise to distance\n",
    "                private_distance = np.random.laplace(0, 1/decision_budget)\n",
    "                remain = epsilon/2 - window[row.taxi_id-1][max(0, t-w+1):t].sum()\n",
    "                release_budget = remain/2\n",
    "                if private_distance > 1/release_budget:\n",
    "                    # randomization\n",
    "                    exp_prob = np.sqrt(np.square(row.x - loc['x'].to_numpy()) + np.square(row.y - loc['y'].to_numpy()))\n",
    "                    exp_prob = np.exp(-release_budget*exp_prob/2)\n",
    "                    exp_prob /= exp_prob.sum()\n",
    "                    private_loc = np.random.choice(universe, p=exp_prob)\n",
    "                    # update window\n",
    "                    window[row.taxi_id-1][t] = release_budget\n",
    "                    storage[row.taxi_id-1].append(private_loc)\n",
    "                else:\n",
    "                    private_loc = storage[row.taxi_id-1][len(storage[row.taxi_id-1])-1]\n",
    "            # if never released\n",
    "            else:\n",
    "                # randomization\n",
    "                release_budget = epsilon/(2*w)\n",
    "                exp_prob = np.abs(row.location_id - universe)\n",
    "                exp_prob = np.exp(-release_budget*exp_prob/2)\n",
    "                exp_prob /= exp_prob.sum()\n",
    "                private_loc = np.random.choice(universe, p=exp_prob)\n",
    "                # update window\n",
    "                window[row.taxi_id-1][t] = release_budget\n",
    "                storage[row.taxi_id-1].append(private_loc)\n",
    "            private_freq[private_loc] += 1\n",
    "        current_time += interval\n",
    "        # skip empty timestamp\n",
    "        if np.all(true_freq == 0):\n",
    "            continue\n",
    "        util.append(RMSE(true_freq, private_freq))\n",
    "    print(np.mean(util))"
   ]
  },
  {
   "cell_type": "markdown",
   "metadata": {},
   "source": [
    "## Budget absorption"
   ]
  },
  {
   "cell_type": "code",
   "execution_count": 21,
   "metadata": {},
   "outputs": [
    {
     "name": "stdout",
     "output_type": "stream",
     "text": [
      "1.4553565989736392\n",
      "1.4441003579580167\n",
      "1.4427859927159479\n",
      "1.442373068561457\n",
      "1.4403384545453828\n",
      "1.4388794470792299\n",
      "1.4404674102947403\n",
      "1.436580074345832\n",
      "1.44198777737203\n",
      "1.4398384665791104\n"
     ]
    }
   ],
   "source": [
    "for epsilon in epsilon_range:\n",
    "    window = np.zeros((n, episode), dtype=float)\n",
    "    # historical data\n",
    "    storage = [[] for _ in range(n)]\n",
    "\n",
    "    current_time = pd.Timestamp('2008-02-02 13:30:00')\n",
    "    interval = pd.Timedelta('1min')\n",
    "\n",
    "    util = []\n",
    "    for t in range(episode):\n",
    "        data = df.loc[df['date_time']==current_time][['location_id', 'taxi_id', 'x', 'y']]\n",
    "        private_freq = np.zeros(d)\n",
    "        true_freq = np.zeros(d)\n",
    "        for row in data.itertuples():\n",
    "            true_freq[row.location_id] += 1\n",
    "            # decision\n",
    "            if storage[row.taxi_id-1]:\n",
    "                last_release = storage[row.taxi_id-1][len(storage[row.taxi_id-1]) - 1]\n",
    "                distance = abs(row.location_id - last_release)\n",
    "                decision_budget = epsilon/(2*w)\n",
    "                # add noise to distance\n",
    "                private_distance = np.random.laplace(0, 1/decision_budget)\n",
    "                remain = epsilon/2 - window[row.taxi_id-1][max(0, t-w+1):t].sum()\n",
    "                release_budget = remain\n",
    "                if release_budget > 0 and private_distance > 1/release_budget:\n",
    "                    # randomization\n",
    "                    exp_prob = np.sqrt(np.square(row.x - loc['x'].to_numpy()) + np.square(row.y - loc['y'].to_numpy()))\n",
    "                    exp_prob = np.exp(-release_budget*exp_prob/2)\n",
    "                    exp_prob /= exp_prob.sum()\n",
    "                    private_loc = np.random.choice(universe, p=exp_prob)\n",
    "                    # update window\n",
    "                    window[row.taxi_id-1][t] = release_budget\n",
    "                    storage[row.taxi_id-1].append(private_loc)\n",
    "                else:\n",
    "                    private_loc = storage[row.taxi_id-1][len(storage[row.taxi_id-1])-1]\n",
    "            # if never released\n",
    "            else:\n",
    "                # randomization\n",
    "                release_budget = epsilon/(2*w)\n",
    "                exp_prob = np.abs(row.location_id - universe)\n",
    "                exp_prob = np.exp(-release_budget*exp_prob/2)\n",
    "                exp_prob /= exp_prob.sum()\n",
    "                private_loc = np.random.choice(universe, p=exp_prob)\n",
    "                # update window\n",
    "                window[row.taxi_id-1][t] = release_budget\n",
    "                storage[row.taxi_id-1].append(private_loc)\n",
    "            private_freq[private_loc] += 1\n",
    "        current_time += interval\n",
    "        # skip empty timestamp\n",
    "        if np.all(true_freq == 0):\n",
    "            continue\n",
    "        util.append(RMSE(true_freq, private_freq/;))\n",
    "    print(np.mean(util))"
   ]
  },
  {
   "cell_type": "code",
   "execution_count": 78,
   "metadata": {},
   "outputs": [
    {
     "data": {
      "text/plain": [
       "array([0.43676, 0.43676, 0.43676, ..., 0.43676, 0.43676, 0.43676])"
      ]
     },
     "execution_count": 78,
     "metadata": {},
     "output_type": "execute_result"
    }
   ],
   "source": [
    "c"
   ]
  },
  {
   "cell_type": "code",
   "execution_count": 74,
   "metadata": {},
   "outputs": [
    {
     "data": {
      "text/plain": [
       "0.402"
      ]
     },
     "execution_count": 74,
     "metadata": {},
     "output_type": "execute_result"
    }
   ],
   "source": [
    "0.45 - 144*0.01/30"
   ]
  }
 ],
 "metadata": {
  "interpreter": {
   "hash": "409d79f584d77d57e2dbb84fcdd0962d4614d97ad86df9edb73670019bd67d65"
  },
  "kernelspec": {
   "display_name": "Python 3.8.11 64-bit ('ldp': conda)",
   "name": "python3"
  },
  "language_info": {
   "codemirror_mode": {
    "name": "ipython",
    "version": 3
   },
   "file_extension": ".py",
   "mimetype": "text/x-python",
   "name": "python",
   "nbconvert_exporter": "python",
   "pygments_lexer": "ipython3",
   "version": "3.8.11"
  },
  "orig_nbformat": 4
 },
 "nbformat": 4,
 "nbformat_minor": 2
}
