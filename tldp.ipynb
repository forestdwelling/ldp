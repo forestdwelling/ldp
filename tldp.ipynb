{
 "cells": [
  {
   "cell_type": "code",
   "execution_count": 1,
   "source": [
    "from math import exp, sqrt, pi\n",
    "import numpy as np\n",
    "\n",
    "import matplotlib.pyplot as plt"
   ],
   "outputs": [],
   "metadata": {}
  },
  {
   "cell_type": "code",
   "execution_count": null,
   "source": [
    "def BPM(k, epsilon, data):\n",
    "    p = exp(epsilon/2)/(exp(epsilon/2) + k - 1)\n",
    "    q = 1/(exp(epsilon/2) + k - 1)\n",
    "    private_data = data\n",
    "    for i in range(len(data)):\n",
    "        if np.random.random_sample() > p - q:\n",
    "            private_data[i] = data[i - np.random.randint(0, min(i, k))]\n",
    "    return private_data\n",
    "\n",
    "def FPM(k, epsilon, data):\n",
    "    p = exp(epsilon/2)/(exp(epsilon/2) + k - 1)\n",
    "    q = 1/(exp(epsilon/2) + k - 1)\n",
    "    private_data = data\n",
    "    for i in range(len(data)):\n",
    "        if np.random.random_sample() > p - q:\n",
    "            idx = np.random.randint(i, min(len(data), i+k))\n",
    "            private_data[idx] = data[i]\n",
    "    return private_data\n",
    "\n",
    "def TM(k, c, data):\n",
    "    private_data = np.zero_like(data)\n",
    "    mask = np.zero_like(data)\n",
    "    for i in range(len(data)):\n",
    "        if mask[i: min(len(data), i+k)].sum() > c or mask[i] == 1:\n",
    "            l = i + np.random.choice(np.where(mask[i: min(len(data), i+k)]))\n",
    "            private_data[l] = data[i]\n",
    "            mask[l] = 1\n",
    "        else:\n",
    "            private_data[i] = data[i]\n",
    "            mask[i] = 1\n",
    "    return private_data"
   ],
   "outputs": [],
   "metadata": {}
  }
 ],
 "metadata": {
  "orig_nbformat": 4,
  "language_info": {
   "name": "python",
   "version": "3.8.11",
   "mimetype": "text/x-python",
   "codemirror_mode": {
    "name": "ipython",
    "version": 3
   },
   "pygments_lexer": "ipython3",
   "nbconvert_exporter": "python",
   "file_extension": ".py"
  },
  "kernelspec": {
   "name": "python3",
   "display_name": "Python 3.8.11 64-bit ('ldp': conda)"
  },
  "interpreter": {
   "hash": "3ab1aef511fa2a93501e996a950c9521aba6e7c87a2eabc8e3eba7db34c6004a"
  }
 },
 "nbformat": 4,
 "nbformat_minor": 2
}